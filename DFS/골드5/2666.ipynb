{
 "cells": [
  {
   "attachments": {},
   "cell_type": "markdown",
   "metadata": {},
   "source": [
    "# 벽장문의 이동 (https://www.acmicpc.net/problem/2666)\n",
    "\n",
    "## 문제\n",
    "n개의 같은 크기의 벽장들이 일렬로 붙어져 있고 벽장의 문은 n-2개만이 있다. 한 벽장 앞에 있는 문은 이웃 벽장 앞에 문이 없다면(즉, 벽장이 열려있다면) 그 벽장 앞으로 움직일 수 있다.\n",
    "\n",
    "그림은 7개의 벽장의 예이다. 그림에서 2번 벽장과 5번 벽장이 열려있고, 나머지 벽장은 닫혀 있다.  벽장 문은 좌우 어느 쪽이든 그 이웃 벽장이 열려 있다면 그 쪽으로 한 칸씩 이동할 수 있다. 그림에서 주어진 상태에서는 1번 벽장을 닫고 있는 벽장문을 오른쪽으로 한 칸 이동함으로써 1번 벽장을 사용할 수 있다. 이때 2번 벽장은 닫혀져 사용할 수 없다. 역시 5번 벽장이 열려 있으므로 4번 벽장 또는 6번 벽장 앞의 벽장문을 5번 벽장 앞으로 이동시킬 수 있다.\n",
    "\n",
    "![image](https://www.acmicpc.net/upload/images/ZNqDSxxvtQyqjJsNjdl7zDoz25wBl.png)\n",
    "\n",
    "풀어야 할 문제는 입력으로 주어지는 사용할 벽장의 순서에 따라서 벽장문을 이동하는 순서를 찾는 것이다. 이때 벽장문의 이동횟수를 최소로 하여야 한다. 입력은 다음과 같이 주어지며, 열려있는 벽장의 개수는 항상 2개이다.\n",
    "\n",
    "예를 들어 사용할 벽장 순서가 3 1 6 5이면, 3번 앞의 문을 2번으로 옮겨서 3번 벽장을 사용하고(문 이동횟수=1), 다음에 1번과 2번 앞에 있는 문을 오른쪽으로 하나씩 옮겨서(문 이동횟수=2) 1번 벽장을 사용하며, 6번 앞에 있는 문을 왼쪽으로 옮겨서 6번 벽장을 사용하고(문 이동횟수=1), 다시 그 문을 오른쪽으로 옮겨서 5번 벽장을 사용한다(문 이동횟수=1), 따라서 문이 이동한 횟수의 합은 5이다.\n",
    "\n",
    "## 입력\n",
    "첫 번째 줄에 벽장의 개수를 나타내는 3보다 크고 20보다 작거나 같은 하나의 정수, 두 번째 줄에 초기에 열려있는 두 개의 벽장을 나타내는 두 개의 정수, 그리고 세 번째 줄에는 사용할 벽장들의 순서의 길이(최대 20), 그리고 그 다음줄부터 사용할 벽장의 번호가 한줄에 하나씩 순서대로 주어진다.\n",
    "\n",
    "## 출력\n",
    "벽장문의 최소 이동횟수를 화면에 출력한다."
   ]
  },
  {
   "cell_type": "code",
   "execution_count": 5,
   "metadata": {},
   "outputs": [
    {
     "name": "stdout",
     "output_type": "stream",
     "text": [
      "1\n",
      "2\n",
      "3\n",
      "4\n",
      "2\n",
      "3\n",
      "4\n",
      "5\n"
     ]
    }
   ],
   "source": [
    "N = int(input())\n",
    "x, y = list(map(int, input().split()))\n",
    "\n",
    "E = int(input())\n",
    "endpoints = [0]\n",
    "for _ in range(E):\n",
    "    endpoints.append(int(input()))\n",
    "\n",
    "def find_path(x, y, point):\n",
    "    if point <= x:\n",
    "        return (point, y, x - point)\n",
    "    elif point >= y:\n",
    "        return (x, point, point - y)\n",
    "    elif point - x <= y - point:\n",
    "        return (point, y, point - x)\n",
    "    else:\n",
    "        return (y, point, y - point)\n",
    "inf = 1e9\n",
    "dp = [inf] * (E + 1)\n",
    "def dfs(idx, x, y, cnt):\n",
    "    global dp\n",
    "    global endpoints\n",
    "    if idx > E:\n",
    "        return\n",
    "    # print(idx)\n",
    "    point = endpoints[idx]\n",
    "    if point <= x:\n",
    "        dp[idx] = min(dp[idx], cnt + x - point)\n",
    "        dfs(idx+1, point, y, cnt + x - point)\n",
    "    elif point >= y:\n",
    "        dp[idx] = min(dp[idx], cnt + point - y)\n",
    "        dfs(idx+1, x, point, cnt + point - y)\n",
    "    else:\n",
    "        dp[idx] = min(dp[idx], cnt + point - x, cnt + y - point)\n",
    "        dfs(idx+1, point, y, cnt + point - x)\n",
    "        dfs(idx+1, x, point, cnt + y - point)\n",
    "\n",
    "cnt = 0\n",
    "dfs(1, x, y, cnt)\n",
    "print(dp[-1])"
   ]
  },
  {
   "cell_type": "code",
   "execution_count": null,
   "metadata": {},
   "outputs": [],
   "source": []
  }
 ],
 "metadata": {
  "kernelspec": {
   "display_name": "base",
   "language": "python",
   "name": "python3"
  },
  "language_info": {
   "codemirror_mode": {
    "name": "ipython",
    "version": 3
   },
   "file_extension": ".py",
   "mimetype": "text/x-python",
   "name": "python",
   "nbconvert_exporter": "python",
   "pygments_lexer": "ipython3",
   "version": "3.9.13"
  },
  "orig_nbformat": 4
 },
 "nbformat": 4,
 "nbformat_minor": 2
}
