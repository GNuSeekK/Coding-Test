{
 "cells": [
  {
   "attachments": {},
   "cell_type": "markdown",
   "metadata": {},
   "source": [
    "# 알파벳 (https://www.acmicpc.net/problem/1987)\n",
    "\n",
    "## 문제\n",
    "세로 R칸, 가로 C칸으로 된 표 모양의 보드가 있다. 보드의 각 칸에는 대문자 알파벳이 하나씩 적혀 있고, 좌측 상단 칸 (1행 1열) 에는 말이 놓여 있다.\n",
    "\n",
    "말은 상하좌우로 인접한 네 칸 중의 한 칸으로 이동할 수 있는데, 새로 이동한 칸에 적혀 있는 알파벳은 지금까지 지나온 모든 칸에 적혀 있는 알파벳과는 달라야 한다. 즉, 같은 알파벳이 적힌 칸을 두 번 지날 수 없다.\n",
    "\n",
    "좌측 상단에서 시작해서, 말이 최대한 몇 칸을 지날 수 있는지를 구하는 프로그램을 작성하시오. 말이 지나는 칸은 좌측 상단의 칸도 포함된다.\n",
    "\n",
    "## 입력\n",
    "첫째 줄에 R과 C가 빈칸을 사이에 두고 주어진다. (1 ≤ R,C ≤ 20) 둘째 줄부터 R개의 줄에 걸쳐서 보드에 적혀 있는 C개의 대문자 알파벳들이 빈칸 없이 주어진다.\n",
    "\n",
    "## 출력\n",
    "첫째 줄에 말이 지날 수 있는 최대의 칸 수를 출력한다."
   ]
  },
  {
   "cell_type": "code",
   "execution_count": 3,
   "metadata": {},
   "outputs": [
    {
     "name": "stdout",
     "output_type": "stream",
     "text": [
      "ca\n",
      "cad\n",
      "3\n"
     ]
    }
   ],
   "source": [
    "from collections import deque\n",
    "R, C = map(int, input().split())\n",
    "\n",
    "graph = [[*input()] for _ in range(R)]\n",
    "\n",
    "result = 1\n",
    "\n",
    "dx = [0, 0, 1, -1]\n",
    "dy = [1, -1, 0, 0]\n",
    "\n",
    "def dfs(x, y, alpha):\n",
    "    global result\n",
    "    for i in range(4):\n",
    "        new_x, new_y = x + dx[i], y + dy[i]\n",
    "        if 0 <= new_x < R and 0 <= new_y < C:\n",
    "            if graph[new_x][new_y] in alpha:\n",
    "                if result < len(alpha):\n",
    "                    # print(alpha)\n",
    "                    result = len(alpha)\n",
    "            else:\n",
    "                dfs(new_x, new_y, alpha + graph[new_x][new_y])\n",
    "                \n",
    "dfs(0, 0, graph[0][0])\n",
    "\n",
    "print(result)"
   ]
  },
  {
   "cell_type": "code",
   "execution_count": 3,
   "metadata": {},
   "outputs": [
    {
     "name": "stdout",
     "output_type": "stream",
     "text": [
      "['1', '2', '3', '4']\n"
     ]
    }
   ],
   "source": [
    "print([*'1234'])"
   ]
  }
 ],
 "metadata": {
  "kernelspec": {
   "display_name": "base",
   "language": "python",
   "name": "python3"
  },
  "language_info": {
   "codemirror_mode": {
    "name": "ipython",
    "version": 3
   },
   "file_extension": ".py",
   "mimetype": "text/x-python",
   "name": "python",
   "nbconvert_exporter": "python",
   "pygments_lexer": "ipython3",
   "version": "3.9.13"
  },
  "orig_nbformat": 4
 },
 "nbformat": 4,
 "nbformat_minor": 2
}
