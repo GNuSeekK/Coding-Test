{
 "cells": [
  {
   "attachments": {},
   "cell_type": "markdown",
   "metadata": {},
   "source": [
    "# 점수따먹기 (https://www.acmicpc.net/problem/1749)\n",
    "\n",
    "## 문제\n",
    "동주는 항상 혼자 노느라 심심하다. 하지만 혼자 놀기의 고수가 된 동주는 매일매일 게임을 개발하여 혼자놀기의 진수를 우리에게 보여준다. 어느 날 동주는 새로운 게임을 개발하였다. 바로 점수 따먹기라는 게임인데 그다지 재밌어 보이지는 않는다.\n",
    "\n",
    "동주가 개발한 게임은 이렇다. 일단 N*M 행렬을 그린 다음, 각 칸에 -10,000 이상 10,000 이하의 정수를 하나씩 쓴다. 그런 다음 그 행렬의 부분행렬을 그려 그 안에 적힌 정수의 합을 구하는 게임이다.\n",
    "\n",
    "동주가 혼자 재밌게 놀던 중 지나가는 당신을 보고 당신을 붙잡고 게임을 하자고 한다. 귀찮은 당신은 정수의 합이 최대가 되는 부분행렬을 구하여 빨리 동주에게서 벗어나고 싶다.\n",
    "\n",
    "## 입력\n",
    "첫째 줄에 N (1 < N < 200), M (1 < M < 200)이 주어진다. 그 다음 N개의 줄에 M개씩 행렬의 원소가 주어진다.\n",
    "\n",
    "## 출력\n",
    "첫째 줄에 최대의 합을 출력하라."
   ]
  },
  {
   "cell_type": "code",
   "execution_count": 11,
   "metadata": {},
   "outputs": [
    {
     "name": "stdout",
     "output_type": "stream",
     "text": [
      "[[-1, -2, -3], [-2, 2, 0], [-3, 3, 0]]\n",
      "[[-1, -1, -1], [-1, 4, 3], [-1, 6, 3]]\n",
      "6\n"
     ]
    }
   ],
   "source": [
    "N, M = map(int, input().split())\n",
    "\n",
    "graph = [list(map(int, input().split())) for _ in range(N)]\n",
    "sum_dp = [[0] * M for _ in range(N)]\n",
    "dp = [[0] * M for _ in range(N)]\n",
    "sum_dp[0][0] = graph[0][0]\n",
    "number = sum_dp[0][0]\n",
    "for idx in range(1, M):\n",
    "    number += graph[0][idx]\n",
    "    sum_dp[0][idx] = number\n",
    "    \n",
    "for row in range(1, N):\n",
    "    number = sum_dp[row][0]\n",
    "    for col in range(M):\n",
    "        number += graph[row][col]\n",
    "        sum_dp[row][col] = number + sum_dp[row-1][col]\n",
    "\n",
    "result = -100000\n",
    "# dp[0][0] = sum_dp[0][0]\n",
    "# result = max(result, dp[0][0])\n",
    "for row in range(N):\n",
    "    for col in range(M):\n",
    "        dp[row][col] = sum_dp[row][col]\n",
    "        for tmp_row in range(row+1):\n",
    "            for tmp_col in range(col+1):\n",
    "                if tmp_row == row and tmp_col == col:\n",
    "                    continue\n",
    "                dp[row][col] = max(dp[row][col], sum_dp[row][col] - sum_dp[tmp_row][tmp_col])\n",
    "        result = max(result, dp[row][col])\n",
    "\n",
    "print(sum_dp)\n",
    "print(dp)\n",
    "print(result)"
   ]
  },
  {
   "cell_type": "code",
   "execution_count": null,
   "metadata": {},
   "outputs": [],
   "source": [
    "200 200 200 200\n",
    "1600000000"
   ]
  }
 ],
 "metadata": {
  "kernelspec": {
   "display_name": "base",
   "language": "python",
   "name": "python3"
  },
  "language_info": {
   "codemirror_mode": {
    "name": "ipython",
    "version": 3
   },
   "file_extension": ".py",
   "mimetype": "text/x-python",
   "name": "python",
   "nbconvert_exporter": "python",
   "pygments_lexer": "ipython3",
   "version": "3.9.13"
  },
  "orig_nbformat": 4
 },
 "nbformat": 4,
 "nbformat_minor": 2
}
