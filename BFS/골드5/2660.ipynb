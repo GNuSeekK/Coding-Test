{
 "cells": [
  {
   "attachments": {},
   "cell_type": "markdown",
   "metadata": {},
   "source": [
    "# 회장뽑기 (https://www.acmicpc.net/problem/2660)\n",
    "\n",
    "## 문제\n",
    "월드컵 축구의 응원을 위한 모임에서 회장을 선출하려고 한다. 이 모임은 만들어진지 얼마 되지 않았기 때문에 회원 사이에 서로 모르는 사람도 있지만, 몇 사람을 통하면 모두가 서로 알 수 있다. 각 회원은 다른 회원들과 가까운 정도에 따라 점수를 받게 된다.\n",
    "\n",
    "예를 들어 어느 회원이 다른 모든 회원과 친구이면, 이 회원의 점수는 1점이다. 어느 회원의 점수가 2점이면, 다른 모든 회원이 친구이거나 친구의 친구임을 말한다. 또한 어느 회원의 점수가 3점이면, 다른 모든 회원이 친구이거나, 친구의 친구이거나, 친구의 친구의 친구임을 말한다.\n",
    "\n",
    "4점, 5점 등은 같은 방법으로 정해진다. 각 회원의 점수를 정할 때 주의할 점은 어떤 두 회원이 친구사이이면서 동시에 친구의 친구사이이면, 이 두사람은 친구사이라고 본다.\n",
    "\n",
    "회장은 회원들 중에서 점수가 가장 작은 사람이 된다. 회장의 점수와 회장이 될 수 있는 모든 사람을 찾는 프로그램을 작성하시오.\n",
    "\n",
    "## 입력\n",
    "입력의 첫째 줄에는 회원의 수가 있다. 단, 회원의 수는 50명을 넘지 않는다. 둘째 줄 이후로는 한 줄에 두 개의 회원번호가 있는데, 이것은 두 회원이 서로 친구임을 나타낸다. 회원번호는 1부터 회원의 수만큼 붙어 있다. 마지막 줄에는 -1이 두 개 들어있다.\n",
    "\n",
    "## 출력\n",
    "첫째 줄에는 회장 후보의 점수와 후보의 수를 출력하고, 두 번째 줄에는 회장 후보를 오름차순으로 모두 출력한다."
   ]
  },
  {
   "cell_type": "code",
   "execution_count": 6,
   "metadata": {},
   "outputs": [
    {
     "name": "stdout",
     "output_type": "stream",
     "text": [
      "2 2\n",
      "1 2\n"
     ]
    }
   ],
   "source": [
    "from collections import deque\n",
    "N = int(input())\n",
    "\n",
    "friends = {x : [] for x in range(1, N+1)}\n",
    "while True:\n",
    "    p1, p2 = map(int, input().split())\n",
    "    if p1 == -1:\n",
    "        break\n",
    "    friends[p1].append(p2)\n",
    "    friends[p2].append(p1)\n",
    "    \n",
    "INF = 100\n",
    "scores = [INF] * (N + 1)\n",
    "\n",
    "for p in range(1, N+1):\n",
    "    visited = [True] + [False] * (N)\n",
    "    visited[p] = True\n",
    "    queue = deque()\n",
    "    cnt = 1\n",
    "    for f in friends[p]:\n",
    "        queue.append((f, 1))\n",
    "        visited[f] = True\n",
    "    while queue:\n",
    "        f, cnt = queue.popleft()\n",
    "        for f2 in friends[f]:\n",
    "            if visited[f2] == False:\n",
    "                visited[f2] = True\n",
    "                queue.append((f2, cnt+1))\n",
    "    scores[p] = cnt\n",
    "\n",
    "min_score = min(scores)\n",
    "num_pre = scores.count(min_score)\n",
    "result = []\n",
    "for i in range(1, N+1):\n",
    "    if scores[i] == min_score:\n",
    "        result.append(str(i))\n",
    "print(min_score, num_pre)\n",
    "print(' '.join(result))"
   ]
  },
  {
   "cell_type": "code",
   "execution_count": null,
   "metadata": {},
   "outputs": [],
   "source": []
  }
 ],
 "metadata": {
  "kernelspec": {
   "display_name": "base",
   "language": "python",
   "name": "python3"
  },
  "language_info": {
   "codemirror_mode": {
    "name": "ipython",
    "version": 3
   },
   "file_extension": ".py",
   "mimetype": "text/x-python",
   "name": "python",
   "nbconvert_exporter": "python",
   "pygments_lexer": "ipython3",
   "version": "3.9.13"
  },
  "orig_nbformat": 4
 },
 "nbformat": 4,
 "nbformat_minor": 2
}
