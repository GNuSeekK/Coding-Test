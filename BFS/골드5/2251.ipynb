{
 "cells": [
  {
   "attachments": {},
   "cell_type": "markdown",
   "metadata": {},
   "source": [
    "# 물통\n",
    "\n",
    "## 문제\n",
    "각각 부피가 A, B, C(1≤A, B, C≤200) 리터인 세 개의 물통이 있다. 처음에는 앞의 두 물통은 비어 있고, 세 번째 물통은 가득(C 리터) 차 있다. 이제 어떤 물통에 들어있는 물을 다른 물통으로 쏟아 부을 수 있는데, 이때에는 한 물통이 비거나, 다른 한 물통이 가득 찰 때까지 물을 부을 수 있다. 이 과정에서 손실되는 물은 없다고 가정한다.\n",
    "\n",
    "이와 같은 과정을 거치다보면 세 번째 물통(용량이 C인)에 담겨있는 물의 양이 변할 수도 있다. 첫 번째 물통(용량이 A인)이 비어 있을 때, 세 번째 물통(용량이 C인)에 담겨있을 수 있는 물의 양을 모두 구해내는 프로그램을 작성하시오.\n",
    "\n",
    "## 입력\n",
    "첫째 줄에 세 정수 A, B, C가 주어진다.\n",
    "\n",
    "## 출력\n",
    "첫째 줄에 공백으로 구분하여 답을 출력한다. 각 용량은 오름차순으로 정렬한다."
   ]
  },
  {
   "cell_type": "code",
   "execution_count": 13,
   "metadata": {},
   "outputs": [
    {
     "name": "stdout",
     "output_type": "stream",
     "text": [
      "[10, 8, 9]\n",
      "[10, 8, 1, 0]\n",
      "[10, 8, 1]\n",
      "[10, 8]\n",
      "[10, 0]\n",
      "[10]\n",
      "[2]\n",
      "[]\n",
      "[1, 2, 8, 9, 10]\n"
     ]
    }
   ],
   "source": [
    "A, B, C = map(int, input().split())\n",
    "\n",
    "visited = {C}\n",
    "ables = [C, max(C - A - B, 0)]\n",
    "if ables[-1] >= C-B:\n",
    "    visited.add(ables[-1])\n",
    "while ables:\n",
    "    water = ables.pop()\n",
    "    \n",
    "    waters = [water + A, water + B, water - A, water - B]\n",
    "    waters = [w for w in waters if w not in visited]\n",
    "    \n",
    "    for new_water in waters:\n",
    "        if new_water > C or new_water < 0:\n",
    "            continue\n",
    "        if new_water >= C - B:\n",
    "            visited.add(new_water)\n",
    "        ables.append(new_water)\n",
    "        # print(ables)\n",
    "    print(ables)\n",
    "    input()\n",
    "print(sorted(list(visited)))"
   ]
  },
  {
   "cell_type": "code",
   "execution_count": 8,
   "metadata": {},
   "outputs": [
    {
     "name": "stdout",
     "output_type": "stream",
     "text": [
      "[10, 9]\n",
      "[10, 1, 0]\n",
      "[10, 1]\n",
      "[10]\n",
      "[2]\n",
      "[]\n",
      "[0, 1, 2, 9, 10]\n"
     ]
    }
   ],
   "source": [
    "A, B, C = map(int, input().split())\n",
    "\n",
    "min_value = max(C - A - B, 0)\n",
    "min_c_value = max(C - B, 0)\n",
    "max_value = C\n",
    "\n",
    "visited = {C}\n",
    "ables = [max_value, min_value]\n",
    "\n",
    "while ables:\n",
    "    water = ables.pop()\n",
    "    \n",
    "    \n",
    "    # A 만큼을 더할 수 있는 경우\n",
    "    if water + A not in visited:\n",
    "        if water < C - A and water > min_value:\n",
    "            ables.append(water + A)\n",
    "            if C - (water + A) <= B:\n",
    "                visited.add(water + A)\n",
    "    \n",
    "    # A 만큼을 뺄 수 있는 경우\n",
    "    if water - A not in visited:\n",
    "        if water - A >= min_value:\n",
    "            ables.append(water - A)\n",
    "            if water - A >= min_c_value:\n",
    "                visited.add(water - A)\n",
    "    \n",
    "    # B 만큼을 더할 수 있는 경우\n",
    "    if water + B not in visited:\n",
    "        if water < C - B:\n",
    "            ables.append(water + B)\n",
    "            if water >= C - 2 * B:\n",
    "                visited.add(water + B)\n",
    "    \n",
    "    # B 만큼을 뺄 수 있는 경우\n",
    "    if water - B not in visited:\n",
    "        if water - B >= min_value:\n",
    "            ables.append(water - B)\n",
    "            if water - B <= min_c_value:\n",
    "                visited.add(water - B)\n",
    "    print(ables)\n",
    "        \n",
    "    \n",
    "print(sorted(list(visited)))"
   ]
  },
  {
   "cell_type": "code",
   "execution_count": 12,
   "metadata": {},
   "outputs": [
    {
     "name": "stdout",
     "output_type": "stream",
     "text": [
      "1 2 8 9 10\n"
     ]
    }
   ],
   "source": [
    "from collections import deque\n",
    "\n",
    "A, B, C = map(int, input().split())\n",
    "\n",
    "q = deque()\n",
    "q.append((0,0))\n",
    "\n",
    "visited = [[False] * (B + 1) for _ in range(A + 1)]\n",
    "visited[0][0] = True\n",
    "\n",
    "answer = []\n",
    "\n",
    "def pour(x, y):\n",
    "    if not visited[x][y]:\n",
    "        visited[x][y] = True\n",
    "        q.append((x, y))\n",
    "        \n",
    "while q:\n",
    "    x, y = q.popleft()\n",
    "    z = C - x - y\n",
    "    \n",
    "    # A 물통이 비어 있는 경우 C 물통에 담긴 물의 양을 저장\n",
    "    if x == 0:\n",
    "        answer.append(z)\n",
    "    \n",
    "    # A -> B\n",
    "    water = min(x, B - y)\n",
    "    pour(x - water, y + water)\n",
    "    \n",
    "    # A -> C\n",
    "    water = min(x, C - z)\n",
    "    pour(x - water, y)\n",
    "    \n",
    "    # B -> A\n",
    "    water = min(y, A - x)\n",
    "    pour(x + water, y - water)\n",
    "    \n",
    "    # B -> C\n",
    "    water = min(y, C - z)\n",
    "    pour(x, y - water)\n",
    "    \n",
    "    # C -> A\n",
    "    water = min(z, A - x)\n",
    "    pour(x + water, y)\n",
    "    \n",
    "    # C -> B\n",
    "    water = min(z, B - y)\n",
    "    pour(x, y + water)\n",
    "    \n",
    "print(' '.join([str(x) for x in sorted(answer)]))\n",
    "    "
   ]
  },
  {
   "cell_type": "code",
   "execution_count": null,
   "metadata": {},
   "outputs": [],
   "source": []
  }
 ],
 "metadata": {
  "kernelspec": {
   "display_name": "base",
   "language": "python",
   "name": "python3"
  },
  "language_info": {
   "codemirror_mode": {
    "name": "ipython",
    "version": 3
   },
   "file_extension": ".py",
   "mimetype": "text/x-python",
   "name": "python",
   "nbconvert_exporter": "python",
   "pygments_lexer": "ipython3",
   "version": "3.9.13"
  },
  "orig_nbformat": 4
 },
 "nbformat": 4,
 "nbformat_minor": 2
}
