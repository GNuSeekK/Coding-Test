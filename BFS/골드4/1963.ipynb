{
 "cells": [
  {
   "attachments": {},
   "cell_type": "markdown",
   "metadata": {},
   "source": [
    "# 소수 경로 (https://www.acmicpc.net/problem/1963)\n",
    "\n",
    "문제\n",
    "소수를 유난히도 좋아하는 창영이는 게임 아이디 비밀번호를 4자리 ‘소수’로 정해놓았다. 어느 날 창영이는 친한 친구와 대화를 나누었는데:\n",
    "\n",
    "* “이제 슬슬 비번 바꿀 때도 됐잖아”\n",
    "* “응 지금은 1033으로 해놨는데... 다음 소수를 무엇으로 할지 고민중이야\"\n",
    "* “그럼 8179로 해”\n",
    "* “흠... 생각 좀 해볼게. 이 게임은 좀 이상해서 비밀번호를 한 번에 한 자리 밖에 못 바꾼단 말이야. 예를 들어 내가 첫 자리만 바꾸면 8033이 되니까 소수가 아니잖아. 여러 단계를 거쳐야 만들 수 있을 것 같은데... 예를 들면... 1033 1733 3733 3739 3779 8779 8179처럼 말이야.”\n",
    "* “흠...역시 소수에 미쳤군. 그럼 아예 프로그램을 짜지 그래. 네 자리 소수 두 개를 입력받아서 바꾸는데 몇 단계나 필요한지 계산하게 말야.”\n",
    "* “귀찮아”\n",
    "* 그렇다. 그래서 여러분이 이 문제를 풀게 되었다. 입력은 항상 네 자리 소수만(1000 이상) 주어진다고 가정하자. 주어진 두 소수 A에서 B로 바꾸는 과정에서도 항상 네 자리 소수임을 유지해야 하고, ‘네 자리 수’라 하였기 때문에 0039 와 같은 1000 미만의 비밀번호는 허용되지 않는다.\n",
    "\n",
    "입력\n",
    "첫 줄에 test case의 수 T가 주어진다. 다음 T줄에 걸쳐 각 줄에 1쌍씩 네 자리 소수가 주어진다.\n",
    "\n",
    "출력\n",
    "각 test case에 대해 두 소수 사이의 변환에 필요한 최소 회수를 출력한다. 불가능한 경우 Impossible을 출력한다."
   ]
  },
  {
   "cell_type": "code",
   "execution_count": 5,
   "metadata": {},
   "outputs": [
    {
     "name": "stdout",
     "output_type": "stream",
     "text": [
      "6\n",
      "7\n",
      "Impossible\n"
     ]
    }
   ],
   "source": [
    "from collections import deque\n",
    "prime = [x for x in range(1000, 10000) if all(x % y != 0 for y in range(2, int(x ** 0.5)+1))]\n",
    "prime = [list(map(int, str(x))) for x in prime]\n",
    "numbers = {}\n",
    "for num in prime:\n",
    "    change_list = []\n",
    "    for number in prime:\n",
    "        cnt = 0\n",
    "        for i in range(4):\n",
    "            if num[i] != number[i]:\n",
    "                cnt += 1\n",
    "        if cnt == 1:\n",
    "            change_list.append(number[0] * 1000 + number[1] * 100 + number[2] * 10 + number[3])\n",
    "    numbers[num[0] * 1000 + num[1] * 100 + num[2] * 10 + num[3]] = change_list\n",
    "\n",
    "T = int(input())\n",
    "\n",
    "for _ in range(T):\n",
    "    start, end = map(int, input().split())\n",
    "    if start == end:\n",
    "        print(0)\n",
    "        continue\n",
    "    visited = [False] * 10000\n",
    "    queue = deque()\n",
    "    for number in numbers[start]:\n",
    "        queue.append([number, 1])\n",
    "        visited[number] = True\n",
    "    visited[start] = True\n",
    "    signal = False\n",
    "    while queue:\n",
    "        num, cnt = queue.popleft()\n",
    "        if num == end:\n",
    "            signal = True\n",
    "            break\n",
    "        for number in numbers[num]:\n",
    "            if visited[number] == False:\n",
    "                queue.append([number, cnt + 1])\n",
    "                visited[number] = True\n",
    "    if signal:\n",
    "        print(cnt)\n",
    "    else:\n",
    "        print('Impossible')"
   ]
  },
  {
   "cell_type": "code",
   "execution_count": null,
   "metadata": {},
   "outputs": [],
   "source": []
  }
 ],
 "metadata": {
  "kernelspec": {
   "display_name": "base",
   "language": "python",
   "name": "python3"
  },
  "language_info": {
   "codemirror_mode": {
    "name": "ipython",
    "version": 3
   },
   "file_extension": ".py",
   "mimetype": "text/x-python",
   "name": "python",
   "nbconvert_exporter": "python",
   "pygments_lexer": "ipython3",
   "version": "3.9.13"
  },
  "orig_nbformat": 4
 },
 "nbformat": 4,
 "nbformat_minor": 2
}
