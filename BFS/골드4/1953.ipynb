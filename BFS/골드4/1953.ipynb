{
 "cells": [
  {
   "attachments": {},
   "cell_type": "markdown",
   "metadata": {},
   "source": [
    "# 팀배분 (https://www.acmicpc.net/problem/1953)\n",
    "\n",
    "## 문제\n",
    "2007년 1월 9일(화)는 원장선생님의 말씀대로 어제와 같이 하루 일과를 팀플레이를 통해 하려고 한다. 이 날은 특별히 청팀과 백팀으로 두 팀을 나누어 팀전을 하려 한다. 하지만 어제 하루 팀플레이를 하면서, 서로 같은 팀을 하기 싫어하는 사람들이 생겼다.\n",
    "\n",
    "이제 우리가 할 일은 다음과 같다. 사람들이 각각 싫어하는 사람들의 정보가 주어져 있을 때, 그 사람들의 요구를 수용하여 서로 싫어하는 사람은 같은 팀에 넣지 않으려 한다. 이 조건을 만족하여 n명의 사람들 두 팀으로 나누는 프로그램을 작성하여라.\n",
    "\n",
    "## 입력\n",
    "첫 줄에는 학생들의 수 n (1 ≤ n ≤ 100)이 주어진다. 그리고 둘째 줄부터 n+1번째 줄까지 서로가 싫어하는 사람들의 정보가 주어진다. i+1번째 줄에는 i번째 사람이 싫어하는 사람의 수와 싫어하는 사람들이 나온다.\n",
    "\n",
    "모든 사람이 싫어하는 사람이 단 한 명도 없는 경우는 없다.\n",
    "\n",
    "## 출력\n",
    "첫줄에는 청팀의 사람의 수를 출력하고, 그리고 둘째 줄에는 청팀에 속한 사람들을 오름차순으로 나열한다. 그리고 셋째 줄과 넷째 줄은 위와 같은 방법으로 백팀에 속한 인원의 수, 백팀에 속한 사람들을 출력한다. 단 답이 여러 가지 일 경우에는 한 가지만 출력하여도 좋다."
   ]
  },
  {
   "cell_type": "code",
   "execution_count": 3,
   "metadata": {},
   "outputs": [
    {
     "name": "stdout",
     "output_type": "stream",
     "text": [
      "3\n",
      "1 2 4\n",
      "2\n",
      "3 5\n"
     ]
    }
   ],
   "source": [
    "from collections import deque\n",
    "n = int(input())\n",
    "\n",
    "people = {x + 1 : list(map(int, input().split()))[1:] for x in range(n)}\n",
    "\n",
    "visited = [False] * (n + 1)\n",
    "visited[0] = True\n",
    "\n",
    "\n",
    "blue = []\n",
    "white = []\n",
    "queue = deque()\n",
    "\n",
    "while sum(visited) < n + 1:\n",
    "    idx = visited.index(False)\n",
    "    visited[idx] = True\n",
    "    blue.append(idx)\n",
    "    for per in people[idx]:\n",
    "        queue.append([per, 1])\n",
    "        visited[per] = True\n",
    "    while queue:\n",
    "        per, num = queue.popleft()\n",
    "        if num == 1:\n",
    "            white.append(per)\n",
    "        else:\n",
    "            blue.append(per)\n",
    "        for p in people[per]:\n",
    "            if visited[p] == False:\n",
    "                visited[p] = True\n",
    "                queue.append([p, num * -1])\n",
    "\n",
    "blue.sort()\n",
    "white.sort()\n",
    "print(len(blue))\n",
    "print(*blue)\n",
    "print(len(white))\n",
    "print(*white)"
   ]
  },
  {
   "cell_type": "code",
   "execution_count": null,
   "metadata": {},
   "outputs": [],
   "source": [
    "1 4   3\n",
    "2   5"
   ]
  }
 ],
 "metadata": {
  "kernelspec": {
   "display_name": "base",
   "language": "python",
   "name": "python3"
  },
  "language_info": {
   "codemirror_mode": {
    "name": "ipython",
    "version": 3
   },
   "file_extension": ".py",
   "mimetype": "text/x-python",
   "name": "python",
   "nbconvert_exporter": "python",
   "pygments_lexer": "ipython3",
   "version": "3.9.13"
  },
  "orig_nbformat": 4
 },
 "nbformat": 4,
 "nbformat_minor": 2
}
