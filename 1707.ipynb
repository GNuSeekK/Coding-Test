{
 "cells": [
  {
   "attachments": {},
   "cell_type": "markdown",
   "metadata": {},
   "source": [
    "# 이분 그래프 (https://www.acmicpc.net/problem/1707)\n",
    "\n",
    "## 문제\n",
    "그래프의 정점의 집합을 둘로 분할하여, 각 집합에 속한 정점끼리는 서로 인접하지 않도록 분할할 수 있을 때, 그러한 그래프를 특별히 이분 그래프 (Bipartite Graph) 라 부른다.\n",
    "\n",
    "그래프가 입력으로 주어졌을 때, 이 그래프가 이분 그래프인지 아닌지 판별하는 프로그램을 작성하시오.\n",
    "\n",
    "## 입력\n",
    "입력은 여러 개의 테스트 케이스로 구성되어 있는데, 첫째 줄에 테스트 케이스의 개수 K가 주어진다. 각 테스트 케이스의 첫째 줄에는 그래프의 정점의 개수 V와 간선의 개수 E가 빈 칸을 사이에 두고 순서대로 주어진다. 각 정점에는 1부터 V까지 차례로 번호가 붙어 있다. 이어서 둘째 줄부터 E개의 줄에 걸쳐 간선에 대한 정보가 주어지는데, 각 줄에 인접한 두 정점의 번호 u, v (u ≠ v)가 빈 칸을 사이에 두고 주어진다. \n",
    "\n",
    "## 출력\n",
    "K개의 줄에 걸쳐 입력으로 주어진 그래프가 이분 그래프이면 YES, 아니면 NO를 순서대로 출력한다."
   ]
  },
  {
   "cell_type": "code",
   "execution_count": 5,
   "metadata": {},
   "outputs": [
    {
     "name": "stdout",
     "output_type": "stream",
     "text": [
      "{1}\n",
      "{1, 2}\n",
      "{1, 2}\n",
      "set()\n",
      "[{1, 2}, set()]\n",
      "NO\n",
      "{1}\n",
      "{1}\n",
      "set()\n",
      "[{1}, set()]\n",
      "NO\n"
     ]
    }
   ],
   "source": [
    "K = int(input())\n",
    "# V < 20000\n",
    "# E < 200000\n",
    "for _ in range(K):\n",
    "    V, E = map(int, input().split())\n",
    "    \n",
    "    lines = {x : set() for x in range(1, V+1)}\n",
    "    for _ in range(E):\n",
    "        u, v = map(int, input().split())\n",
    "        lines[u].add(v)\n",
    "        lines[v].add(u)\n",
    "    \n",
    "    groups = [set(), set()]\n",
    "\n",
    "    for key in lines.keys():\n",
    "        for group in groups:\n",
    "            signal = 0\n",
    "            for node in group:\n",
    "                if key in lines[node]:\n",
    "                    signal=1\n",
    "                    break\n",
    "            if signal == 0:\n",
    "                group.add(key)\n",
    "                print(group)\n",
    "                break\n",
    "            print(group)\n",
    "        if signal == 1:\n",
    "            break\n",
    "    print(groups)\n",
    "    if signal == 1:\n",
    "        print('NO')\n",
    "    else:\n",
    "        print('YES')\n",
    "                                "
   ]
  },
  {
   "cell_type": "code",
   "execution_count": null,
   "metadata": {},
   "outputs": [],
   "source": []
  }
 ],
 "metadata": {
  "kernelspec": {
   "display_name": "base",
   "language": "python",
   "name": "python3"
  },
  "language_info": {
   "codemirror_mode": {
    "name": "ipython",
    "version": 3
   },
   "file_extension": ".py",
   "mimetype": "text/x-python",
   "name": "python",
   "nbconvert_exporter": "python",
   "pygments_lexer": "ipython3",
   "version": "3.9.13"
  },
  "orig_nbformat": 4
 },
 "nbformat": 4,
 "nbformat_minor": 2
}
