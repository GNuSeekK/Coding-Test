{
  "cells": [
    {
      "cell_type": "markdown",
      "metadata": {
        "colab_type": "text",
        "id": "view-in-github"
      },
      "source": [
        "<a href=\"https://colab.research.google.com/github/GNuSeekK/Coding-Test/blob/main/%ED%8C%80%EB%85%B8%ED%8A%B8.ipynb\" target=\"_parent\"><img src=\"https://colab.research.google.com/assets/colab-badge.svg\" alt=\"Open In Colab\"/></a>"
      ]
    },
    {
      "cell_type": "markdown",
      "metadata": {
        "id": "9QFl8IxRr7fC"
      },
      "source": [
        "# 코딩테스트 준비 팀노트"
      ]
    },
    {
      "cell_type": "markdown",
      "metadata": {
        "id": "YTGdPfpBsAOW"
      },
      "source": [
        "# 2차원 리스트 초기화\n",
        "$N * M$ 행렬"
      ]
    },
    {
      "cell_type": "code",
      "execution_count": 1,
      "metadata": {
        "colab": {
          "base_uri": "https://localhost:8080/"
        },
        "id": "EVukLIIE28vW",
        "outputId": "90500bad-8677-44ff-ea7b-f6bc3d007f67"
      },
      "outputs": [
        {
          "name": "stdout",
          "output_type": "stream",
          "text": [
            "[[0, 0, 0], [0, 0, 0]]\n"
          ]
        }
      ],
      "source": [
        "n = 2\n",
        "m = 3\n",
        "array = [[0] * m for _ in range(n)]\n",
        "print(array)"
      ]
    },
    {
      "cell_type": "markdown",
      "metadata": {
        "id": "RrDbsYKd3DEy"
      },
      "source": [
        "# 리스트 메서드"
      ]
    },
    {
      "cell_type": "code",
      "execution_count": null,
      "metadata": {
        "id": "6I2nFvTc3iLb"
      },
      "outputs": [],
      "source": [
        "list.append()               # O(1)\n",
        "list.sort()                 # O(NlogN)\n",
        "list.resverse()             # O(N)  \n",
        "list.insert(index, value)   # O(N)\n",
        "list.count()                # O(N)\n",
        "list.remove()               # O(N)"
      ]
    },
    {
      "cell_type": "markdown",
      "metadata": {
        "id": "rnx-g_A_3ykl"
      },
      "source": [
        "# 집합(Set) 메서드\n",
        "시간 복잡도 O(1) => 순서가 없다"
      ]
    },
    {
      "cell_type": "code",
      "execution_count": null,
      "metadata": {
        "id": "2wJto6Lv7Icw"
      },
      "outputs": [],
      "source": [
        "set.add()       # 원소 추가\n",
        "set.update()    # 원소 여러개 추가\n",
        "set.remove()    # 원소 삭제"
      ]
    },
    {
      "cell_type": "code",
      "execution_count": 8,
      "metadata": {
        "colab": {
          "base_uri": "https://localhost:8080/"
        },
        "id": "-jQ3v8247nw3",
        "outputId": "cdd209d1-7bb9-4627-a54a-b77179e5959b"
      },
      "outputs": [
        {
          "name": "stdout",
          "output_type": "stream",
          "text": [
            "없습니다\n"
          ]
        }
      ],
      "source": [
        "dic = {'a' : 1,\n",
        "       'b' : 2,\n",
        "       'c' : 3}\n",
        "\n",
        "try:\n",
        "    dic['d']\n",
        "except KeyError:\n",
        "    print('없습니다')"
      ]
    },
    {
      "cell_type": "markdown",
      "metadata": {
        "id": "AgPwHfUTQAV1"
      },
      "source": [
        "# 람다 표현식"
      ]
    },
    {
      "cell_type": "code",
      "execution_count": 10,
      "metadata": {
        "colab": {
          "base_uri": "https://localhost:8080/"
        },
        "id": "HB9SqKR8ZZKv",
        "outputId": "6d0d627f-8695-4682-f625-7fac5d5ac7bc"
      },
      "outputs": [
        {
          "name": "stdout",
          "output_type": "stream",
          "text": [
            "[('이순신', 32), ('홍길동', 50), ('아무개', 74)]\n",
            "[('이순신', 32), ('홍길동', 50), ('아무개', 74)]\n"
          ]
        }
      ],
      "source": [
        "array = [('홍길동', 50),\n",
        "         ('이순신', 32),\n",
        "         ('아무개', 74)]\n",
        "\n",
        "def my_key(x):\n",
        "    return x[1]\n",
        "\n",
        "print(sorted(array, key = my_key))\n",
        "print(sorted(array, key = lambda x: x[1]))"
      ]
    },
    {
      "cell_type": "code",
      "execution_count": 11,
      "metadata": {
        "colab": {
          "base_uri": "https://localhost:8080/"
        },
        "id": "q2iorcG5ZvUX",
        "outputId": "496c2fc1-99ca-4647-e8f4-a7fe6d2e3d9c"
      },
      "outputs": [
        {
          "name": "stdout",
          "output_type": "stream",
          "text": [
            "[7, 9, 11, 13, 15]\n"
          ]
        }
      ],
      "source": [
        "list1 = [1,2,3,4,5]\n",
        "list2 = [6,7,8,9,10]\n",
        "\n",
        "result = map(lambda a, b: a+b, list1, list2)\n",
        "\n",
        "print(list(result))"
      ]
    },
    {
      "cell_type": "markdown",
      "metadata": {
        "id": "qA7MJ_vEaXeM"
      },
      "source": [
        "# 표준 라이브러리"
      ]
    },
    {
      "cell_type": "markdown",
      "metadata": {
        "id": "iw8gsBjMdpGq"
      },
      "source": [
        "## 내장함수"
      ]
    },
    {
      "cell_type": "markdown",
      "metadata": {
        "id": "gtjo1csi31MF"
      },
      "source": [
        "### sum()"
      ]
    },
    {
      "cell_type": "code",
      "execution_count": null,
      "metadata": {
        "id": "OxpJYJgq32m5"
      },
      "outputs": [],
      "source": [
        "# sum()\n",
        "result = sum([1,2,3,4,5])\n",
        "print(result)"
      ]
    },
    {
      "cell_type": "markdown",
      "metadata": {
        "id": "Z6lQoqLV335Q"
      },
      "source": [
        "### min(), max()"
      ]
    },
    {
      "cell_type": "code",
      "execution_count": null,
      "metadata": {
        "id": "QTN6LOUu36Di"
      },
      "outputs": [],
      "source": [
        "# min(), max()\n",
        "min_result = min(7,3,5,2)\n",
        "max_result = max(7,3,5,2)\n",
        "print(min_result, max_result)"
      ]
    },
    {
      "cell_type": "markdown",
      "metadata": {
        "id": "TQSyvXMP37Vk"
      },
      "source": [
        "### evel()\n",
        "> 문자열을 수식 형태로"
      ]
    },
    {
      "cell_type": "code",
      "execution_count": null,
      "metadata": {
        "id": "JK1_iuG637c5"
      },
      "outputs": [],
      "source": [
        "# eval()\n",
        "result = eval('(3+5)*7') # 문자열 형태의 수식을 계산\n",
        "print(result)"
      ]
    },
    {
      "cell_type": "markdown",
      "metadata": {
        "id": "RXWd4jb64R6d"
      },
      "source": []
    },
    {
      "cell_type": "markdown",
      "metadata": {
        "id": "33X8Cdjb37sw"
      },
      "source": [
        "### sorted()"
      ]
    },
    {
      "cell_type": "code",
      "execution_count": null,
      "metadata": {
        "id": "MDA9FuRM37wY"
      },
      "outputs": [],
      "source": [
        "# sorted()\n",
        "arr = [9,1,8,5,4]\n",
        "result = sorted(arr)\n",
        "reverse_result = sorted(arr, reverse = True)\n",
        "print(result)\n",
        "print(reverse_result)\n",
        "\n",
        "#sorted() with key\n",
        "array = [('홍길동', 50),\n",
        "         ('이순신', 32),\n",
        "         ('아무개', 74)]\n",
        "\n",
        "print(sorted(array, key = lambda x: x[1]))"
      ]
    },
    {
      "cell_type": "markdown",
      "metadata": {
        "id": "1DK7B4yE3__c"
      },
      "source": [
        "### ord() 아스키코드"
      ]
    },
    {
      "cell_type": "code",
      "execution_count": 8,
      "metadata": {
        "colab": {
          "base_uri": "https://localhost:8080/"
        },
        "id": "KSN974gjdqxa",
        "outputId": "c5a76fa2-0f38-4f02-ddc5-87a2eba389e3"
      },
      "outputs": [
        {
          "data": {
            "text/plain": [
              "65"
            ]
          },
          "execution_count": 8,
          "metadata": {},
          "output_type": "execute_result"
        }
      ],
      "source": [
        "ord('A')"
      ]
    },
    {
      "cell_type": "markdown",
      "metadata": {
        "id": "wCPk5u1baj7G"
      },
      "source": [
        "## itertoold\n",
        "> 반복되는 형태의 데이터를 처리하기 위한 기능 제공</br>순열과 조합 라이브러리는 코테에서 자주 사용"
      ]
    },
    {
      "cell_type": "markdown",
      "metadata": {
        "id": "2BatPx79e8_s"
      },
      "source": [
        "### 순열"
      ]
    },
    {
      "cell_type": "code",
      "execution_count": 17,
      "metadata": {
        "colab": {
          "base_uri": "https://localhost:8080/"
        },
        "id": "rSV-FUzsfQZU",
        "outputId": "1edac72a-b975-43b4-d54c-3c0282bfecc5"
      },
      "outputs": [
        {
          "name": "stdout",
          "output_type": "stream",
          "text": [
            "[('A', 'B', 'C'), ('A', 'C', 'B'), ('B', 'A', 'C'), ('B', 'C', 'A'), ('C', 'A', 'B'), ('C', 'B', 'A')]\n"
          ]
        }
      ],
      "source": [
        "from itertools import permutations\n",
        "\n",
        "data = ['A', 'B', 'C']\n",
        "\n",
        "result = list(permutations(data, 3))\n",
        "print(result)"
      ]
    },
    {
      "cell_type": "code",
      "execution_count": 23,
      "metadata": {
        "colab": {
          "base_uri": "https://localhost:8080/"
        },
        "id": "wTUmwz8UfsIj",
        "outputId": "bb6629cf-819f-4b0c-d699-c4c1f300ab40"
      },
      "outputs": [
        {
          "name": "stdout",
          "output_type": "stream",
          "text": [
            "[('A', 'A'), ('A', 'B'), ('A', 'C'), ('B', 'A'), ('B', 'B'), ('B', 'C'), ('C', 'A'), ('C', 'B'), ('C', 'C')]\n"
          ]
        }
      ],
      "source": [
        "from itertools import product # 중복순열\n",
        "\n",
        "data = ['A', 'B', 'C']\n",
        "\n",
        "result = list(product(data, repeat = 2))\n",
        "print(result)"
      ]
    },
    {
      "cell_type": "markdown",
      "metadata": {
        "id": "FYFJE97vfAoI"
      },
      "source": [
        "### 조합"
      ]
    },
    {
      "cell_type": "code",
      "execution_count": 20,
      "metadata": {
        "colab": {
          "base_uri": "https://localhost:8080/"
        },
        "id": "BQtZNlkGfXyA",
        "outputId": "28e0cd86-445d-425f-cc3c-658ffa89a2d1"
      },
      "outputs": [
        {
          "name": "stdout",
          "output_type": "stream",
          "text": [
            "[('A', 'B'), ('A', 'C'), ('B', 'C')]\n"
          ]
        }
      ],
      "source": [
        "from itertools import combinations\n",
        "\n",
        "data = ['A', 'B', 'C']\n",
        "\n",
        "result = list(combinations(data, 2))\n",
        "print(result)"
      ]
    },
    {
      "cell_type": "code",
      "execution_count": 25,
      "metadata": {
        "colab": {
          "base_uri": "https://localhost:8080/"
        },
        "id": "qYZ2Woe3f8JY",
        "outputId": "364b0f02-027b-4f7f-e3a8-3d963b069e63"
      },
      "outputs": [
        {
          "name": "stdout",
          "output_type": "stream",
          "text": [
            "[('A', 'A'), ('A', 'B'), ('A', 'C'), ('B', 'B'), ('B', 'C'), ('C', 'C')]\n"
          ]
        }
      ],
      "source": [
        "from itertools import combinations_with_replacement # 중복조합\n",
        "\n",
        "data = ['A', 'B', 'C']\n",
        "\n",
        "result = list(combinations_with_replacement(data, 2))\n",
        "print(result)"
      ]
    },
    {
      "cell_type": "markdown",
      "metadata": {
        "id": "pf6fz-MdaqrP"
      },
      "source": [
        "## heapq\n",
        "> 힙 자료구조 제공</br>우선순위 큐 구현 위해 사용"
      ]
    },
    {
      "cell_type": "code",
      "execution_count": null,
      "metadata": {},
      "outputs": [],
      "source": [
        "from heapq import heappush, heappop"
      ]
    },
    {
      "cell_type": "markdown",
      "metadata": {
        "id": "o4sj2iSuau5P"
      },
      "source": [
        "## bisect\n",
        ">이진탐색 기능 제공"
      ]
    },
    {
      "cell_type": "code",
      "execution_count": null,
      "metadata": {},
      "outputs": [],
      "source": [
        "from bisect import bisect_left, bisect_right"
      ]
    },
    {
      "cell_type": "markdown",
      "metadata": {
        "id": "OoJ8MDXjaykr"
      },
      "source": [
        "## collections\n",
        ">덱(deque), 카운터(Counter) 등의 자료구조 포함"
      ]
    },
    {
      "cell_type": "markdown",
      "metadata": {
        "id": "QYkEVIq53IcI"
      },
      "source": [
        "### Counter"
      ]
    },
    {
      "cell_type": "code",
      "execution_count": 27,
      "metadata": {
        "colab": {
          "base_uri": "https://localhost:8080/"
        },
        "id": "XI6fJ00uhlmv",
        "outputId": "ee31ae3c-0c2b-4fb2-ee1a-ece83ef80049"
      },
      "outputs": [
        {
          "name": "stdout",
          "output_type": "stream",
          "text": [
            "3\n",
            "1\n",
            "2\n",
            "{'red': 2, 'blue': 3, 'green': 1}\n"
          ]
        }
      ],
      "source": [
        "from collections import Counter\n",
        "counter = Counter(['red', 'blue', 'red', 'green', 'blue', 'blue'])\n",
        "\n",
        "print(counter['blue'])\n",
        "print(counter['green'])\n",
        "print(counter['red'])\n",
        "print(dict(counter))"
      ]
    },
    {
      "cell_type": "markdown",
      "metadata": {
        "id": "da-05dYo3KZr"
      },
      "source": [
        "### Queue"
      ]
    },
    {
      "cell_type": "code",
      "execution_count": 7,
      "metadata": {
        "colab": {
          "base_uri": "https://localhost:8080/"
        },
        "id": "z1SjpoVH3L_B",
        "outputId": "714e18f1-452c-4ea0-b412-9f8af6e2ecf7"
      },
      "outputs": [
        {
          "name": "stdout",
          "output_type": "stream",
          "text": [
            "deque([3, 7, 1, 4])\n",
            "deque([4, 1, 7, 3])\n"
          ]
        }
      ],
      "source": [
        "from collections import deque\n",
        "\n",
        "queue = deque()\n",
        "\n",
        "queue.append(5)\n",
        "queue.append(2)\n",
        "queue.append(3)\n",
        "queue.append(7)\n",
        "queue.popleft()\n",
        "queue.append(1)\n",
        "queue.append(4)\n",
        "queue.popleft()\n",
        "\n",
        "print(queue)\n",
        "queue.reverse()\n",
        "print(queue)"
      ]
    },
    {
      "cell_type": "markdown",
      "metadata": {
        "id": "37GW9wWGa2bG"
      },
      "source": [
        "## math\n",
        "필수적인 수학적 기능 제공\n",
        "> 팩토리얼, 제곱근, 최대공약수(GCD), 삼각함수, 파이"
      ]
    },
    {
      "cell_type": "markdown",
      "metadata": {
        "id": "YyUr_Xc-3sPa"
      },
      "source": [
        "### 최소공배수(LCN), 최대공약수(GCD)"
      ]
    },
    {
      "cell_type": "code",
      "execution_count": 28,
      "metadata": {
        "colab": {
          "base_uri": "https://localhost:8080/"
        },
        "id": "7aeHbAArkEfD",
        "outputId": "1dbed652-dc40-4169-f941-d519786e422b"
      },
      "outputs": [
        {
          "name": "stdout",
          "output_type": "stream",
          "text": [
            "7\n",
            "42\n"
          ]
        }
      ],
      "source": [
        "import math\n",
        "\n",
        "#최소 공배수(LCM 구하는 함수)\n",
        "def lcm(a, b):\n",
        "    return a * b // math.gcd(a, b)\n",
        "\n",
        "a = 21\n",
        "b = 14\n",
        "\n",
        "print(math.gcd(21, 14))     # 최대 공약수(GCD) 계산\n",
        "print(lcm(21, 14))          # 최대 공배수(LCM) 계산"
      ]
    },
    {
      "cell_type": "markdown",
      "metadata": {
        "id": "NMwi6wuIXf1J"
      },
      "source": [
        "# 계수 정렬 구현"
      ]
    },
    {
      "cell_type": "code",
      "execution_count": null,
      "metadata": {
        "colab": {
          "base_uri": "https://localhost:8080/"
        },
        "id": "nx_i2zkiXixr",
        "outputId": "b74f2b7d-1ba2-4255-c8b0-51c516ee26ae"
      },
      "outputs": [
        {
          "name": "stdout",
          "output_type": "stream",
          "text": [
            "0 0 1 1 2 2 3 4 5 5 6 7 8 9 9 "
          ]
        }
      ],
      "source": [
        "array = [7, 5, 9, 0, 3, 1, 6, 2, 9, 1, 4, 8, 0, 5, 2]\n",
        "\n",
        "count = [0] * (max(array) + 1)\n",
        "\n",
        "for i in range(len(array)):\n",
        "    count[array[i]] += 1\n",
        "\n",
        "for i in range(len(count)):\n",
        "    for j in range(count[i]):\n",
        "        print(i, end = ' ')"
      ]
    },
    {
      "attachments": {},
      "cell_type": "markdown",
      "metadata": {
        "id": "ZUL0-cmslKXd"
      },
      "source": [
        "# 무한 입력"
      ]
    },
    {
      "cell_type": "code",
      "execution_count": 6,
      "metadata": {
        "colab": {
          "base_uri": "https://localhost:8080/"
        },
        "id": "Uw6z5NHSowdu",
        "outputId": "23168967-b963-4060-bafa-41b74f5286bf"
      },
      "outputs": [
        {
          "data": {
            "text/plain": [
              "65"
            ]
          },
          "execution_count": 6,
          "metadata": {},
          "output_type": "execute_result"
        }
      ],
      "source": [
        "import sys\n",
        "\n",
        "info = []\n",
        "for line in sys.stdin:\n",
        "    info.append([int(e) for e in line.split()])"
      ]
    },
    {
      "cell_type": "code",
      "execution_count": null,
      "metadata": {
        "id": "iGYeSMoryZLl"
      },
      "outputs": [],
      "source": []
    }
  ],
  "metadata": {
    "colab": {
      "authorship_tag": "ABX9TyODZpGCN5adX/9c32RDn41Z",
      "include_colab_link": true,
      "name": "팀노트.ipynb",
      "provenance": [],
      "toc_visible": true
    },
    "kernelspec": {
      "display_name": "Python 3",
      "name": "python3"
    },
    "language_info": {
      "name": "python"
    }
  },
  "nbformat": 4,
  "nbformat_minor": 0
}
