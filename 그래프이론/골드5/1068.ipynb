{
 "cells": [
  {
   "attachments": {},
   "cell_type": "markdown",
   "metadata": {},
   "source": [
    "# 트리"
   ]
  },
  {
   "cell_type": "code",
   "execution_count": null,
   "metadata": {},
   "outputs": [],
   "source": [
    "from collections import deque\n",
    "\n",
    "queue = deque()\n",
    "\n",
    "N = int(input())\n",
    "\n",
    "tree = [[] for _ in range(N)]\n",
    "state = [True] * N\n",
    "parents = list(map(int, input().split()))\n",
    "for idx, parent in enumerate(parents):\n",
    "    if parent != -1:\n",
    "        tree[parent].append(idx)\n",
    "\n",
    "del_node = int(input())\n",
    "queue.append(del_node)\n",
    "while queue:\n",
    "    node = queue.popleft()\n",
    "    state[node] = False\n",
    "    if node in tree[parents[node]]:\n",
    "        tree[parents[node]].remove(node)\n",
    "    for leaf in tree[node]:\n",
    "        if state[leaf] == True:\n",
    "            queue.append(leaf)\n",
    "        \n",
    "\n",
    "result = 0\n",
    "for i in range(N):\n",
    "    if state[i] == True and len(tree[i]) == 0:\n",
    "        result += 1\n",
    "\n",
    "print(result)"
   ]
  }
 ],
 "metadata": {
  "language_info": {
   "name": "python"
  },
  "orig_nbformat": 4
 },
 "nbformat": 4,
 "nbformat_minor": 2
}
