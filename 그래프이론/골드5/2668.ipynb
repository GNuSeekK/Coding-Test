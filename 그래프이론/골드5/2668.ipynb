{
 "cells": [
  {
   "attachments": {},
   "cell_type": "markdown",
   "metadata": {},
   "source": [
    "# 숫자고르기 (https://www.acmicpc.net/problem/2668)\n",
    "\n",
    "## 문제\n",
    "세로 두 줄, 가로로 N개의 칸으로 이루어진 표가 있다. 첫째 줄의 각 칸에는 정수 1, 2, …, N이 차례대로 들어 있고 둘째 줄의 각 칸에는 1이상 N이하인 정수가 들어 있다. 첫째 줄에서 숫자를 적절히 뽑으면, 그 뽑힌 정수들이 이루는 집합과, 뽑힌 정수들의 바로 밑의 둘째 줄에 들어있는 정수들이 이루는 집합이 일치한다. 이러한 조건을 만족시키도록 정수들을 뽑되, 최대로 많이 뽑는 방법을 찾는 프로그램을 작성하시오. 예를 들어, N=7인 경우 아래와 같이 표가 주어졌다고 하자.\n",
    "\n",
    "![image](https://www.acmicpc.net/upload/images/u5JZnfExdtFXjmR.png)\n",
    "\n",
    "\n",
    "이 경우에는 첫째 줄에서 1, 3, 5를 뽑는 것이 답이다. 첫째 줄의 1, 3, 5밑에는 각각 3, 1, 5가 있으며 두 집합은 일치한다. 이때 집합의 크기는 3이다. 만약 첫째 줄에서 1과 3을 뽑으면, 이들 바로 밑에는 정수 3과 1이 있으므로 두 집합이 일치한다. 그러나, 이 경우에 뽑힌 정수의 개수는 최대가 아니므로 답이 될 수 없다.\n",
    "\n",
    "## 입력\n",
    "첫째 줄에는 N(1≤N≤100)을 나타내는 정수 하나가 주어진다. 그 다음 줄부터는 표의 둘째 줄에 들어가는 정수들이 순서대로 한 줄에 하나씩 입력된다.\n",
    "\n",
    "## 출력\n",
    "첫째 줄에 뽑힌 정수들의 개수를 출력하고, 그 다음 줄부터는 뽑힌 정수들을 작은 수부터 큰 수의 순서로 한 줄에 하나씩 출력한다."
   ]
  },
  {
   "cell_type": "code",
   "execution_count": 21,
   "metadata": {},
   "outputs": [
    {
     "name": "stdout",
     "output_type": "stream",
     "text": [
      "3\n"
     ]
    }
   ],
   "source": [
    "N = int(input())\n",
    "\n",
    "nums = [0]\n",
    "for _ in range(N):\n",
    "    nums.append(int(input()))\n",
    "\n",
    "visited = [False] * (N + 1) \n",
    "checked = [False] * (N + 1)\n",
    "for i in range(1, N+1):\n",
    "    if checked[i] == True:\n",
    "        continue\n",
    "    num = nums[i]\n",
    "    line = [i]\n",
    "    if i == num:\n",
    "        checked[i] = True\n",
    "        visited[i] = True\n",
    "        continue\n",
    "    line.append(num)\n",
    "    while True:\n",
    "        num = nums[num]\n",
    "        if num not in line:\n",
    "            line.append(num)\n",
    "        else:\n",
    "            idx = line.index(num)\n",
    "            True_value = line[idx:]\n",
    "            for value in True_value:\n",
    "                visited[value] = True\n",
    "            for value in line:\n",
    "                checked[value] = True\n",
    "            break\n",
    "print(sum(visited))\n",
    "for i in range(1, N+1):\n",
    "    if visited[i] == True:\n",
    "        print(i)"
   ]
  },
  {
   "cell_type": "code",
   "execution_count": null,
   "metadata": {},
   "outputs": [],
   "source": []
  }
 ],
 "metadata": {
  "kernelspec": {
   "display_name": "base",
   "language": "python",
   "name": "python3"
  },
  "language_info": {
   "codemirror_mode": {
    "name": "ipython",
    "version": 3
   },
   "file_extension": ".py",
   "mimetype": "text/x-python",
   "name": "python",
   "nbconvert_exporter": "python",
   "pygments_lexer": "ipython3",
   "version": "3.9.13"
  },
  "orig_nbformat": 4
 },
 "nbformat": 4,
 "nbformat_minor": 2
}
