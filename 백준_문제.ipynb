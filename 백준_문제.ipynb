{
  "nbformat": 4,
  "nbformat_minor": 0,
  "metadata": {
    "colab": {
      "name": "백준 문제.ipynb",
      "provenance": [],
      "collapsed_sections": [],
      "authorship_tag": "ABX9TyOduCOU9/ID7PpIB799bJGd",
      "include_colab_link": true
    },
    "kernelspec": {
      "name": "python3",
      "display_name": "Python 3"
    },
    "language_info": {
      "name": "python"
    }
  },
  "cells": [
    {
      "cell_type": "markdown",
      "metadata": {
        "id": "view-in-github",
        "colab_type": "text"
      },
      "source": [
        "<a href=\"https://colab.research.google.com/github/GNuSeekK/Coding-Test/blob/main/%EB%B0%B1%EC%A4%80_%EB%AC%B8%EC%A0%9C.ipynb\" target=\"_parent\"><img src=\"https://colab.research.google.com/assets/colab-badge.svg\" alt=\"Open In Colab\"/></a>"
      ]
    },
    {
      "cell_type": "markdown",
      "source": [
        "# 1011번 Fly me to the Alpha Centauri(그리디)"
      ],
      "metadata": {
        "id": "hgvkhja7MfEI"
      }
    },
    {
      "cell_type": "code",
      "execution_count": null,
      "metadata": {
        "colab": {
          "base_uri": "https://localhost:8080/"
        },
        "id": "eUtpmwAbKBXc",
        "outputId": "71ebbdb5-76f0-4ac8-8b1b-2ceb7cdda8f8"
      },
      "outputs": [
        {
          "output_type": "stream",
          "name": "stdout",
          "text": [
            "2\n",
            "0 2\n",
            "2\n",
            "0 3\n",
            "3\n"
          ]
        }
      ],
      "source": [
        "import sys\n",
        "\n",
        "T = int(input())\n",
        "test_list = []\n",
        "\n",
        "for _ in range(T):\n",
        "    x, y = map(int, input().split())\n",
        "    dis = y - x\n",
        "    n = int((dis)**0.5)\n",
        "    if dis > n * (n+1):\n",
        "        rep = 2 * n + 1\n",
        "    else:\n",
        "        rep = 2 * n\n",
        "    print(rep)"
      ]
    },
    {
      "cell_type": "markdown",
      "source": [
        "# 1013번 Contact"
      ],
      "metadata": {
        "id": "z6Z4RJmwSXwy"
      }
    },
    {
      "cell_type": "code",
      "source": [
        "import sys\n",
        "T = int(input())\n",
        "\n",
        "def pattern(text):\n",
        "    print(text)\n",
        "    try:\n",
        "        if text[0] == \"0\": # 2번패턴\n",
        "            if text[1] == \"1\" and len(text) == 2:\n",
        "                print(\"YES\")\n",
        "            elif text[1] == \"1\" and len(text) > 2:\n",
        "                return pattern(text[2:])\n",
        "            else:\n",
        "                print(\"NO\")\n",
        "        else: # 1번패턴\n",
        "            one_index = text[1:].find('1')\n",
        "            if one_index < 2:\n",
        "                print(\"NO\")\n",
        "                return None\n",
        "            zero_index = text[one_index+1:].find('0')\n",
        "            if zero_index == -1:\n",
        "                print(\"YES\")\n",
        "                return None\n",
        "            elif zero_index == 1:\n",
        "                return pattern(text[one_index + zero_index + 1:])\n",
        "            else:\n",
        "                return pattern(text[one_index + zero_index:])\n",
        "    except:\n",
        "        print(\"NO\")\n",
        "    \n",
        "for i in range(T):\n",
        "    pattern(input())\n",
        "\n",
        "10011111/01/1\n",
        "1001111/1001/1/\n"
      ],
      "metadata": {
        "colab": {
          "base_uri": "https://localhost:8080/",
          "height": 1000
        },
        "id": "XOOQkUmxfg8g",
        "outputId": "8d6e735b-70f7-42de-aea0-e9dec50ea28c"
      },
      "execution_count": null,
      "outputs": [
        {
          "output_type": "stream",
          "name": "stdout",
          "text": [
            "20\n",
            "11\n",
            "11\n",
            "NO\n",
            "111\n",
            "111\n",
            "NO\n",
            "1110\n",
            "1110\n",
            "NO\n",
            "100011\n",
            "100011\n",
            "YES\n",
            "100011001\n",
            "100011001\n",
            "1001\n",
            "YES\n",
            "10000101\n",
            "10000101\n",
            "01\n",
            "YES\n",
            "0101000\n",
            "0101000\n",
            "01000\n",
            "000\n",
            "NO\n",
            "010110000101100111001\n",
            "010110000101100111001\n",
            "0110000101100111001\n",
            "10000101100111001\n",
            "01100111001\n",
            "100111001\n",
            "1001\n",
            "YES\n",
            "101\n",
            "101\n",
            "NO\n",
            "100000110\n",
            "100000110\n",
            "10\n",
            "NO\n",
            "1000000011001\n",
            "1000000011001\n",
            "1001\n",
            "YES\n",
            "10000000101\n",
            "10000000101\n",
            "01\n",
            "YES\n",
            "101111\n",
            "101111\n",
            "NO\n",
            "100111\n",
            "100111\n",
            "YES\n",
            "101010\n",
            "101010\n",
            "NO\n",
            "100001101\n",
            "100001101\n",
            "101\n",
            "NO\n",
            "10000001\n",
            "10000001\n",
            "YES\n",
            "10000001110001\n",
            "10000001110001\n",
            "10001\n",
            "YES\n",
            "10000000011101\n",
            "10000000011101\n",
            "101\n",
            "NO\n"
          ]
        },
        {
          "output_type": "error",
          "ename": "KeyboardInterrupt",
          "evalue": "ignored",
          "traceback": [
            "\u001b[0;31m---------------------------------------------------------------------------\u001b[0m",
            "\u001b[0;31mKeyboardInterrupt\u001b[0m                         Traceback (most recent call last)",
            "\u001b[0;32m/usr/local/lib/python3.7/dist-packages/ipykernel/kernelbase.py\u001b[0m in \u001b[0;36m_input_request\u001b[0;34m(self, prompt, ident, parent, password)\u001b[0m\n\u001b[1;32m    728\u001b[0m             \u001b[0;32mtry\u001b[0m\u001b[0;34m:\u001b[0m\u001b[0;34m\u001b[0m\u001b[0;34m\u001b[0m\u001b[0m\n\u001b[0;32m--> 729\u001b[0;31m                 \u001b[0mident\u001b[0m\u001b[0;34m,\u001b[0m \u001b[0mreply\u001b[0m \u001b[0;34m=\u001b[0m \u001b[0mself\u001b[0m\u001b[0;34m.\u001b[0m\u001b[0msession\u001b[0m\u001b[0;34m.\u001b[0m\u001b[0mrecv\u001b[0m\u001b[0;34m(\u001b[0m\u001b[0mself\u001b[0m\u001b[0;34m.\u001b[0m\u001b[0mstdin_socket\u001b[0m\u001b[0;34m,\u001b[0m \u001b[0;36m0\u001b[0m\u001b[0;34m)\u001b[0m\u001b[0;34m\u001b[0m\u001b[0;34m\u001b[0m\u001b[0m\n\u001b[0m\u001b[1;32m    730\u001b[0m             \u001b[0;32mexcept\u001b[0m \u001b[0mException\u001b[0m\u001b[0;34m:\u001b[0m\u001b[0;34m\u001b[0m\u001b[0;34m\u001b[0m\u001b[0m\n",
            "\u001b[0;32m/usr/local/lib/python3.7/dist-packages/jupyter_client/session.py\u001b[0m in \u001b[0;36mrecv\u001b[0;34m(self, socket, mode, content, copy)\u001b[0m\n\u001b[1;32m    802\u001b[0m         \u001b[0;32mtry\u001b[0m\u001b[0;34m:\u001b[0m\u001b[0;34m\u001b[0m\u001b[0;34m\u001b[0m\u001b[0m\n\u001b[0;32m--> 803\u001b[0;31m             \u001b[0mmsg_list\u001b[0m \u001b[0;34m=\u001b[0m \u001b[0msocket\u001b[0m\u001b[0;34m.\u001b[0m\u001b[0mrecv_multipart\u001b[0m\u001b[0;34m(\u001b[0m\u001b[0mmode\u001b[0m\u001b[0;34m,\u001b[0m \u001b[0mcopy\u001b[0m\u001b[0;34m=\u001b[0m\u001b[0mcopy\u001b[0m\u001b[0;34m)\u001b[0m\u001b[0;34m\u001b[0m\u001b[0;34m\u001b[0m\u001b[0m\n\u001b[0m\u001b[1;32m    804\u001b[0m         \u001b[0;32mexcept\u001b[0m \u001b[0mzmq\u001b[0m\u001b[0;34m.\u001b[0m\u001b[0mZMQError\u001b[0m \u001b[0;32mas\u001b[0m \u001b[0me\u001b[0m\u001b[0;34m:\u001b[0m\u001b[0;34m\u001b[0m\u001b[0;34m\u001b[0m\u001b[0m\n",
            "\u001b[0;32m/usr/local/lib/python3.7/dist-packages/zmq/sugar/socket.py\u001b[0m in \u001b[0;36mrecv_multipart\u001b[0;34m(self, flags, copy, track)\u001b[0m\n\u001b[1;32m    726\u001b[0m         \"\"\"\n\u001b[0;32m--> 727\u001b[0;31m         \u001b[0mparts\u001b[0m \u001b[0;34m=\u001b[0m \u001b[0;34m[\u001b[0m\u001b[0mself\u001b[0m\u001b[0;34m.\u001b[0m\u001b[0mrecv\u001b[0m\u001b[0;34m(\u001b[0m\u001b[0mflags\u001b[0m\u001b[0;34m,\u001b[0m \u001b[0mcopy\u001b[0m\u001b[0;34m=\u001b[0m\u001b[0mcopy\u001b[0m\u001b[0;34m,\u001b[0m \u001b[0mtrack\u001b[0m\u001b[0;34m=\u001b[0m\u001b[0mtrack\u001b[0m\u001b[0;34m)\u001b[0m\u001b[0;34m]\u001b[0m\u001b[0;34m\u001b[0m\u001b[0;34m\u001b[0m\u001b[0m\n\u001b[0m\u001b[1;32m    728\u001b[0m         \u001b[0;31m# have first part already, only loop while more to receive\u001b[0m\u001b[0;34m\u001b[0m\u001b[0;34m\u001b[0m\u001b[0;34m\u001b[0m\u001b[0m\n",
            "\u001b[0;32mzmq/backend/cython/socket.pyx\u001b[0m in \u001b[0;36mzmq.backend.cython.socket.Socket.recv\u001b[0;34m()\u001b[0m\n",
            "\u001b[0;32mzmq/backend/cython/socket.pyx\u001b[0m in \u001b[0;36mzmq.backend.cython.socket.Socket.recv\u001b[0;34m()\u001b[0m\n",
            "\u001b[0;32mzmq/backend/cython/socket.pyx\u001b[0m in \u001b[0;36mzmq.backend.cython.socket._recv_copy\u001b[0;34m()\u001b[0m\n",
            "\u001b[0;32m/usr/local/lib/python3.7/dist-packages/zmq/backend/cython/checkrc.pxd\u001b[0m in \u001b[0;36mzmq.backend.cython.checkrc._check_rc\u001b[0;34m()\u001b[0m\n",
            "\u001b[0;31mKeyboardInterrupt\u001b[0m: ",
            "\nDuring handling of the above exception, another exception occurred:\n",
            "\u001b[0;31mKeyboardInterrupt\u001b[0m                         Traceback (most recent call last)",
            "\u001b[0;32m<ipython-input-86-fbaf9d376153>\u001b[0m in \u001b[0;36m<module>\u001b[0;34m()\u001b[0m\n\u001b[1;32m     29\u001b[0m \u001b[0;34m\u001b[0m\u001b[0m\n\u001b[1;32m     30\u001b[0m \u001b[0;32mfor\u001b[0m \u001b[0mi\u001b[0m \u001b[0;32min\u001b[0m \u001b[0mrange\u001b[0m\u001b[0;34m(\u001b[0m\u001b[0mT\u001b[0m\u001b[0;34m)\u001b[0m\u001b[0;34m:\u001b[0m\u001b[0;34m\u001b[0m\u001b[0;34m\u001b[0m\u001b[0m\n\u001b[0;32m---> 31\u001b[0;31m     \u001b[0mpattern\u001b[0m\u001b[0;34m(\u001b[0m\u001b[0minput\u001b[0m\u001b[0;34m(\u001b[0m\u001b[0;34m)\u001b[0m\u001b[0;34m)\u001b[0m\u001b[0;34m\u001b[0m\u001b[0;34m\u001b[0m\u001b[0m\n\u001b[0m",
            "\u001b[0;32m/usr/local/lib/python3.7/dist-packages/ipykernel/kernelbase.py\u001b[0m in \u001b[0;36mraw_input\u001b[0;34m(self, prompt)\u001b[0m\n\u001b[1;32m    702\u001b[0m             \u001b[0mself\u001b[0m\u001b[0;34m.\u001b[0m\u001b[0m_parent_ident\u001b[0m\u001b[0;34m,\u001b[0m\u001b[0;34m\u001b[0m\u001b[0;34m\u001b[0m\u001b[0m\n\u001b[1;32m    703\u001b[0m             \u001b[0mself\u001b[0m\u001b[0;34m.\u001b[0m\u001b[0m_parent_header\u001b[0m\u001b[0;34m,\u001b[0m\u001b[0;34m\u001b[0m\u001b[0;34m\u001b[0m\u001b[0m\n\u001b[0;32m--> 704\u001b[0;31m             \u001b[0mpassword\u001b[0m\u001b[0;34m=\u001b[0m\u001b[0;32mFalse\u001b[0m\u001b[0;34m,\u001b[0m\u001b[0;34m\u001b[0m\u001b[0;34m\u001b[0m\u001b[0m\n\u001b[0m\u001b[1;32m    705\u001b[0m         )\n\u001b[1;32m    706\u001b[0m \u001b[0;34m\u001b[0m\u001b[0m\n",
            "\u001b[0;32m/usr/local/lib/python3.7/dist-packages/ipykernel/kernelbase.py\u001b[0m in \u001b[0;36m_input_request\u001b[0;34m(self, prompt, ident, parent, password)\u001b[0m\n\u001b[1;32m    732\u001b[0m             \u001b[0;32mexcept\u001b[0m \u001b[0mKeyboardInterrupt\u001b[0m\u001b[0;34m:\u001b[0m\u001b[0;34m\u001b[0m\u001b[0;34m\u001b[0m\u001b[0m\n\u001b[1;32m    733\u001b[0m                 \u001b[0;31m# re-raise KeyboardInterrupt, to truncate traceback\u001b[0m\u001b[0;34m\u001b[0m\u001b[0;34m\u001b[0m\u001b[0;34m\u001b[0m\u001b[0m\n\u001b[0;32m--> 734\u001b[0;31m                 \u001b[0;32mraise\u001b[0m \u001b[0mKeyboardInterrupt\u001b[0m\u001b[0;34m\u001b[0m\u001b[0;34m\u001b[0m\u001b[0m\n\u001b[0m\u001b[1;32m    735\u001b[0m             \u001b[0;32melse\u001b[0m\u001b[0;34m:\u001b[0m\u001b[0;34m\u001b[0m\u001b[0;34m\u001b[0m\u001b[0m\n\u001b[1;32m    736\u001b[0m                 \u001b[0;32mbreak\u001b[0m\u001b[0;34m\u001b[0m\u001b[0;34m\u001b[0m\u001b[0m\n",
            "\u001b[0;31mKeyboardInterrupt\u001b[0m: "
          ]
        }
      ]
    },
    {
      "cell_type": "markdown",
      "source": [
        "# 2022.06.22"
      ],
      "metadata": {
        "id": "4gYYfhW1DvFD"
      }
    },
    {
      "cell_type": "markdown",
      "source": [
        "## 1025번 제곱수 찾기\n"
      ],
      "metadata": {
        "id": "ShpZ1XorfmLq"
      }
    },
    {
      "cell_type": "markdown",
      "source": [
        "> 다시 풀어보기(구현)"
      ],
      "metadata": {
        "id": "GcfEPdTID9bq"
      }
    },
    {
      "cell_type": "markdown",
      "source": [
        "## 1038번 감소하는 수"
      ],
      "metadata": {
        "id": "RefSV7NJG_5x"
      }
    },
    {
      "cell_type": "code",
      "source": [
        "N = int(input())\n",
        "from itertools import combinations\n",
        "\n",
        "numbers = []\n",
        "for i in range(1,11):\n",
        "    comb = list(combinations(['0', '1', '2', '3', '4', '5', '6', '7', '8', '9'],i))\n",
        "    for data in comb:\n",
        "        numbers.append(int(''.join(sorted(data, reverse = True))))\n",
        "numbers = sorted(list(set(numbers)))\n",
        "\n",
        "if N >= len(numbers):\n",
        "    print('-1')\n",
        "else:\n",
        "    print(numbers[N])"
      ],
      "metadata": {
        "colab": {
          "base_uri": "https://localhost:8080/"
        },
        "id": "JzyDDk79D5t2",
        "outputId": "116d249f-36fb-47f9-cad8-30538166a4e1"
      },
      "execution_count": null,
      "outputs": [
        {
          "output_type": "stream",
          "name": "stdout",
          "text": [
            "5000\n",
            "-1\n"
          ]
        }
      ]
    },
    {
      "cell_type": "markdown",
      "source": [
        "## 1041번 주사위"
      ],
      "metadata": {
        "id": "-pw0alpNZqaB"
      }
    },
    {
      "cell_type": "code",
      "source": [
        "from itertools import combinations\n",
        "N = int(input())\n",
        "dice = list(map(int, input().split()))\n",
        "if N == 1:\n",
        "    print(sum(dice) - max(dice))\n",
        "else:\n",
        "    comb2 = list(combinations([0,1,2,3,4,5],2))\n",
        "    # comb2 = [x for x in comb2 if ((0 and 5) or (1 and 4) or (2 and 3)) not in x]\n",
        "    new_comb2 = []\n",
        "    for x in comb2:\n",
        "        if 0 in x and 5 in x:\n",
        "            continue\n",
        "        if 1 in x and 4 in x:\n",
        "            continue\n",
        "        if 2 in x and 3 in x:\n",
        "            continue\n",
        "        new_comb2.append(x)\n",
        "    comb3 = list(combinations([0,1,2,3,4,5],3))\n",
        "    # comb3 = [x for x in comb3 if ((0 and 5) or (1 and 4) or (2 and 3)) not in x]\n",
        "    new_comb3 = []\n",
        "    for x in comb3:\n",
        "        if 0 in x and 5 in x:\n",
        "            continue\n",
        "        if 1 in x and 4 in x:\n",
        "            continue\n",
        "        if 2 in x and 3 in x:\n",
        "            continue\n",
        "        new_comb3.append(x)\n",
        "    new_comb2 = [sum([dice[x[0]], dice[x[1]]]) for기x in new_comb2]\n",
        "    new_comb3 = [sum([dice[x[0]], dice[x[1]], dice[x[2]]]) for x in new_comb3]\n",
        "    min_2sum = min(new_comb2) \n",
        "    min_3sum = min(new_comb3)\n",
        "\n",
        "    result = 0\n",
        "    # 숫자 한개만 보이는 주사위의 갯수\n",
        "    # (N-1) * (N-2) * 4 + (N-2) * (N-2)\n",
        "    result += ((5 * N - 6) * (N-2)) * min(dice)\n",
        "    # 숫자 2개 보이는 주사위의 갯수\n",
        "    # (N-1) * 4 + (N-2) * 4\n",
        "    result += ((2 * N - 3) * 4) * min_2sum\n",
        "    # 숫자 3개 보이는 주사위의 갯수\n",
        "    result += 4 * min_3sum\n",
        "\n",
        "    print(result)"
      ],
      "metadata": {
        "colab": {
          "base_uri": "https://localhost:8080/"
        },
        "id": "PJUrxjKQZtsn",
        "outputId": "792d92c5-39d7-45e9-971b-bb33ab353021"
      },
      "execution_count": null,
      "outputs": [
        {
          "output_type": "stream",
          "name": "stdout",
          "text": [
            "1\n",
            "1 2 3 4 5 6\n",
            "15\n"
          ]
        }
      ]
    },
    {
      "cell_type": "markdown",
      "source": [
        "> 다른 사람의 코드에서 착안점\n",
        "\n",
        "* 주사위의 양 면이 같이 나올 수 없다는 것을 이용\n",
        "* 두개씩 하나의 집합으로 하여 작은 숫자만 선택해 최고의 조합 찾기"
      ],
      "metadata": {
        "id": "cpbaIvRcDNBS"
      }
    },
    {
      "cell_type": "markdown",
      "source": [
        "# 2022.06.24"
      ],
      "metadata": {
        "id": "Sl8kLI-wi0Z2"
      }
    },
    {
      "cell_type": "markdown",
      "source": [
        "## 1068번 트리"
      ],
      "metadata": {
        "id": "LV56pCX0Di0K"
      }
    },
    {
      "cell_type": "code",
      "source": [
        "from collections import deque\n",
        "\n",
        "queue = deque()\n",
        "\n",
        "N = int(input())\n",
        "\n",
        "tree = [[] for _ in range(N)]\n",
        "state = [True] * N\n",
        "parents = list(map(int, input().split()))\n",
        "for idx, parent in enumerate(parents):\n",
        "    if parent != -1:\n",
        "        tree[parent].append(idx)\n",
        "\n",
        "del_node = int(input())\n",
        "queue.append(del_node)\n",
        "while queue:\n",
        "    node = queue.popleft()\n",
        "    state[node] = False\n",
        "    if node in tree[parents[node]]:\n",
        "        tree[parents[node]].remove(node)\n",
        "    for leaf in tree[node]:\n",
        "        if state[leaf] == True:\n",
        "            queue.append(leaf)\n",
        "        \n",
        "\n",
        "result = 0\n",
        "for i in range(N):\n",
        "    if state[i] == True and len(tree[i]) == 0:\n",
        "        result += 1\n",
        "\n",
        "print(result)"
      ],
      "metadata": {
        "id": "-Camf1GMDlQg",
        "colab": {
          "base_uri": "https://localhost:8080/"
        },
        "outputId": "ba35b9ea-c3d0-492c-a79c-47d0e2fb2ac8"
      },
      "execution_count": null,
      "outputs": [
        {
          "output_type": "stream",
          "name": "stdout",
          "text": [
            "4\n",
            "-1 0 1 2\n",
            "2\n",
            "1\n"
          ]
        }
      ]
    },
    {
      "cell_type": "markdown",
      "source": [
        "## 1083번 소트"
      ],
      "metadata": {
        "id": "MWO0PNseStDw"
      }
    },
    {
      "cell_type": "code",
      "source": [
        "N = int(input())\n",
        "arr = list(map(int, input().split()))\n",
        "S = int(input())\n",
        "\n",
        "now = 0\n",
        "while S > 0:\n",
        "    if now >= N:\n",
        "        break\n",
        "    if S >= N - now:\n",
        "        idx = arr.index(max(arr[now:]))\n",
        "        num = arr.pop(idx)\n",
        "        arr.insert(now, num)\n",
        "        S -= idx - now\n",
        "        now += 1\n",
        "    else:\n",
        "        idx = arr.index(max(arr[now : now + min(N - now, S + 1)]))\n",
        "        if S >= idx - now:\n",
        "            num = arr.pop(idx)\n",
        "            arr.insert(now, num)\n",
        "            S -= idx - now\n",
        "        now += 1        \n",
        "\n",
        "print(' '.join(map(str, arr)))"
      ],
      "metadata": {
        "colab": {
          "base_uri": "https://localhost:8080/"
        },
        "id": "Vb7u03EBSxUk",
        "outputId": "a1eede6f-a4f6-4f8c-b33f-3cec8b55afb6"
      },
      "execution_count": null,
      "outputs": [
        {
          "output_type": "stream",
          "name": "stdout",
          "text": [
            "7\n",
            "10 20 30 40 50 60 70\n",
            "1\n",
            "20 10 30 40 50 60 70\n"
          ]
        }
      ]
    },
    {
      "cell_type": "markdown",
      "source": [
        "# 2022.06.25"
      ],
      "metadata": {
        "id": "fXNj4S8ElULO"
      }
    },
    {
      "cell_type": "markdown",
      "source": [
        "## 1091번 카드섞기"
      ],
      "metadata": {
        "id": "vUmb5JsJF1Sy"
      }
    },
    {
      "cell_type": "code",
      "source": [
        "N = int(input())\n",
        "P = list(map(int, input().split()))\n",
        "S = list(map(int, input().split()))\n",
        "\n",
        "cards = [0, 1, 2] * (N // 3)\n",
        "ori = [x for x in P]\n",
        "result = 0\n",
        "while True:\n",
        "    if [x % 3 for x in P] == cards:\n",
        "        print(result)\n",
        "        break\n",
        "    P = sorted([(P[idx], x) for idx, x in enumerate(S)], key = lambda x: x[1])\n",
        "    P = [x[0] for x in P]\n",
        "    result += 1\n",
        "    if P == ori:\n",
        "        print(-1)\n",
        "        break\n",
        "    "
      ],
      "metadata": {
        "colab": {
          "base_uri": "https://localhost:8080/"
        },
        "id": "24_8BJqRGgyA",
        "outputId": "4bff99b6-d660-40e2-9bfa-0c65e52addd9"
      },
      "execution_count": null,
      "outputs": [
        {
          "name": "stdout",
          "output_type": "stream",
          "text": [
            "3\n",
            "1 0 2\n",
            "0 2 1\n"
          ]
        }
      ]
    },
    {
      "cell_type": "markdown",
      "source": [
        "# 2022.06.27"
      ],
      "metadata": {
        "id": "VagvdFJ7pedN"
      }
    },
    {
      "cell_type": "markdown",
      "source": [
        "## 1092번 배"
      ],
      "metadata": {
        "id": "Edf1GsGMrqNI"
      }
    },
    {
      "cell_type": "code",
      "source": [
        "from bisect import bisect_right\n",
        "\n",
        "N = int(input())\n",
        "crains = sorted(list(map(int, input().split())))\n",
        "M = int(input())\n",
        "weights = sorted(list(map(int, input().split())))\n",
        "\n",
        "if weights[-1] > crains[-1]:\n",
        "    print(-1)\n",
        "else:\n",
        "    result = 0\n",
        "    while weights:\n",
        "        for idx in range(N - 1, -1, -1):\n",
        "            limit = crains[idx]\n",
        "            pop_idx = bisect_right(weights, limit) - 1\n",
        "            if pop_idx == -1:\n",
        "                break\n",
        "            else:\n",
        "                weights.pop(pop_idx)\n",
        "        result += 1\n",
        "    print(result)"
      ],
      "metadata": {
        "id": "KMWh03dMrvUZ",
        "colab": {
          "base_uri": "https://localhost:8080/"
        },
        "outputId": "598fef58-a980-427b-e5c8-ca94b17ede02"
      },
      "execution_count": null,
      "outputs": [
        {
          "name": "stdout",
          "output_type": "stream",
          "text": [
            "3\n",
            "6 8 9\n",
            "5\n",
            "2 5 2 4 7\n"
          ]
        }
      ]
    },
    {
      "cell_type": "markdown",
      "source": [
        "## ★ 1106번 호텔 (DP)"
      ],
      "metadata": {
        "id": "v3Odonr9i-6h"
      }
    },
    {
      "cell_type": "markdown",
      "source": [
        "> dp문제 다시 풀어볼 것"
      ],
      "metadata": {
        "id": "ALLp4S9tCCHw"
      }
    },
    {
      "cell_type": "markdown",
      "source": [
        "## 1107번 리모컨(브루트 포스)"
      ],
      "metadata": {
        "id": "9HQKeX1R3sU7"
      }
    },
    {
      "cell_type": "markdown",
      "source": [
        "무작정 알고리즘(전수조사 : 브루트 포스)을 이용하여 전체 탐색을 수행하였음\n",
        "수행시간이 너무 길어서 index를 이용해서 중복조합이 아니라 가능한 경우의 수를 줄이면 더 좋은 결과가 예상됨."
      ],
      "metadata": {
        "id": "JLboc09cb0Kc"
      }
    },
    {
      "cell_type": "code",
      "source": [
        "from bisect import bisect_left, bisect_right\n",
        "from itertools import product\n",
        "\n",
        "N = int(input())\n",
        "M = int(input())\n",
        "if M == 0:\n",
        "    buttons = [str(x) for x in range(10)]\n",
        "else:\n",
        "    buttons = list(map(int, input().split()))\n",
        "    buttons = [str(x) for x in range(10) if x not in buttons]\n",
        "\n",
        "if M == 10:\n",
        "    print(abs(N - 100))\n",
        "elif 98 <= N <= 103:\n",
        "    print(abs(100 - N))\n",
        "else:\n",
        "    numbers = list(product(buttons, repeat = len(str(N))))\n",
        "    if buttons[0] == '0' and len(buttons) > 1:\n",
        "        numbers += [buttons[1] + '0' * len(str(N))]\n",
        "    else:\n",
        "        numbers += [buttons[0] * (len(str(N)) + 1)]\n",
        "    if len(str(N)) > 1:\n",
        "        numbers += [buttons[-1] * (len(str(N)) - 1)]\n",
        "    numbers = [''.join(x) for x in numbers]\n",
        "    numbers = [abs(N - int(x)) + len(x) for x in numbers]\n",
        "    print(min(abs(N - 100), min(numbers)))"
      ],
      "metadata": {
        "colab": {
          "base_uri": "https://localhost:8080/"
        },
        "id": "ITnfdeNSHIPO",
        "outputId": "43356eb7-452a-4074-a663-b68025f94091"
      },
      "execution_count": null,
      "outputs": [
        {
          "output_type": "stream",
          "name": "stdout",
          "text": [
            "1\n",
            "1\n",
            "1\n",
            "2\n"
          ]
        }
      ]
    },
    {
      "cell_type": "markdown",
      "source": [
        "## 1117번 색칠1"
      ],
      "metadata": {
        "id": "BRZT6I9Sukg4"
      }
    },
    {
      "cell_type": "code",
      "source": [
        "# 행을 뒤집어서 (0,0)을 가장 왼쪽 위 점으로 생각\n",
        "W, H, f, c, x1, y1, x2, y2 = map(int, input().split())\n",
        "if f != 0 and W / f == 2:\n",
        "    vec = [2 * (c+1)]\n",
        "else:\n",
        "    vec = [2 * (c + 1), (c + 1)]\n",
        "columns = H // (c + 1)\n",
        "\n",
        "value = 0\n",
        "# 두 영역 겹쳐서 칠할 때\n",
        "if x1 < min(W - f, f) and x2 > min(W - f, f):\n",
        "    value += vec[0] * columns * x1\n",
        "    value += vec[0] * (columns - y2 + y1) * (min(W - f, f) - x1)\n",
        "    value += vec[-1] * columns * (max(W - f, f) - x2)\n",
        "    value += vec[-1] * (columns - y2 + y1) * (x2 - min(W - f, f))\n",
        "# 왼쪽에 겹친 영역만 칠할 때\n",
        "if x1 <= min(W - f, f) and x2 <= min(W - f, f):\n",
        "    value += vec[0] * columns * (min(W - f, f) - x2 + x1)\n",
        "    value += vec[0] * (columns - y2 + y1) * (x2 - x1)\n",
        "    value += vec[-1] * columns * (max(W - f, f) - min(W - f, f))\n",
        "# 오른쪽에 안겹친 영역만 칠할 때\n",
        "if x1 >= min(W - f, f) and x2 > min(W - f, f):\n",
        "    value += vec[0] * columns * min(W - f, f)\n",
        "    value += vec[-1] * columns * (max(W - f, f) - min(W - f, f) - x2 + x1)\n",
        "    value += vec[-1] * (columns - y2 + y1) * (x2 - x1)\n",
        "\n",
        "print(value)"
      ],
      "metadata": {
        "colab": {
          "base_uri": "https://localhost:8080/"
        },
        "id": "OypCNjUOunPw",
        "outputId": "255ed50a-a63e-4e66-e904-46326c22efd4"
      },
      "execution_count": null,
      "outputs": [
        {
          "output_type": "stream",
          "name": "stdout",
          "text": [
            "3 13 1 0 1 8 2 12\n",
            "이거\n",
            "26\n",
            "2\n",
            "26\n",
            "35\n"
          ]
        }
      ]
    },
    {
      "cell_type": "markdown",
      "source": [
        "## 1174번 줄어드는 수"
      ],
      "metadata": {
        "id": "y3xeuRUh-jME"
      }
    },
    {
      "cell_type": "code",
      "source": [
        "from itertools import combinations\n",
        "\n",
        "arr = [f'{x}' for x in range(9, -1, -1)]\n",
        "comb = []\n",
        "for i in range(1,11):\n",
        "    comb += list(combinations(arr, i))\n",
        "comb = sorted([int(''.join(x)) for x in comb])\n",
        "\n",
        "N = int(input())\n",
        "if N > len(comb):\n",
        "    print(-1)\n",
        "else:\n",
        "    print(comb[N-1])"
      ],
      "metadata": {
        "colab": {
          "base_uri": "https://localhost:8080/"
        },
        "id": "FIPIqlIOHahw",
        "outputId": "fe666d5a-c1eb-4bc6-a1ee-65e9be1fe435"
      },
      "execution_count": null,
      "outputs": [
        {
          "output_type": "stream",
          "name": "stdout",
          "text": [
            "1\n",
            "0\n"
          ]
        }
      ]
    },
    {
      "cell_type": "markdown",
      "source": [
        "## 1195번 킥다운"
      ],
      "metadata": {
        "id": "k_SacsjgJGFR"
      }
    },
    {
      "cell_type": "code",
      "source": [
        "N = list(map(int, input()))\n",
        "M = list(map(int, input()))\n",
        "\n",
        "length = len(N) + len(M)\n",
        "for i in range(len(M)+1):\n",
        "    arr = M + [0] * len(N)\n",
        "    for idx, num in enumerate(N):\n",
        "        arr[i + idx] += num\n",
        "        if arr[i + idx] > 3:\n",
        "            break\n",
        "    if arr[i + idx] <= 3:\n",
        "        length = min(length, max(i + idx + 1, len(M)))\n",
        "\n",
        "\n",
        "for i in range(len(N)+1):\n",
        "    arr = N + [0] * len(M)\n",
        "    for idx, num in enumerate(M):\n",
        "        arr[i + idx] += num\n",
        "        if arr[i + idx] > 3:\n",
        "            break\n",
        "    if arr[i + idx] <= 3:\n",
        "        length = min(length, max(i + idx + 1, len(N)))\n",
        "\n",
        "print(length)"
      ],
      "metadata": {
        "colab": {
          "base_uri": "https://localhost:8080/"
        },
        "id": "f0k07BBfMz1O",
        "outputId": "ad4f2263-d6e7-43dd-c5f0-6cca7798252c"
      },
      "execution_count": null,
      "outputs": [
        {
          "name": "stdout",
          "output_type": "stream",
          "text": [
            "2112112112\n",
            "2212112\n"
          ]
        }
      ]
    },
    {
      "cell_type": "markdown",
      "source": [
        "# 2022.06.28"
      ],
      "metadata": {
        "id": "iV3IJb1Q0qpR"
      }
    },
    {
      "cell_type": "markdown",
      "source": [
        "## ★ 1240번 노드사이의 거리(DFS)"
      ],
      "metadata": {
        "id": "Yp-9mCpnR67D"
      }
    },
    {
      "cell_type": "code",
      "source": [
        "# import sys\n",
        "# input = sys.stdin.readline\n",
        "N, M = map(int, input().split())\n",
        "\n",
        "graph = [[] for _ in range(N + 1)]\n",
        "for _ in range(N - 1):\n",
        "    node1, node2, cost = map(int, input().split())\n",
        "    graph[node1].append((node2, cost))\n",
        "    graph[node2].append((node1, cost))\n",
        "\n",
        "def dfs(start, end, cost):\n",
        "    arr = [(x, y + cost) for x, y in graph[start]]\n",
        "    while arr:\n",
        "        node, tmp_cost = arr.pop(-1)\n",
        "        if node == end:\n",
        "            return tmp_cost\n",
        "        if visited[node] == False:\n",
        "            visited[node] = True\n",
        "            new_cost = dfs(node, end, tmp_cost)\n",
        "            if new_cost != None:\n",
        "                return new_cost\n",
        "\n",
        "for _ in range(M):\n",
        "    visited = [True] + [False] * N\n",
        "    start, end = map(int, input().split())\n",
        "    visited[start] = True\n",
        "    print(dfs(start, end, 0))"
      ],
      "metadata": {
        "id": "rbwxT42Lta14",
        "colab": {
          "base_uri": "https://localhost:8080/"
        },
        "outputId": "422dac48-3dc7-44a9-84bf-f362a7286b1e"
      },
      "execution_count": null,
      "outputs": [
        {
          "output_type": "stream",
          "name": "stdout",
          "text": [
            "4 2 \n",
            "2 1 2\n",
            "4 3 2\n",
            "1 4 3\n",
            "1 2\n",
            "1 2 0\n",
            "4 2 3\n",
            "3 2 5\n",
            "2\n",
            "3 2\n",
            "3 2 0\n",
            "4 2 2\n",
            "1 2 5\n",
            "7\n"
          ]
        }
      ]
    },
    {
      "cell_type": "markdown",
      "source": [
        "## ★ 1241번 머리 톡톡"
      ],
      "metadata": {
        "id": "kS-qeZ_3rSfQ"
      }
    },
    {
      "cell_type": "markdown",
      "source": [
        "시간초과 판정"
      ],
      "metadata": {
        "id": "R728s_Z-A4b3"
      }
    },
    {
      "cell_type": "code",
      "source": [
        "# import sys\n",
        "# input = sys.stdin.readline\n",
        "\n",
        "N = int(input())\n",
        "arr = []\n",
        "for i in range(N):\n",
        "    arr.append([int(input()), i])\n",
        "arr = sorted(arr, key = lambda x: x[0])\n",
        "\n",
        "result = [0] * N\n",
        "for i in range(N - 1):\n",
        "    num = arr[i][0]\n",
        "    tmp_arr = [x[0] % num == 0 for x in arr[i + 1:]]\n",
        "    for idx, TF in enumerate(tmp_arr):\n",
        "        result[arr[i + idx + 1][1]] += TF\n",
        "    # print(num, result)\n",
        "\n",
        "arr = sorted(arr, key = lambda x: x[1])\n",
        "for tmp in arr:\n",
        "    print(result[tmp[0]])\n"
      ],
      "metadata": {
        "colab": {
          "base_uri": "https://localhost:8080/"
        },
        "id": "wqBU0No00uwa",
        "outputId": "234855c4-8a27-4a30-83d7-e8c891cb8339"
      },
      "execution_count": null,
      "outputs": [
        {
          "output_type": "stream",
          "name": "stdout",
          "text": [
            "5\n",
            "2\n",
            "1\n",
            "2\n",
            "3\n",
            "4\n",
            "1 [1, 0, 1, 1, 1]\n",
            "2 [1, 0, 2, 1, 2]\n",
            "2 [1, 0, 2, 1, 3]\n",
            "3 [1, 0, 2, 1, 3]\n",
            "2\n",
            "0\n",
            "2\n",
            "1\n",
            "3\n"
          ]
        }
      ]
    },
    {
      "cell_type": "markdown",
      "source": [
        "* 다른사람 코드\n",
        "  * 방문을 기억해 뒀다가 다시 처리 안함.\n",
        "  * 약수를 이용해서 더해주는 방식은 동일"
      ],
      "metadata": {
        "id": "lAA3ubCX5-MT"
      }
    },
    {
      "cell_type": "code",
      "source": [
        "# import sys\n",
        "\n",
        "# input = sys.stdin.readline\n",
        "\n",
        "N = int(input())\n",
        "arr = list(int(input()) for _ in range(N))\n",
        "\n",
        "max_int = max(arr)+1\n",
        "origin_cnt = [0] * (max_int)\n",
        "check = [0] * (max_int)\n",
        "visited = [False] * max_int\n",
        "for num in arr:\n",
        "    origin_cnt[num] += 1\n",
        "\n",
        "# 해당 수의 약수들의 개수 더하기\n",
        "for i in range(N):\n",
        "    tmp = arr[i]\n",
        "\n",
        "    if visited[tmp]:  # 이미 그 수 탐색했다면\n",
        "        continue\n",
        "\n",
        "    else:  # 그 수 탐색한 적 없으면\n",
        "        for j in range(tmp, max_int, tmp): # tmp가 j의 약수이면\n",
        "            check[j] += origin_cnt[tmp]\n",
        "\n",
        "    visited[tmp] = True\n",
        "\n",
        "# 정답 출력\n",
        "for num in arr:\n",
        "    print(check[num] + - 1)  # 처음에 자기 자신 하나 추가되니까 1을 빼줌"
      ],
      "metadata": {
        "id": "1QS0BkEi8xku"
      },
      "execution_count": null,
      "outputs": []
    },
    {
      "cell_type": "markdown",
      "source": [
        "## RE ★ 1327번 소트 게임 (BFS)"
      ],
      "metadata": {
        "id": "Jly2CfSRT4aF"
      }
    },
    {
      "cell_type": "markdown",
      "source": [
        "다시 풀어보기 (같은 횟수를 모두다 확인하면서 답이 나오는 순간 그 횟수를 return)"
      ],
      "metadata": {
        "id": "gpP0cJHyV2FE"
      }
    },
    {
      "cell_type": "markdown",
      "source": [
        "## 1351번 무한 수열"
      ],
      "metadata": {
        "id": "vIcwSNwqzAuv"
      }
    },
    {
      "cell_type": "markdown",
      "source": [
        "### 자료형 주의!!!\n",
        "\n",
        "* 리스트 자료형 쓰면 메모리 초과\n",
        "* 다이나믹 안쓰면 시간 초과\n",
        "* dict 이용해서 해줘야함"
      ],
      "metadata": {
        "id": "IuZNwK8p8j2f"
      }
    },
    {
      "cell_type": "code",
      "source": [
        "N, P, Q = map(int, input().split())\n",
        "\n",
        "arr = {0 : 1}\n",
        "\n",
        "def dfs(i, P, Q):\n",
        "    if i == 0:\n",
        "        return arr[0]\n",
        "    x = int(i/P)\n",
        "    y = int(i/Q)\n",
        "    if x not in arr.keys():\n",
        "        tmp_x = dfs(x, P, Q)\n",
        "        arr[x] = tmp_x\n",
        "    if y not in arr.keys():\n",
        "        tmp_y = dfs(y, P, Q)\n",
        "        arr[y] = tmp_y\n",
        "    return arr[x] + arr[y]\n",
        "\n",
        "print(dfs(N, P, Q))"
      ],
      "metadata": {
        "colab": {
          "base_uri": "https://localhost:8080/"
        },
        "id": "yRWCHLPrzHCD",
        "outputId": "16fb72c1-55de-4f65-e78e-940170271460"
      },
      "execution_count": null,
      "outputs": [
        {
          "output_type": "stream",
          "name": "stdout",
          "text": [
            "7 2 3\n",
            "7\n"
          ]
        }
      ]
    },
    {
      "cell_type": "markdown",
      "source": [
        "## 1360번 되돌리기"
      ],
      "metadata": {
        "id": "twJoKRwc9YEp"
      }
    },
    {
      "cell_type": "code",
      "source": [
        "N = int(input())\n",
        "arr = []\n",
        "\n",
        "for i in range(N):\n",
        "    command, value, time = input().split()\n",
        "    arr.append([command, value, int(time)])\n",
        "\n",
        "result = ''\n",
        "result_arr = []\n",
        "for data in arr:\n",
        "    if data[0] == 'type':\n",
        "        result += data[1]\n",
        "        result_arr.append(result)\n",
        "    else:\n",
        "        for i in range(N):\n",
        "            if arr[i][2] >= data[2] - int(data[1]):\n",
        "                i = i - 1\n",
        "                break\n",
        "        if i == -1:\n",
        "            result = ''\n",
        "            result_arr.append(result)\n",
        "        else:\n",
        "            result = result_arr[i]\n",
        "            result_arr.append(result)\n",
        "\n",
        "print(result_arr[-1])"
      ],
      "metadata": {
        "id": "W1tf5Ugb9Z8V"
      },
      "execution_count": null,
      "outputs": []
    },
    {
      "cell_type": "markdown",
      "source": [
        "# 2022.06.29"
      ],
      "metadata": {
        "id": "xDlZtw2JzeSl"
      }
    },
    {
      "cell_type": "markdown",
      "source": [
        "## 1374번 강의실"
      ],
      "metadata": {
        "id": "JiYogDHaGVL3"
      }
    },
    {
      "cell_type": "markdown",
      "source": [
        "메모리 초과"
      ],
      "metadata": {
        "id": "1RIMJulG4nhg"
      }
    },
    {
      "cell_type": "code",
      "source": [
        "# import sys\n",
        "# input = sys.stdin.readline\n",
        "N = int(input())\n",
        "\n",
        "arr = {}\n",
        "\n",
        "for _ in range(N):\n",
        "    num, start, end = map(int, input().split())\n",
        "    for time in range(start, end + 1):\n",
        "        if time not in arr.keys():\n",
        "            arr[time] = 1\n",
        "        else:\n",
        "            arr[time] += 1\n",
        "\n",
        "print(max(arr.values()))"
      ],
      "metadata": {
        "id": "F40M1gBWzfsM"
      },
      "execution_count": null,
      "outputs": []
    },
    {
      "cell_type": "markdown",
      "source": [
        "### 아이디어 잘 떠올리기!\n",
        "* 자료구조 우선순위 q 이용해서 만들기"
      ],
      "metadata": {
        "id": "uFmHRQ0bGO4-"
      }
    },
    {
      "cell_type": "code",
      "source": [
        "# import sys\n",
        "# input = sys.stdin.readline\n",
        "import heapq\n",
        "\n",
        "N = int(input())\n",
        "\n",
        "cla = []\n",
        "rooms = []\n",
        "max_room = 0\n",
        "for _ in range(N):\n",
        "    num, start, end = map(int, input().split())\n",
        "    heapq.heappush(cla, [start, end])\n",
        "\n",
        "while cla:\n",
        "    start, end = heapq.heappop(cla)\n",
        "    while rooms:\n",
        "        if rooms[0] <= start:\n",
        "            heapq.heappop(rooms)\n",
        "        else:\n",
        "            break\n",
        "    heapq.heappush(rooms, end)\n",
        "    max_room = max(max_room, len(rooms))\n",
        "\n",
        "print(max_room)\n"
      ],
      "metadata": {
        "colab": {
          "base_uri": "https://localhost:8080/"
        },
        "id": "FNJKhifR2887",
        "outputId": "8940c49a-d3fb-4ff3-9744-6071c37de0be"
      },
      "execution_count": null,
      "outputs": [
        {
          "output_type": "stream",
          "name": "stdout",
          "text": [
            "2\n",
            "1 10 15\n",
            "2 15 16\n",
            "2\n"
          ]
        }
      ]
    },
    {
      "cell_type": "markdown",
      "source": [
        "# 1405번 미친로봇"
      ],
      "metadata": {
        "id": "VO9DCbsuXRk4"
      }
    },
    {
      "cell_type": "code",
      "source": [
        "N, east, west, south, north = map(int, input().split())\n",
        "# 동, 서, 남, 북\n",
        "dx = [0, 0, 1, -1]\n",
        "dy = [1, -1, 0, 0]\n",
        "per = [east, west, south, north]\n",
        "\n",
        "graph = [[False] * (2 * N + 1) for _ in range(2 * N + 1)]\n",
        "graph[N][N] = True\n",
        "\n",
        "\n",
        "def dfs(cnt, x, y, p):\n",
        "    global ans\n",
        "\n",
        "    if cnt == N:\n",
        "        ans += p\n",
        "        return\n",
        "\n",
        "    for i in range(4):\n",
        "        nx, ny = x + dx[i], y + dy[i]\n",
        "        if graph[nx][ny]:\n",
        "            continue\n",
        "        graph[nx][ny] = True\n",
        "        dfs(cnt + 1, nx, ny, p * per[i] * 0.01)\n",
        "        graph[nx][ny] = False\n",
        "\n",
        "ans = 0\n",
        "\n",
        "dfs(0, N, N, 1)\n",
        "print(ans)"
      ],
      "metadata": {
        "colab": {
          "base_uri": "https://localhost:8080/"
        },
        "id": "WofNOCnGXTRj",
        "outputId": "4780c09e-a1c6-44d2-f226-2cbc0cc19a57"
      },
      "execution_count": null,
      "outputs": [
        {
          "output_type": "stream",
          "name": "stdout",
          "text": [
            "3 50 0 0 50\n",
            "1.0\n"
          ]
        }
      ]
    },
    {
      "cell_type": "markdown",
      "source": [
        "## 1451번 직사각형으로 나누기"
      ],
      "metadata": {
        "id": "GoaTbmsTb2Aq"
      }
    },
    {
      "cell_type": "code",
      "source": [
        "N, M = map(int, input().split())\n",
        "\n",
        "arr = []\n",
        "ans = 0\n",
        "for i in range(N):\n",
        "    arr.append([int(x) for x in input()])\n",
        "\n",
        "for i in range(N - 1):\n",
        "    for j in range(M - 1):\n",
        "        rec1 = 0\n",
        "        for row in range(i+1):\n",
        "            for col in range(j+1):\n",
        "                rec1 += arr[row][col]\n",
        "        rec2 = 0\n",
        "        for row in range(i+1, N):\n",
        "            for col in range(j+1):\n",
        "                rec2 += arr[row][col]\n",
        "        rec3 = 0\n",
        "        for row in range(i+1):\n",
        "            for col in range(j+1, M):\n",
        "                rec3 += arr[row][col]\n",
        "        rec4 = 0\n",
        "        for row in range(i+1, N):\n",
        "            for col in range(j+1, M):\n",
        "                rec4 += arr[row][col]\n",
        "        ans = max((rec1 + rec2) * rec3 * rec4,\n",
        "                  (rec1 + rec3) * rec2 * rec4,\n",
        "                  (rec2 + rec4) * rec1 * rec3,\n",
        "                  (rec3 + rec4) * rec1 * rec2,\n",
        "                  ans)\n",
        "\n",
        "row_sum = [0] * N\n",
        "col_sum = [0] * M\n",
        "\n",
        "for i in range(N):\n",
        "    for j in range(M):\n",
        "        row_sum[i] += arr[i][j]\n",
        "        col_sum[j] += arr[i][j]\n",
        "\n",
        "for i in range(N - 2):\n",
        "    for next_i in range(i + 1, N - 1):\n",
        "        ans = max(ans, sum(row_sum[:i + 1]) * sum(row_sum[i + 1:next_i + 1]) * sum(row_sum[next_i + 1:]))\n",
        "\n",
        "for j in range(M - 2):\n",
        "    for next_j in range(j + 1, M - 1):\n",
        "        ans = max(ans, sum(col_sum[:j + 1]) * sum(col_sum[j + 1:next_j + 1]) * sum(col_sum[next_j + 1:]))\n",
        "\n",
        "print(ans)"
      ],
      "metadata": {
        "colab": {
          "base_uri": "https://localhost:8080/"
        },
        "id": "p7XF2LjC-lbA",
        "outputId": "803ce6a1-9331-4a0b-fbe7-9a278c1aa21a"
      },
      "execution_count": null,
      "outputs": [
        {
          "output_type": "stream",
          "name": "stdout",
          "text": [
            "9 1\n",
            "9\n",
            "6\n",
            "3\n",
            "8\n",
            "3\n",
            "6\n",
            "6\n",
            "1\n",
            "1\n",
            "2940\n"
          ]
        }
      ]
    }
  ]
}