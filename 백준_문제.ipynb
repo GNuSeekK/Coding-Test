{
  "cells": [
    {
      "cell_type": "markdown",
      "metadata": {
        "colab_type": "text",
        "id": "view-in-github"
      },
      "source": [
        "<a href=\"https://colab.research.google.com/github/GNuSeekK/Coding-Test/blob/main/%EB%B0%B1%EC%A4%80_%EB%AC%B8%EC%A0%9C.ipynb\" target=\"_parent\"><img src=\"https://colab.research.google.com/assets/colab-badge.svg\" alt=\"Open In Colab\"/></a>"
      ]
    },
    {
      "cell_type": "markdown",
      "metadata": {
        "id": "Qn7GM4joZ9gz"
      },
      "source": [
        "# ㅡㅡㅡㅡㅡㅡㅡㅡㅡㅡㅡㅡㅡㅡㅡㅡㅡㅡ"
      ]
    },
    {
      "cell_type": "markdown",
      "metadata": {
        "id": "XqgbeidyZ_h_"
      },
      "source": [
        "# 골드5"
      ]
    },
    {
      "cell_type": "markdown",
      "metadata": {
        "id": "4gYYfhW1DvFD"
      },
      "source": [
        "# 2022.06.22"
      ]
    },
    {
      "cell_type": "markdown",
      "metadata": {
        "id": "RefSV7NJG_5x"
      },
      "source": [
        "## 1038번 감소하는 수"
      ]
    },
    {
      "cell_type": "code",
      "execution_count": null,
      "metadata": {
        "colab": {
          "base_uri": "https://localhost:8080/"
        },
        "id": "JzyDDk79D5t2",
        "outputId": "116d249f-36fb-47f9-cad8-30538166a4e1"
      },
      "outputs": [
        {
          "name": "stdout",
          "output_type": "stream",
          "text": [
            "5000\n",
            "-1\n"
          ]
        }
      ],
      "source": [
        "N = int(input())\n",
        "from itertools import combinations\n",
        "\n",
        "numbers = []\n",
        "for i in range(1,11):\n",
        "    comb = list(combinations(['0', '1', '2', '3', '4', '5', '6', '7', '8', '9'],i))\n",
        "    for data in comb:\n",
        "        numbers.append(int(''.join(sorted(data, reverse = True))))\n",
        "numbers = sorted(list(set(numbers)))\n",
        "\n",
        "if N >= len(numbers):\n",
        "    print('-1')\n",
        "else:\n",
        "    print(numbers[N])"
      ]
    },
    {
      "cell_type": "markdown",
      "metadata": {
        "id": "-pw0alpNZqaB"
      },
      "source": [
        "## 1041번 주사위"
      ]
    },
    {
      "cell_type": "code",
      "execution_count": null,
      "metadata": {
        "colab": {
          "base_uri": "https://localhost:8080/"
        },
        "id": "PJUrxjKQZtsn",
        "outputId": "792d92c5-39d7-45e9-971b-bb33ab353021"
      },
      "outputs": [
        {
          "name": "stdout",
          "output_type": "stream",
          "text": [
            "1\n",
            "1 2 3 4 5 6\n",
            "15\n"
          ]
        }
      ],
      "source": [
        "from itertools import combinations\n",
        "N = int(input())\n",
        "dice = list(map(int, input().split()))\n",
        "if N == 1:\n",
        "    print(sum(dice) - max(dice))\n",
        "else:\n",
        "    comb2 = list(combinations([0,1,2,3,4,5],2))\n",
        "    # comb2 = [x for x in comb2 if ((0 and 5) or (1 and 4) or (2 and 3)) not in x]\n",
        "    new_comb2 = []\n",
        "    for x in comb2:\n",
        "        if 0 in x and 5 in x:\n",
        "            continue\n",
        "        if 1 in x and 4 in x:\n",
        "            continue\n",
        "        if 2 in x and 3 in x:\n",
        "            continue\n",
        "        new_comb2.append(x)\n",
        "    comb3 = list(combinations([0,1,2,3,4,5],3))\n",
        "    # comb3 = [x for x in comb3 if ((0 and 5) or (1 and 4) or (2 and 3)) not in x]\n",
        "    new_comb3 = []\n",
        "    for x in comb3:\n",
        "        if 0 in x and 5 in x:\n",
        "            continue\n",
        "        if 1 in x and 4 in x:\n",
        "            continue\n",
        "        if 2 in x and 3 in x:\n",
        "            continue\n",
        "        new_comb3.append(x)\n",
        "    new_comb2 = [sum([dice[x[0]], dice[x[1]]]) for기x in new_comb2]\n",
        "    new_comb3 = [sum([dice[x[0]], dice[x[1]], dice[x[2]]]) for x in new_comb3]\n",
        "    min_2sum = min(new_comb2) \n",
        "    min_3sum = min(new_comb3)\n",
        "\n",
        "    result = 0\n",
        "    # 숫자 한개만 보이는 주사위의 갯수\n",
        "    # (N-1) * (N-2) * 4 + (N-2) * (N-2)\n",
        "    result += ((5 * N - 6) * (N-2)) * min(dice)\n",
        "    # 숫자 2개 보이는 주사위의 갯수\n",
        "    # (N-1) * 4 + (N-2) * 4\n",
        "    result += ((2 * N - 3) * 4) * min_2sum\n",
        "    # 숫자 3개 보이는 주사위의 갯수\n",
        "    result += 4 * min_3sum\n",
        "\n",
        "    print(result)"
      ]
    },
    {
      "cell_type": "markdown",
      "metadata": {
        "id": "cpbaIvRcDNBS"
      },
      "source": [
        "> 다른 사람의 코드에서 착안점\n",
        "\n",
        "* 주사위의 양 면이 같이 나올 수 없다는 것을 이용\n",
        "* 두개씩 하나의 집합으로 하여 작은 숫자만 선택해 최고의 조합 찾기"
      ]
    },
    {
      "cell_type": "markdown",
      "metadata": {
        "id": "Sl8kLI-wi0Z2"
      },
      "source": [
        "# 2022.06.24"
      ]
    },
    {
      "cell_type": "markdown",
      "metadata": {
        "id": "LV56pCX0Di0K"
      },
      "source": [
        "## 1068번 트리"
      ]
    },
    {
      "cell_type": "code",
      "execution_count": null,
      "metadata": {
        "colab": {
          "base_uri": "https://localhost:8080/"
        },
        "id": "-Camf1GMDlQg",
        "outputId": "ba35b9ea-c3d0-492c-a79c-47d0e2fb2ac8"
      },
      "outputs": [
        {
          "name": "stdout",
          "output_type": "stream",
          "text": [
            "4\n",
            "-1 0 1 2\n",
            "2\n",
            "1\n"
          ]
        }
      ],
      "source": [
        "from collections import deque\n",
        "\n",
        "queue = deque()\n",
        "\n",
        "N = int(input())\n",
        "\n",
        "tree = [[] for _ in range(N)]\n",
        "state = [True] * N\n",
        "parents = list(map(int, input().split()))\n",
        "for idx, parent in enumerate(parents):\n",
        "    if parent != -1:\n",
        "        tree[parent].append(idx)\n",
        "\n",
        "del_node = int(input())\n",
        "queue.append(del_node)\n",
        "while queue:\n",
        "    node = queue.popleft()\n",
        "    state[node] = False\n",
        "    if node in tree[parents[node]]:\n",
        "        tree[parents[node]].remove(node)\n",
        "    for leaf in tree[node]:\n",
        "        if state[leaf] == True:\n",
        "            queue.append(leaf)\n",
        "        \n",
        "\n",
        "result = 0\n",
        "for i in range(N):\n",
        "    if state[i] == True and len(tree[i]) == 0:\n",
        "        result += 1\n",
        "\n",
        "print(result)"
      ]
    },
    {
      "cell_type": "markdown",
      "metadata": {
        "id": "MWO0PNseStDw"
      },
      "source": [
        "## 1083번 소트"
      ]
    },
    {
      "cell_type": "code",
      "execution_count": null,
      "metadata": {
        "colab": {
          "base_uri": "https://localhost:8080/"
        },
        "id": "Vb7u03EBSxUk",
        "outputId": "a1eede6f-a4f6-4f8c-b33f-3cec8b55afb6"
      },
      "outputs": [
        {
          "name": "stdout",
          "output_type": "stream",
          "text": [
            "7\n",
            "10 20 30 40 50 60 70\n",
            "1\n",
            "20 10 30 40 50 60 70\n"
          ]
        }
      ],
      "source": [
        "N = int(input())\n",
        "arr = list(map(int, input().split()))\n",
        "S = int(input())\n",
        "\n",
        "now = 0\n",
        "while S > 0:\n",
        "    if now >= N:\n",
        "        break\n",
        "    if S >= N - now:\n",
        "        idx = arr.index(max(arr[now:]))\n",
        "        num = arr.pop(idx)\n",
        "        arr.insert(now, num)\n",
        "        S -= idx - now\n",
        "        now += 1\n",
        "    else:\n",
        "        idx = arr.index(max(arr[now : now + min(N - now, S + 1)]))\n",
        "        if S >= idx - now:\n",
        "            num = arr.pop(idx)\n",
        "            arr.insert(now, num)\n",
        "            S -= idx - now\n",
        "        now += 1        \n",
        "\n",
        "print(' '.join(map(str, arr)))"
      ]
    },
    {
      "cell_type": "markdown",
      "metadata": {
        "id": "fXNj4S8ElULO"
      },
      "source": [
        "# 2022.06.25"
      ]
    },
    {
      "cell_type": "markdown",
      "metadata": {
        "id": "vUmb5JsJF1Sy"
      },
      "source": [
        "## 1091번 카드섞기"
      ]
    },
    {
      "cell_type": "code",
      "execution_count": null,
      "metadata": {
        "colab": {
          "base_uri": "https://localhost:8080/"
        },
        "id": "24_8BJqRGgyA",
        "outputId": "4bff99b6-d660-40e2-9bfa-0c65e52addd9"
      },
      "outputs": [
        {
          "name": "stdout",
          "output_type": "stream",
          "text": [
            "3\n",
            "1 0 2\n",
            "0 2 1\n"
          ]
        }
      ],
      "source": [
        "N = int(input())\n",
        "P = list(map(int, input().split()))\n",
        "S = list(map(int, input().split()))\n",
        "\n",
        "cards = [0, 1, 2] * (N // 3)\n",
        "ori = [x for x in P]\n",
        "result = 0\n",
        "while True:\n",
        "    if [x % 3 for x in P] == cards:\n",
        "        print(result)\n",
        "        break\n",
        "    P = sorted([(P[idx], x) for idx, x in enumerate(S)], key = lambda x: x[1])\n",
        "    P = [x[0] for x in P]\n",
        "    result += 1\n",
        "    if P == ori:\n",
        "        print(-1)\n",
        "        break\n",
        "    "
      ]
    },
    {
      "cell_type": "markdown",
      "metadata": {
        "id": "VagvdFJ7pedN"
      },
      "source": [
        "# 2022.06.27"
      ]
    },
    {
      "cell_type": "markdown",
      "metadata": {
        "id": "Edf1GsGMrqNI"
      },
      "source": [
        "## 1092번 배"
      ]
    },
    {
      "cell_type": "code",
      "execution_count": null,
      "metadata": {
        "colab": {
          "base_uri": "https://localhost:8080/"
        },
        "id": "KMWh03dMrvUZ",
        "outputId": "598fef58-a980-427b-e5c8-ca94b17ede02"
      },
      "outputs": [
        {
          "name": "stdout",
          "output_type": "stream",
          "text": [
            "3\n",
            "6 8 9\n",
            "5\n",
            "2 5 2 4 7\n"
          ]
        }
      ],
      "source": [
        "from bisect import bisect_right\n",
        "\n",
        "N = int(input())\n",
        "crains = sorted(list(map(int, input().split())))\n",
        "M = int(input())\n",
        "weights = sorted(list(map(int, input().split())))\n",
        "\n",
        "if weights[-1] > crains[-1]:\n",
        "    print(-1)\n",
        "else:\n",
        "    result = 0\n",
        "    while weights:\n",
        "        for idx in range(N - 1, -1, -1):\n",
        "            limit = crains[idx]\n",
        "            pop_idx = bisect_right(weights, limit) - 1\n",
        "            if pop_idx == -1:\n",
        "                break\n",
        "            else:\n",
        "                weights.pop(pop_idx)\n",
        "        result += 1\n",
        "    print(result)"
      ]
    },
    {
      "cell_type": "markdown",
      "metadata": {
        "id": "v3Odonr9i-6h"
      },
      "source": [
        "## ★ 1106번 호텔 (DP)"
      ]
    },
    {
      "cell_type": "markdown",
      "metadata": {
        "id": "ALLp4S9tCCHw"
      },
      "source": [
        "> dp문제 다시 풀어볼 것"
      ]
    },
    {
      "cell_type": "markdown",
      "metadata": {
        "id": "9HQKeX1R3sU7"
      },
      "source": [
        "## 1107번 리모컨(브루트 포스)"
      ]
    },
    {
      "cell_type": "markdown",
      "metadata": {
        "id": "JLboc09cb0Kc"
      },
      "source": [
        "무작정 알고리즘(전수조사 : 브루트 포스)을 이용하여 전체 탐색을 수행하였음\n",
        "수행시간이 너무 길어서 index를 이용해서 중복조합이 아니라 가능한 경우의 수를 줄이면 더 좋은 결과가 예상됨."
      ]
    },
    {
      "cell_type": "code",
      "execution_count": null,
      "metadata": {
        "colab": {
          "base_uri": "https://localhost:8080/"
        },
        "id": "ITnfdeNSHIPO",
        "outputId": "43356eb7-452a-4074-a663-b68025f94091"
      },
      "outputs": [
        {
          "name": "stdout",
          "output_type": "stream",
          "text": [
            "1\n",
            "1\n",
            "1\n",
            "2\n"
          ]
        }
      ],
      "source": [
        "from bisect import bisect_left, bisect_right\n",
        "from itertools import product\n",
        "\n",
        "N = int(input())\n",
        "M = int(input())\n",
        "if M == 0:\n",
        "    buttons = [str(x) for x in range(10)]\n",
        "else:\n",
        "    buttons = list(map(int, input().split()))\n",
        "    buttons = [str(x) for x in range(10) if x not in buttons]\n",
        "\n",
        "if M == 10:\n",
        "    print(abs(N - 100))\n",
        "elif 98 <= N <= 103:\n",
        "    print(abs(100 - N))\n",
        "else:\n",
        "    numbers = list(product(buttons, repeat = len(str(N))))\n",
        "    if buttons[0] == '0' and len(buttons) > 1:\n",
        "        numbers += [buttons[1] + '0' * len(str(N))]\n",
        "    else:\n",
        "        numbers += [buttons[0] * (len(str(N)) + 1)]\n",
        "    if len(str(N)) > 1:\n",
        "        numbers += [buttons[-1] * (len(str(N)) - 1)]\n",
        "    numbers = [''.join(x) for x in numbers]\n",
        "    numbers = [abs(N - int(x)) + len(x) for x in numbers]\n",
        "    print(min(abs(N - 100), min(numbers)))"
      ]
    },
    {
      "cell_type": "markdown",
      "metadata": {
        "id": "BRZT6I9Sukg4"
      },
      "source": [
        "## 1117번 색칠1"
      ]
    },
    {
      "cell_type": "code",
      "execution_count": null,
      "metadata": {
        "colab": {
          "base_uri": "https://localhost:8080/"
        },
        "id": "OypCNjUOunPw",
        "outputId": "255ed50a-a63e-4e66-e904-46326c22efd4"
      },
      "outputs": [
        {
          "name": "stdout",
          "output_type": "stream",
          "text": [
            "3 13 1 0 1 8 2 12\n",
            "이거\n",
            "26\n",
            "2\n",
            "26\n",
            "35\n"
          ]
        }
      ],
      "source": [
        "# 행을 뒤집어서 (0,0)을 가장 왼쪽 위 점으로 생각\n",
        "W, H, f, c, x1, y1, x2, y2 = map(int, input().split())\n",
        "if f != 0 and W / f == 2:\n",
        "    vec = [2 * (c+1)]\n",
        "else:\n",
        "    vec = [2 * (c + 1), (c + 1)]\n",
        "columns = H // (c + 1)\n",
        "\n",
        "value = 0\n",
        "# 두 영역 겹쳐서 칠할 때\n",
        "if x1 < min(W - f, f) and x2 > min(W - f, f):\n",
        "    value += vec[0] * columns * x1\n",
        "    value += vec[0] * (columns - y2 + y1) * (min(W - f, f) - x1)\n",
        "    value += vec[-1] * columns * (max(W - f, f) - x2)\n",
        "    value += vec[-1] * (columns - y2 + y1) * (x2 - min(W - f, f))\n",
        "# 왼쪽에 겹친 영역만 칠할 때\n",
        "if x1 <= min(W - f, f) and x2 <= min(W - f, f):\n",
        "    value += vec[0] * columns * (min(W - f, f) - x2 + x1)\n",
        "    value += vec[0] * (columns - y2 + y1) * (x2 - x1)\n",
        "    value += vec[-1] * columns * (max(W - f, f) - min(W - f, f))\n",
        "# 오른쪽에 안겹친 영역만 칠할 때\n",
        "if x1 >= min(W - f, f) and x2 > min(W - f, f):\n",
        "    value += vec[0] * columns * min(W - f, f)\n",
        "    value += vec[-1] * columns * (max(W - f, f) - min(W - f, f) - x2 + x1)\n",
        "    value += vec[-1] * (columns - y2 + y1) * (x2 - x1)\n",
        "\n",
        "print(value)"
      ]
    },
    {
      "cell_type": "markdown",
      "metadata": {
        "id": "y3xeuRUh-jME"
      },
      "source": [
        "## 1174번 줄어드는 수"
      ]
    },
    {
      "cell_type": "code",
      "execution_count": null,
      "metadata": {
        "colab": {
          "base_uri": "https://localhost:8080/"
        },
        "id": "FIPIqlIOHahw",
        "outputId": "fe666d5a-c1eb-4bc6-a1ee-65e9be1fe435"
      },
      "outputs": [
        {
          "name": "stdout",
          "output_type": "stream",
          "text": [
            "1\n",
            "0\n"
          ]
        }
      ],
      "source": [
        "from itertools import combinations\n",
        "\n",
        "arr = [f'{x}' for x in range(9, -1, -1)]\n",
        "comb = []\n",
        "for i in range(1,11):\n",
        "    comb += list(combinations(arr, i))\n",
        "comb = sorted([int(''.join(x)) for x in comb])\n",
        "\n",
        "N = int(input())\n",
        "if N > len(comb):\n",
        "    print(-1)\n",
        "else:\n",
        "    print(comb[N-1])"
      ]
    },
    {
      "cell_type": "markdown",
      "metadata": {
        "id": "k_SacsjgJGFR"
      },
      "source": [
        "## 1195번 킥다운"
      ]
    },
    {
      "cell_type": "code",
      "execution_count": null,
      "metadata": {
        "colab": {
          "base_uri": "https://localhost:8080/"
        },
        "id": "f0k07BBfMz1O",
        "outputId": "ad4f2263-d6e7-43dd-c5f0-6cca7798252c"
      },
      "outputs": [
        {
          "name": "stdout",
          "output_type": "stream",
          "text": [
            "2112112112\n",
            "2212112\n"
          ]
        }
      ],
      "source": [
        "N = list(map(int, input()))\n",
        "M = list(map(int, input()))\n",
        "\n",
        "length = len(N) + len(M)\n",
        "for i in range(len(M)+1):\n",
        "    arr = M + [0] * len(N)\n",
        "    for idx, num in enumerate(N):\n",
        "        arr[i + idx] += num\n",
        "        if arr[i + idx] > 3:\n",
        "            break\n",
        "    if arr[i + idx] <= 3:\n",
        "        length = min(length, max(i + idx + 1, len(M)))\n",
        "\n",
        "\n",
        "for i in range(len(N)+1):\n",
        "    arr = N + [0] * len(M)\n",
        "    for idx, num in enumerate(M):\n",
        "        arr[i + idx] += num\n",
        "        if arr[i + idx] > 3:\n",
        "            break\n",
        "    if arr[i + idx] <= 3:\n",
        "        length = min(length, max(i + idx + 1, len(N)))\n",
        "\n",
        "print(length)"
      ]
    },
    {
      "cell_type": "markdown",
      "metadata": {
        "id": "iV3IJb1Q0qpR"
      },
      "source": [
        "# 2022.06.28"
      ]
    },
    {
      "cell_type": "markdown",
      "metadata": {
        "id": "Yp-9mCpnR67D"
      },
      "source": [
        "## ★ 1240번 노드사이의 거리(DFS)"
      ]
    },
    {
      "cell_type": "code",
      "execution_count": null,
      "metadata": {
        "colab": {
          "base_uri": "https://localhost:8080/"
        },
        "id": "rbwxT42Lta14",
        "outputId": "422dac48-3dc7-44a9-84bf-f362a7286b1e"
      },
      "outputs": [
        {
          "name": "stdout",
          "output_type": "stream",
          "text": [
            "4 2 \n",
            "2 1 2\n",
            "4 3 2\n",
            "1 4 3\n",
            "1 2\n",
            "1 2 0\n",
            "4 2 3\n",
            "3 2 5\n",
            "2\n",
            "3 2\n",
            "3 2 0\n",
            "4 2 2\n",
            "1 2 5\n",
            "7\n"
          ]
        }
      ],
      "source": [
        "# import sys\n",
        "# input = sys.stdin.readline\n",
        "N, M = map(int, input().split())\n",
        "\n",
        "graph = [[] for _ in range(N + 1)]\n",
        "for _ in range(N - 1):\n",
        "    node1, node2, cost = map(int, input().split())\n",
        "    graph[node1].append((node2, cost))\n",
        "    graph[node2].append((node1, cost))\n",
        "\n",
        "def dfs(start, end, cost):\n",
        "    arr = [(x, y + cost) for x, y in graph[start]]\n",
        "    while arr:\n",
        "        node, tmp_cost = arr.pop(-1)\n",
        "        if node == end:\n",
        "            return tmp_cost\n",
        "        if visited[node] == False:\n",
        "            visited[node] = True\n",
        "            new_cost = dfs(node, end, tmp_cost)\n",
        "            if new_cost != None:\n",
        "                return new_cost\n",
        "\n",
        "for _ in range(M):\n",
        "    visited = [True] + [False] * N\n",
        "    start, end = map(int, input().split())\n",
        "    visited[start] = True\n",
        "    print(dfs(start, end, 0))"
      ]
    },
    {
      "cell_type": "markdown",
      "metadata": {
        "id": "kS-qeZ_3rSfQ"
      },
      "source": [
        "## ★ 1241번 머리 톡톡"
      ]
    },
    {
      "cell_type": "markdown",
      "metadata": {
        "id": "R728s_Z-A4b3"
      },
      "source": [
        "시간초과 판정"
      ]
    },
    {
      "cell_type": "code",
      "execution_count": null,
      "metadata": {
        "colab": {
          "base_uri": "https://localhost:8080/"
        },
        "id": "wqBU0No00uwa",
        "outputId": "234855c4-8a27-4a30-83d7-e8c891cb8339"
      },
      "outputs": [
        {
          "name": "stdout",
          "output_type": "stream",
          "text": [
            "5\n",
            "2\n",
            "1\n",
            "2\n",
            "3\n",
            "4\n",
            "1 [1, 0, 1, 1, 1]\n",
            "2 [1, 0, 2, 1, 2]\n",
            "2 [1, 0, 2, 1, 3]\n",
            "3 [1, 0, 2, 1, 3]\n",
            "2\n",
            "0\n",
            "2\n",
            "1\n",
            "3\n"
          ]
        }
      ],
      "source": [
        "# import sys\n",
        "# input = sys.stdin.readline\n",
        "\n",
        "N = int(input())\n",
        "arr = []\n",
        "for i in range(N):\n",
        "    arr.append([int(input()), i])\n",
        "arr = sorted(arr, key = lambda x: x[0])\n",
        "\n",
        "result = [0] * N\n",
        "for i in range(N - 1):\n",
        "    num = arr[i][0]\n",
        "    tmp_arr = [x[0] % num == 0 for x in arr[i + 1:]]\n",
        "    for idx, TF in enumerate(tmp_arr):\n",
        "        result[arr[i + idx + 1][1]] += TF\n",
        "    # print(num, result)\n",
        "\n",
        "arr = sorted(arr, key = lambda x: x[1])\n",
        "for tmp in arr:\n",
        "    print(result[tmp[0]])\n"
      ]
    },
    {
      "cell_type": "markdown",
      "metadata": {
        "id": "lAA3ubCX5-MT"
      },
      "source": [
        "* 다른사람 코드\n",
        "  * 방문을 기억해 뒀다가 다시 처리 안함.\n",
        "  * 약수를 이용해서 더해주는 방식은 동일"
      ]
    },
    {
      "cell_type": "code",
      "execution_count": null,
      "metadata": {
        "id": "1QS0BkEi8xku"
      },
      "outputs": [],
      "source": [
        "# import sys\n",
        "\n",
        "# input = sys.stdin.readline\n",
        "\n",
        "N = int(input())\n",
        "arr = list(int(input()) for _ in range(N))\n",
        "\n",
        "max_int = max(arr)+1\n",
        "origin_cnt = [0] * (max_int)\n",
        "check = [0] * (max_int)\n",
        "visited = [False] * max_int\n",
        "for num in arr:\n",
        "    origin_cnt[num] += 1\n",
        "\n",
        "# 해당 수의 약수들의 개수 더하기\n",
        "for i in range(N):\n",
        "    tmp = arr[i]\n",
        "\n",
        "    if visited[tmp]:  # 이미 그 수 탐색했다면\n",
        "        continue\n",
        "\n",
        "    else:  # 그 수 탐색한 적 없으면\n",
        "        for j in range(tmp, max_int, tmp): # tmp가 j의 약수이면\n",
        "            check[j] += origin_cnt[tmp]\n",
        "\n",
        "    visited[tmp] = True\n",
        "\n",
        "# 정답 출력\n",
        "for num in arr:\n",
        "    print(check[num] + - 1)  # 처음에 자기 자신 하나 추가되니까 1을 빼줌"
      ]
    },
    {
      "cell_type": "markdown",
      "metadata": {
        "id": "Jly2CfSRT4aF"
      },
      "source": [
        "## RE ★ 1327번 소트 게임 (BFS)"
      ]
    },
    {
      "cell_type": "markdown",
      "metadata": {
        "id": "gpP0cJHyV2FE"
      },
      "source": [
        "다시 풀어보기 (같은 횟수를 모두다 확인하면서 답이 나오는 순간 그 횟수를 return)"
      ]
    },
    {
      "cell_type": "markdown",
      "metadata": {
        "id": "vIcwSNwqzAuv"
      },
      "source": [
        "## 1351번 무한 수열"
      ]
    },
    {
      "cell_type": "markdown",
      "metadata": {
        "id": "IuZNwK8p8j2f"
      },
      "source": [
        "### 자료형 주의!!!\n",
        "\n",
        "* 리스트 자료형 쓰면 메모리 초과\n",
        "* 다이나믹 안쓰면 시간 초과\n",
        "* dict 이용해서 해줘야함"
      ]
    },
    {
      "cell_type": "code",
      "execution_count": null,
      "metadata": {
        "colab": {
          "base_uri": "https://localhost:8080/"
        },
        "id": "yRWCHLPrzHCD",
        "outputId": "16fb72c1-55de-4f65-e78e-940170271460"
      },
      "outputs": [
        {
          "name": "stdout",
          "output_type": "stream",
          "text": [
            "7 2 3\n",
            "7\n"
          ]
        }
      ],
      "source": [
        "N, P, Q = map(int, input().split())\n",
        "\n",
        "arr = {0 : 1}\n",
        "\n",
        "def dfs(i, P, Q):\n",
        "    if i == 0:\n",
        "        return arr[0]\n",
        "    x = int(i/P)\n",
        "    y = int(i/Q)\n",
        "    if x not in arr.keys():\n",
        "        tmp_x = dfs(x, P, Q)\n",
        "        arr[x] = tmp_x\n",
        "    if y not in arr.keys():\n",
        "        tmp_y = dfs(y, P, Q)\n",
        "        arr[y] = tmp_y\n",
        "    return arr[x] + arr[y]\n",
        "\n",
        "print(dfs(N, P, Q))"
      ]
    },
    {
      "cell_type": "markdown",
      "metadata": {
        "id": "twJoKRwc9YEp"
      },
      "source": [
        "## 1360번 되돌리기"
      ]
    },
    {
      "cell_type": "code",
      "execution_count": null,
      "metadata": {
        "id": "W1tf5Ugb9Z8V"
      },
      "outputs": [],
      "source": [
        "N = int(input())\n",
        "arr = []\n",
        "\n",
        "for i in range(N):\n",
        "    command, value, time = input().split()\n",
        "    arr.append([command, value, int(time)])\n",
        "\n",
        "result = ''\n",
        "result_arr = []\n",
        "for data in arr:\n",
        "    if data[0] == 'type':\n",
        "        result += data[1]\n",
        "        result_arr.append(result)\n",
        "    else:\n",
        "        for i in range(N):\n",
        "            if arr[i][2] >= data[2] - int(data[1]):\n",
        "                i = i - 1\n",
        "                break\n",
        "        if i == -1:\n",
        "            result = ''\n",
        "            result_arr.append(result)\n",
        "        else:\n",
        "            result = result_arr[i]\n",
        "            result_arr.append(result)\n",
        "\n",
        "print(result_arr[-1])"
      ]
    },
    {
      "cell_type": "markdown",
      "metadata": {
        "id": "xDlZtw2JzeSl"
      },
      "source": [
        "# 2022.06.29"
      ]
    },
    {
      "cell_type": "markdown",
      "metadata": {
        "id": "JiYogDHaGVL3"
      },
      "source": [
        "## 1374번 강의실"
      ]
    },
    {
      "cell_type": "markdown",
      "metadata": {
        "id": "1RIMJulG4nhg"
      },
      "source": [
        "메모리 초과"
      ]
    },
    {
      "cell_type": "code",
      "execution_count": null,
      "metadata": {
        "id": "F40M1gBWzfsM"
      },
      "outputs": [],
      "source": [
        "# import sys\n",
        "# input = sys.stdin.readline\n",
        "N = int(input())\n",
        "\n",
        "arr = {}\n",
        "\n",
        "for _ in range(N):\n",
        "    num, start, end = map(int, input().split())\n",
        "    for time in range(start, end + 1):\n",
        "        if time not in arr.keys():\n",
        "            arr[time] = 1\n",
        "        else:\n",
        "            arr[time] += 1\n",
        "\n",
        "print(max(arr.values()))"
      ]
    },
    {
      "cell_type": "markdown",
      "metadata": {
        "id": "uFmHRQ0bGO4-"
      },
      "source": [
        "### 아이디어 잘 떠올리기!\n",
        "* 자료구조 우선순위 q 이용해서 만들기"
      ]
    },
    {
      "cell_type": "code",
      "execution_count": null,
      "metadata": {
        "colab": {
          "base_uri": "https://localhost:8080/"
        },
        "id": "FNJKhifR2887",
        "outputId": "8940c49a-d3fb-4ff3-9744-6071c37de0be"
      },
      "outputs": [
        {
          "name": "stdout",
          "output_type": "stream",
          "text": [
            "2\n",
            "1 10 15\n",
            "2 15 16\n",
            "2\n"
          ]
        }
      ],
      "source": [
        "# import sys\n",
        "# input = sys.stdin.readline\n",
        "import heapq\n",
        "\n",
        "N = int(input())\n",
        "\n",
        "cla = []\n",
        "rooms = []\n",
        "max_room = 0\n",
        "for _ in range(N):\n",
        "    num, start, end = map(int, input().split())\n",
        "    heapq.heappush(cla, [start, end])\n",
        "\n",
        "while cla:\n",
        "    start, end = heapq.heappop(cla)\n",
        "    while rooms:\n",
        "        if rooms[0] <= start:\n",
        "            heapq.heappop(rooms)\n",
        "        else:\n",
        "            break\n",
        "    heapq.heappush(rooms, end)\n",
        "    max_room = max(max_room, len(rooms))\n",
        "\n",
        "print(max_room)\n"
      ]
    },
    {
      "cell_type": "markdown",
      "metadata": {
        "id": "VO9DCbsuXRk4"
      },
      "source": [
        "## 1405번 미친로봇"
      ]
    },
    {
      "cell_type": "code",
      "execution_count": null,
      "metadata": {
        "colab": {
          "base_uri": "https://localhost:8080/"
        },
        "id": "WofNOCnGXTRj",
        "outputId": "4780c09e-a1c6-44d2-f226-2cbc0cc19a57"
      },
      "outputs": [
        {
          "name": "stdout",
          "output_type": "stream",
          "text": [
            "3 50 0 0 50\n",
            "1.0\n"
          ]
        }
      ],
      "source": [
        "N, east, west, south, north = map(int, input().split())\n",
        "# 동, 서, 남, 북\n",
        "dx = [0, 0, 1, -1]\n",
        "dy = [1, -1, 0, 0]\n",
        "per = [east, west, south, north]\n",
        "\n",
        "graph = [[False] * (2 * N + 1) for _ in range(2 * N + 1)]\n",
        "graph[N][N] = True\n",
        "\n",
        "\n",
        "def dfs(cnt, x, y, p):\n",
        "    global ans\n",
        "\n",
        "    if cnt == N:\n",
        "        ans += p\n",
        "        return\n",
        "\n",
        "    for i in range(4):\n",
        "        nx, ny = x + dx[i], y + dy[i]\n",
        "        if graph[nx][ny]:\n",
        "            continue\n",
        "        graph[nx][ny] = True\n",
        "        dfs(cnt + 1, nx, ny, p * per[i] * 0.01)\n",
        "        graph[nx][ny] = False\n",
        "\n",
        "ans = 0\n",
        "\n",
        "dfs(0, N, N, 1)\n",
        "print(ans)"
      ]
    },
    {
      "cell_type": "markdown",
      "metadata": {
        "id": "GoaTbmsTb2Aq"
      },
      "source": [
        "## 1451번 직사각형으로 나누기"
      ]
    },
    {
      "cell_type": "code",
      "execution_count": null,
      "metadata": {
        "colab": {
          "base_uri": "https://localhost:8080/"
        },
        "id": "p7XF2LjC-lbA",
        "outputId": "803ce6a1-9331-4a0b-fbe7-9a278c1aa21a"
      },
      "outputs": [
        {
          "name": "stdout",
          "output_type": "stream",
          "text": [
            "9 1\n",
            "9\n",
            "6\n",
            "3\n",
            "8\n",
            "3\n",
            "6\n",
            "6\n",
            "1\n",
            "1\n",
            "2940\n"
          ]
        }
      ],
      "source": [
        "N, M = map(int, input().split())\n",
        "\n",
        "arr = []\n",
        "ans = 0\n",
        "for i in range(N):\n",
        "    arr.append([int(x) for x in input()])\n",
        "\n",
        "for i in range(N - 1):\n",
        "    for j in range(M - 1):\n",
        "        rec1 = 0\n",
        "        for row in range(i+1):\n",
        "            for col in range(j+1):\n",
        "                rec1 += arr[row][col]\n",
        "        rec2 = 0\n",
        "        for row in range(i+1, N):\n",
        "            for col in range(j+1):\n",
        "                rec2 += arr[row][col]\n",
        "        rec3 = 0\n",
        "        for row in range(i+1):\n",
        "            for col in range(j+1, M):\n",
        "                rec3 += arr[row][col]\n",
        "        rec4 = 0\n",
        "        for row in range(i+1, N):\n",
        "            for col in range(j+1, M):\n",
        "                rec4 += arr[row][col]\n",
        "        ans = max((rec1 + rec2) * rec3 * rec4,\n",
        "                  (rec1 + rec3) * rec2 * rec4,\n",
        "                  (rec2 + rec4) * rec1 * rec3,\n",
        "                  (rec3 + rec4) * rec1 * rec2,\n",
        "                  ans)\n",
        "\n",
        "row_sum = [0] * N\n",
        "col_sum = [0] * M\n",
        "\n",
        "for i in range(N):\n",
        "    for j in range(M):\n",
        "        row_sum[i] += arr[i][j]\n",
        "        col_sum[j] += arr[i][j]\n",
        "\n",
        "for i in range(N - 2):\n",
        "    for next_i in range(i + 1, N - 1):\n",
        "        ans = max(ans, sum(row_sum[:i + 1]) * sum(row_sum[i + 1:next_i + 1]) * sum(row_sum[next_i + 1:]))\n",
        "\n",
        "for j in range(M - 2):\n",
        "    for next_j in range(j + 1, M - 1):\n",
        "        ans = max(ans, sum(col_sum[:j + 1]) * sum(col_sum[j + 1:next_j + 1]) * sum(col_sum[next_j + 1:]))\n",
        "\n",
        "print(ans)"
      ]
    },
    {
      "cell_type": "markdown",
      "metadata": {
        "id": "TGDyuGTuMQZD"
      },
      "source": [
        "# 2022.06.30"
      ]
    },
    {
      "cell_type": "markdown",
      "metadata": {
        "id": "0lL6GVfkMRyN"
      },
      "source": [
        "## 1461번 도서관"
      ]
    },
    {
      "cell_type": "code",
      "execution_count": null,
      "metadata": {
        "colab": {
          "base_uri": "https://localhost:8080/"
        },
        "id": "QHp3JDCdMTpf",
        "outputId": "20739aa1-c17e-441b-ff7e-e68d29c301d0"
      },
      "outputs": [
        {
          "name": "stdout",
          "output_type": "stream",
          "text": [
            "1 50\n",
            "1\n",
            "1\n"
          ]
        }
      ],
      "source": [
        "from heapq import heappush, heappop\n",
        "N, M = map(int, input().split())\n",
        "\n",
        "books = list(map(int, input().split()))\n",
        "queue = []\n",
        "for book in books:\n",
        "    if book < 0:\n",
        "        txt = '-'\n",
        "    else:\n",
        "        txt = '+'\n",
        "    heappush(queue, (-1 * abs(book), txt))\n",
        "\n",
        "ans = 0\n",
        "plus = []\n",
        "minus = []\n",
        "max_val = -1 * queue[0][0]\n",
        "while queue:\n",
        "    pos, txt = heappop(queue)\n",
        "    if txt == '+':\n",
        "        if len(plus) == M:\n",
        "            ans += plus[0] * 2\n",
        "            plus = [-1 * pos]\n",
        "        else:\n",
        "            plus.append(-1 * pos)\n",
        "    if txt == '-':\n",
        "        if len(minus) == M:\n",
        "            ans += minus[0] * 2\n",
        "            minus = [-1 * pos]\n",
        "        else:\n",
        "            minus.append(-1 * pos)\n",
        "\n",
        "x, y = 0, 0\n",
        "if len(plus) > 0:\n",
        "    x = plus[0]\n",
        "if len(minus) > 0:\n",
        "    y = minus[0]\n",
        "\n",
        "ans += (x + y) * 2 - max_val\n",
        "\n",
        "print(ans)"
      ]
    },
    {
      "cell_type": "markdown",
      "metadata": {
        "id": "wjxA2moUqyCg"
      },
      "source": [
        "## ★ 1464번 뒤집기3"
      ]
    },
    {
      "cell_type": "markdown",
      "metadata": {
        "id": "WGJgc1alq0Ts"
      },
      "source": [
        "### 아이디어 참고 링크\n",
        "https://kangminjun.tistory.com/entry/BOJ-1464-%EB%B2%88-%EB%92%A4%EC%A7%91%EA%B8%B0-3"
      ]
    },
    {
      "cell_type": "markdown",
      "metadata": {
        "id": "P69GsLLSq6-y"
      },
      "source": [
        "그리디 => 큰걸 계속 뒤로 밀어주는 것을 통해, 마지막에 한번에 뒤집어 글자를 만듬.\n",
        "\n",
        "같은 곳에 대해서 두번 뒤집은 경우 안뒤집은 경우와 같기 때문에 신경 쓰지 않아도 됨."
      ]
    },
    {
      "cell_type": "markdown",
      "metadata": {
        "id": "tYHNm8Grr6J3"
      },
      "source": [
        "작은걸 앞으로 밀어주게 되면, 이미 밀려진 것과는 비교가 불가능 하기 때문에 사용 불가"
      ]
    },
    {
      "cell_type": "code",
      "execution_count": null,
      "metadata": {
        "colab": {
          "base_uri": "https://localhost:8080/"
        },
        "id": "5xYgAVuThRhF",
        "outputId": "439a6764-c056-49a3-df58-1713b8f21a40"
      },
      "outputs": [
        {
          "name": "stdout",
          "output_type": "stream",
          "text": [
            "BCDAF\n",
            "FDCBA\n"
          ]
        }
      ],
      "source": [
        "ori_txt = input()\n",
        "\n",
        "def reverse(idx, txt):\n",
        "    txt = ''.join(reversed(txt[:idx])) + txt[idx:]\n",
        "\n",
        "txt = ori_txt[0]\n",
        "for i in range(1,len(ori_txt)):\n",
        "    if ori_txt[i] > txt[-1]:\n",
        "        txt = ori_txt[i] + txt\n",
        "    else:\n",
        "        txt = txt + ori_txt[i]\n",
        "\n",
        "\n",
        "print(''.join(reversed(txt)))"
      ]
    },
    {
      "cell_type": "markdown",
      "metadata": {
        "id": "AO_9-HFvDozI"
      },
      "source": [
        "## 1484번 다이어트"
      ]
    },
    {
      "cell_type": "code",
      "execution_count": null,
      "metadata": {
        "colab": {
          "base_uri": "https://localhost:8080/"
        },
        "id": "DuDzmtBfDvP7",
        "outputId": "6ac40bd1-c975-468a-f7a7-ae6a19be17a4"
      },
      "outputs": [
        {
          "name": "stdout",
          "output_type": "stream",
          "text": [
            "15\n",
            "4\n",
            "8\n"
          ]
        }
      ],
      "source": [
        "G = int(input())\n",
        "\n",
        "\n",
        "Current = [x for x in range(2, int(G ** 0.5)+1)]\n",
        "Past = [x for x in range(1, int(G ** 0.5))]\n",
        "left = 2\n",
        "right = 1\n",
        "ans = []\n",
        "while left < int((G + 1) / 2) + 1:\n",
        "    result = (left + right) * (left - right)\n",
        "    if result < G:\n",
        "        left += 1\n",
        "    elif result > G:\n",
        "        right += 1\n",
        "    else:\n",
        "        ans.append(left)\n",
        "        left += 1\n",
        "\n",
        "if len(ans) == 0:\n",
        "    print(-1)\n",
        "else:\n",
        "    for x in ans:\n",
        "        print(x)"
      ]
    },
    {
      "cell_type": "markdown",
      "metadata": {
        "id": "PjpmbV-QTW-_"
      },
      "source": [
        "## 1490번 자리수로 나누기"
      ]
    },
    {
      "cell_type": "code",
      "execution_count": null,
      "metadata": {
        "colab": {
          "base_uri": "https://localhost:8080/"
        },
        "id": "7nDwoYuMTnQa",
        "outputId": "8df33566-9a00-4c35-a3ec-f814e388f2a1"
      },
      "outputs": [
        {
          "name": "stdout",
          "output_type": "stream",
          "text": [
            "10\n",
            "10\n"
          ]
        }
      ],
      "source": [
        "import math\n",
        "\n",
        "def LCM(a,b):\n",
        "    if a * b == 0:\n",
        "        return max(a,b)\n",
        "    else:\n",
        "        return int(a * b / math.gcd(a,b))\n",
        "\n",
        "txt = input()\n",
        "\n",
        "if len(txt) == 1:\n",
        "    print(txt)\n",
        "else:\n",
        "    lcm = LCM(int(txt[0]), int(txt[1]))\n",
        "    for i in range(2, len(txt)):\n",
        "        lcm = LCM(lcm, int(txt[i]))\n",
        "    num = int(txt)\n",
        "    if num % lcm == 0:\n",
        "        print(txt)\n",
        "    else:\n",
        "        signal = True\n",
        "        cnt = 1\n",
        "        while signal:\n",
        "            for i in range(10 ** cnt):\n",
        "                if (num * (10 ** cnt) + i) % lcm == 0:\n",
        "                    print(num * (10 ** cnt) + i)\n",
        "                    signal = False\n",
        "                    break\n",
        "            cnt += 1"
      ]
    },
    {
      "cell_type": "markdown",
      "metadata": {
        "id": "g5-UbIZib76I"
      },
      "source": [
        "## ★ 1501번 영어 읽기"
      ]
    },
    {
      "cell_type": "markdown",
      "metadata": {
        "id": "pUF4SoD2mJei"
      },
      "source": [
        "풀긴 했지만 실행시간이 너무 길다 (1800ms가량, 다른사람은 150ms)\n",
        "\n",
        "Counter로 다 비교하는 것보다, 정렬시켜서 정렬 시킨 것을 key에 집어넣어서 비교하는 것이 더 적절하다!"
      ]
    },
    {
      "cell_type": "code",
      "execution_count": null,
      "metadata": {
        "id": "WmBrjNxnb9jM"
      },
      "outputs": [],
      "source": [
        "a = [x for x in range(98)]\n",
        "from collections import Counter\n",
        "\n",
        "N = int(input())\n",
        "under3 = []\n",
        "dic = []\n",
        "for _ in range(N):\n",
        "    word = input()\n",
        "    if len(word) < 3:\n",
        "        under3.append(word)\n",
        "    else:\n",
        "        dic.append([word[0] + word[-1], dict(Counter(word[1:-1]))])\n",
        "\n",
        "M = int(input())\n",
        "sen = []\n",
        "ans = [1] * M\n",
        "for _ in range(M):\n",
        "    sen.append(list(input().split()))\n",
        "\n",
        "for idx, words in enumerate(sen):\n",
        "    for word in words:\n",
        "        if len(word) < 3:\n",
        "            if word not in under3:\n",
        "                ans[idx] = 0\n",
        "                break\n",
        "        else:\n",
        "            counter = dict(Counter(word[1:-1]))\n",
        "            tmp = 0\n",
        "            for x, y in dic:\n",
        "                if x == word[0] + word[-1] and y.items() == counter.items():\n",
        "                    tmp += 1\n",
        "            if tmp == 0:\n",
        "                ans[idx] = 0\n",
        "                break\n",
        "            ans[idx] = ans[idx] * tmp\n",
        "\n",
        "for x in ans:\n",
        "    print(x)"
      ]
    },
    {
      "cell_type": "markdown",
      "metadata": {
        "id": "4KhZ7O_QpjF9"
      },
      "source": [
        "## 1512번 주기문으로 바꾸기"
      ]
    },
    {
      "cell_type": "markdown",
      "metadata": {
        "id": "K8zfJ4703PVq"
      },
      "source": [
        "굳이 cut은 필요 없다다"
      ]
    },
    {
      "cell_type": "code",
      "execution_count": null,
      "metadata": {
        "colab": {
          "base_uri": "https://localhost:8080/"
        },
        "id": "vD49FBf8pl1z",
        "outputId": "45764be0-3447-4069-9496-3e5fbac27c09"
      },
      "outputs": [
        {
          "name": "stdout",
          "output_type": "stream",
          "text": [
            "1\n",
            "AAAATTTCCG\n",
            "6\n"
          ]
        }
      ],
      "source": [
        "from collections import Counter\n",
        "M = int(input())\n",
        "txt = input()\n",
        "def cut(text, num):\n",
        "    arr = [text[x * num:(x+1) * num] for x in range(len(text) // num)]\n",
        "    last_one = text[num * (len(text) // num):]\n",
        "    if len(last_one) > 0:\n",
        "        arr += [last_one]\n",
        "    return arr\n",
        "\n",
        "ans = 1e9\n",
        "for i in range(1, M + 1):\n",
        "    tmp_ans = 0\n",
        "    arr = cut(txt, i)\n",
        "    for idx in range(i):\n",
        "        tmp_arr = [x[idx] for x in arr[:-1]]\n",
        "        if len(arr[-1]) > idx:\n",
        "            tmp_arr += [arr[-1][idx]]\n",
        "        counter = dict(Counter(tmp_arr))\n",
        "        tmp_ans += sum(counter.values()) - max(counter.values())\n",
        "    ans = min(ans, tmp_ans)\n",
        "print(ans)"
      ]
    },
    {
      "cell_type": "markdown",
      "metadata": {
        "id": "CymzARfo34aT"
      },
      "source": [
        "# 2022.07.01"
      ]
    },
    {
      "cell_type": "markdown",
      "metadata": {
        "id": "dREAybDmpj1m"
      },
      "source": [
        "## 1577번 도로의 개수"
      ]
    },
    {
      "cell_type": "code",
      "execution_count": null,
      "metadata": {
        "colab": {
          "base_uri": "https://localhost:8080/"
        },
        "id": "COtKlGsQ4sEp",
        "outputId": "4da7ce93-09b5-42e8-c696-05aaf5e44622"
      },
      "outputs": [
        {
          "name": "stdout",
          "output_type": "stream",
          "text": [
            "2 2\n",
            "3\n",
            "0 0 1 0\n",
            "1 2 2 2 \n",
            "1 1 2 1\n",
            "0\n"
          ]
        }
      ],
      "source": [
        "N, M = map(int, input().split())\n",
        "\n",
        "width_arr = [[1] * N for _ in range(M + 1)]\n",
        "height_arr = [[1] * (N + 1) for _ in range(M)]\n",
        "\n",
        "K = int(input())\n",
        "for _ in range(K):\n",
        "    a, b, c, d = map(int, input().split())\n",
        "    if a == c:\n",
        "        height_arr[min(b,d)][a] = 0\n",
        "    else:\n",
        "        width_arr[b][min(a,c)] = 0\n",
        "\n",
        "dp_arr = [[-1] * (M + 1) for _ in range(N + 1)]\n",
        "dp_arr[0][0] = 1\n",
        "\n",
        "def dp(n, m):\n",
        "    if dp_arr[n][m] == -1:\n",
        "        row = 0\n",
        "        col = 0\n",
        "        if n != 0:\n",
        "            dp(n - 1, m)\n",
        "            row = width_arr[m][n - 1] * dp_arr[n - 1][m]\n",
        "        if m != 0:\n",
        "            dp(n, m - 1)\n",
        "            col = height_arr[m - 1][n] * dp_arr[n][m - 1]\n",
        "        dp_arr[n][m] = row + col\n",
        "        return dp_arr[n][m]\n",
        "\n",
        "print(dp(N, M))\n"
      ]
    },
    {
      "cell_type": "markdown",
      "metadata": {
        "id": "KB3DWUPc6bAl"
      },
      "source": [
        "## 1662번 압축"
      ]
    },
    {
      "cell_type": "code",
      "execution_count": null,
      "metadata": {
        "colab": {
          "base_uri": "https://localhost:8080/"
        },
        "id": "QuewsLK96cVy",
        "outputId": "ef12a592-7dc5-4092-a3b1-1f9431c4c237"
      },
      "outputs": [
        {
          "name": "stdout",
          "output_type": "stream",
          "text": [
            "10342(76)\n",
            "8\n"
          ]
        }
      ],
      "source": [
        "text = input()\n",
        "\n",
        "def dfs(txt):\n",
        "    num = 0\n",
        "    for idx in range(len(txt)):\n",
        "        if txt[idx] == '(':\n",
        "            num += 1\n",
        "            if num == 1:\n",
        "                start_idx = idx\n",
        "        elif txt[idx] == ')':\n",
        "            num -= 1\n",
        "            if num == 0:\n",
        "                return (start_idx - 1) + dfs(txt[start_idx + 1:idx]) * int(txt[start_idx - 1]) + dfs(txt[idx + 1:])\n",
        "    return len(txt)\n",
        "\n",
        "print(dfs(text))"
      ]
    },
    {
      "cell_type": "markdown",
      "metadata": {
        "id": "NzumJWA4QG79"
      },
      "source": [
        "## 2011번 암호코드"
      ]
    },
    {
      "cell_type": "markdown",
      "metadata": {
        "id": "N2AiFp1YQIc8"
      },
      "source": [
        "BFS 메모리 초과"
      ]
    },
    {
      "cell_type": "code",
      "execution_count": null,
      "metadata": {
        "colab": {
          "base_uri": "https://localhost:8080/"
        },
        "id": "3Sa2-hrLTMRG",
        "outputId": "fd9161b4-6677-47a6-a9e4-a364edb5a274"
      },
      "outputs": [
        {
          "name": "stdout",
          "output_type": "stream",
          "text": [
            "1111111111\n",
            "89\n"
          ]
        }
      ],
      "source": [
        "from collections import deque\n",
        "\n",
        "queue = deque()\n",
        "code = input()\n",
        "queue.append(code)\n",
        "cnt = 0\n",
        "while queue:\n",
        "    if cnt > 1000000:\n",
        "        cnt = cnt % 1000000\n",
        "    code = queue.popleft()\n",
        "    if len(code) == 0:\n",
        "        cnt += 1\n",
        "        continue\n",
        "    if code[0] == 0:\n",
        "        continue\n",
        "    if 9 < int(code[:2]) < 27:\n",
        "        queue.append(code[2:])\n",
        "    queue.append(code[1:])\n",
        "\n",
        "print(cnt)"
      ]
    },
    {
      "cell_type": "markdown",
      "metadata": {
        "id": "OoJjhCmxZPd-"
      },
      "source": [
        "dfs 시간 초과"
      ]
    },
    {
      "cell_type": "code",
      "execution_count": null,
      "metadata": {
        "id": "yEfQ8RDZV1Vl"
      },
      "outputs": [],
      "source": [
        "import sys\n",
        "sys.setrecursionlimit(10 ** 6)\n",
        "code = input()\n",
        "\n",
        "cnt = 0\n",
        "\n",
        "def dfs(code):\n",
        "    global cnt\n",
        "    if cnt > 1000000:\n",
        "        cnt = cnt % 1000000\n",
        "    if len(code) == 0:\n",
        "        cnt += 1\n",
        "        return\n",
        "    if code[0] == 0:\n",
        "        return\n",
        "    if 9 < int(code[:2]) < 27:\n",
        "        dfs(code[2:])\n",
        "    dfs(code[1:])\n",
        "\n",
        "dfs(code)\n",
        "print(cnt)"
      ]
    },
    {
      "cell_type": "markdown",
      "metadata": {
        "id": "0PX4zWYSfk3G"
      },
      "source": [
        "dp"
      ]
    },
    {
      "cell_type": "code",
      "execution_count": null,
      "metadata": {
        "colab": {
          "base_uri": "https://localhost:8080/"
        },
        "id": "y8iISI9CXYWm",
        "outputId": "59984924-6e35-4c3b-9d97-30a9e8d52603"
      },
      "outputs": [
        {
          "name": "stdout",
          "output_type": "stream",
          "text": [
            "25114\n",
            "6\n"
          ]
        }
      ],
      "source": [
        "import sys\n",
        "sys.setrecursionlimit(10 ** 9)\n",
        "code = input()\n",
        "\n",
        "dp_table = {'0' : 0,\n",
        "            '' : 1}\n",
        "for i in range(1, 11):\n",
        "    dp_table[str(i)] = 1\n",
        "for i in range(11, 27):\n",
        "    dp_table[str(i)] = 2\n",
        "dp_table['20'] = 1\n",
        "for i in range(27, 100):\n",
        "    dp_table[str(i)] = 1\n",
        "for i in range(30, 100, 10):\n",
        "    dp_table[str(i)] = 0\n",
        "\n",
        "def dp(txt):\n",
        "    if txt[:1] == '0':\n",
        "        return 0\n",
        "    if len(txt) < 3:\n",
        "        return dp_table[str(txt)]\n",
        "    if txt[2:] not in dp_table.keys():\n",
        "        dp_table[txt[2:]] = dp(txt[2:])\n",
        "    if txt[1:] not in dp_table.keys():\n",
        "        dp_table[txt[1:]] = dp(txt[1:])\n",
        "        \n",
        "    if int(txt[:2]) > 26:\n",
        "        return dp_table[txt[1:]]\n",
        "    else:\n",
        "        return (dp_table[txt[1:]] + dp_table[txt[2:]]) % 1000000\n",
        "\n",
        "print(dp(code))"
      ]
    },
    {
      "cell_type": "markdown",
      "metadata": {
        "id": "QNx_SJhdZ2UL"
      },
      "source": [
        "# ㅡㅡㅡㅡㅡㅡㅡㅡㅡㅡㅡㅡㅡㅡㅡㅡㅡㅡ"
      ]
    },
    {
      "cell_type": "markdown",
      "metadata": {
        "id": "S9FlFuI5ZzP0"
      },
      "source": [
        "# 골드4"
      ]
    },
    {
      "cell_type": "markdown",
      "metadata": {
        "id": "miD9o4wppnwJ"
      },
      "source": [
        "# 2022.07.06"
      ]
    },
    {
      "cell_type": "markdown",
      "metadata": {
        "id": "CKoegDgJ-ZVY"
      },
      "source": [
        "## 1022번 소용돌이 예쁘게 출력하기기"
      ]
    },
    {
      "cell_type": "code",
      "execution_count": null,
      "metadata": {
        "colab": {
          "base_uri": "https://localhost:8080/",
          "height": 266
        },
        "id": "x4XgCinj_fQ9",
        "outputId": "ea71877b-d45a-4a49-82f3-b91dc1ead8f9"
      },
      "outputs": [
        {
          "name": "stdout",
          "output_type": "stream",
          "text": [
            "-3 -3 2 0\n"
          ]
        },
        {
          "ename": "AttributeError",
          "evalue": "ignored",
          "output_type": "error",
          "traceback": [
            "\u001b[0;31m---------------------------------------------------------------------------\u001b[0m",
            "\u001b[0;31mAttributeError\u001b[0m                            Traceback (most recent call last)",
            "\u001b[0;32m<ipython-input-14-2b646c93d597>\u001b[0m in \u001b[0;36m<module>\u001b[0;34m()\u001b[0m\n\u001b[1;32m     25\u001b[0m \u001b[0;34m\u001b[0m\u001b[0m\n\u001b[1;32m     26\u001b[0m \u001b[0mlength\u001b[0m \u001b[0;34m=\u001b[0m \u001b[0;34m[\u001b[0m\u001b[0;34m]\u001b[0m\u001b[0;34m\u001b[0m\u001b[0;34m\u001b[0m\u001b[0m\n\u001b[0;32m---> 27\u001b[0;31m \u001b[0mlength\u001b[0m\u001b[0;34m.\u001b[0m\u001b[0mapppend\u001b[0m\u001b[0;34m(\u001b[0m\u001b[0mlen\u001b[0m\u001b[0;34m(\u001b[0m\u001b[0mstr\u001b[0m\u001b[0;34m(\u001b[0m\u001b[0mvalue_find\u001b[0m\u001b[0;34m(\u001b[0m\u001b[0mr1\u001b[0m\u001b[0;34m,\u001b[0m \u001b[0mc1\u001b[0m\u001b[0;34m)\u001b[0m\u001b[0;34m)\u001b[0m\u001b[0;34m)\u001b[0m\u001b[0;34m)\u001b[0m\u001b[0;34m\u001b[0m\u001b[0;34m\u001b[0m\u001b[0m\n\u001b[0m\u001b[1;32m     28\u001b[0m \u001b[0mlength\u001b[0m\u001b[0;34m.\u001b[0m\u001b[0mapppend\u001b[0m\u001b[0;34m(\u001b[0m\u001b[0mlen\u001b[0m\u001b[0;34m(\u001b[0m\u001b[0mstr\u001b[0m\u001b[0;34m(\u001b[0m\u001b[0mvalue_find\u001b[0m\u001b[0;34m(\u001b[0m\u001b[0mr1\u001b[0m\u001b[0;34m,\u001b[0m \u001b[0mc2\u001b[0m\u001b[0;34m)\u001b[0m\u001b[0;34m)\u001b[0m\u001b[0;34m)\u001b[0m\u001b[0;34m)\u001b[0m\u001b[0;34m\u001b[0m\u001b[0;34m\u001b[0m\u001b[0m\n\u001b[1;32m     29\u001b[0m \u001b[0mlength\u001b[0m\u001b[0;34m.\u001b[0m\u001b[0mapppend\u001b[0m\u001b[0;34m(\u001b[0m\u001b[0mlen\u001b[0m\u001b[0;34m(\u001b[0m\u001b[0mstr\u001b[0m\u001b[0;34m(\u001b[0m\u001b[0mvalue_find\u001b[0m\u001b[0;34m(\u001b[0m\u001b[0mr2\u001b[0m\u001b[0;34m,\u001b[0m \u001b[0mc1\u001b[0m\u001b[0;34m)\u001b[0m\u001b[0;34m)\u001b[0m\u001b[0;34m)\u001b[0m\u001b[0;34m)\u001b[0m\u001b[0;34m\u001b[0m\u001b[0;34m\u001b[0m\u001b[0m\n",
            "\u001b[0;31mAttributeError\u001b[0m: 'list' object has no attribute 'apppend'"
          ]
        }
      ],
      "source": [
        "r1, c1, r2, c2 = map(int, input().split())\n",
        "\n",
        "nums = [8 * n for n in range(5001)]\n",
        "nums[0] = 1\n",
        "swirl = [sum(nums[:n+1]) for n in range(5001)]\n",
        "\n",
        "def value_find(row, col):\n",
        "    num = max(abs(row), abs(col))\n",
        "    if abs(row) >= abs(col): # 가로로 찾기\n",
        "        if row < 0: # 위에서 찾기\n",
        "            value = swirl[num] - (nums[num] / 4 * 3) + abs(row) - col\n",
        "            pass\n",
        "        else: # 아래에서 찾기\n",
        "            value = swirl[num] - abs(row) + col\n",
        "            pass\n",
        "        pass\n",
        "    else: # 세로로 찾기\n",
        "        if col < 0: # 왼쪽에서 찾기\n",
        "            value = swirl[num] - (nums[num] / 4 * 2) + row - col\n",
        "            pass\n",
        "        else: # 오른쪽에서 찾기\n",
        "            value = swirl[num] - (nums[num] / 4 * 3) - (col + row)\n",
        "        pass\n",
        "    return int(value)\n",
        "\n",
        "length = []\n",
        "length.append(len(str(value_find(r1, c1))))\n",
        "length.append(len(str(value_find(r1, c2))))\n",
        "length.append(len(str(value_find(r2, c1))))\n",
        "length.append(len(str(value_find(r2, c2))))\n",
        "length = max(length)\n",
        "for row in range(r1, r2 + 1):\n",
        "    txt = []\n",
        "    for col in range(c1, c2 + 1):\n",
        "        idx = col - c1\n",
        "        tmp = str(value_find(row, col))\n",
        "        txt.append(' ' * (length - len(tmp)) + tmp)\n",
        "    print(' '.join(txt))"
      ]
    },
    {
      "cell_type": "markdown",
      "metadata": {
        "id": "PWD4MD-YMhnf"
      },
      "source": [
        "## 1027번 고층 건물"
      ]
    },
    {
      "cell_type": "code",
      "execution_count": null,
      "metadata": {
        "colab": {
          "base_uri": "https://localhost:8080/"
        },
        "id": "4N609Xa7woyG",
        "outputId": "f6216b3e-f301-4f30-ba6d-f68dc76cba8d"
      },
      "outputs": [
        {
          "data": {
            "text/plain": [
              "[1, 4, 3, 3, 7, 3, 3, 6, 4, 2, 4, 7, 3, 3, 3]"
            ]
          },
          "execution_count": 25,
          "metadata": {},
          "output_type": "execute_result"
        }
      ],
      "source": [
        "N = int(input())\n",
        "\n",
        "height = list(map(int, input().split()))\n",
        "building = [0] * N\n",
        "for i in range(N - 1):\n",
        "    min_val = -1e9\n",
        "    for j in range(i + 1, N):\n",
        "        tmp = (height[j] - height[i]) / (j - i)\n",
        "        if min_val < tmp:\n",
        "            min_val = tmp\n",
        "            building[i] += 1\n",
        "            building[j] += 1\n",
        "\n",
        "print(max(building))"
      ]
    },
    {
      "cell_type": "markdown",
      "metadata": {
        "id": "e1cC6uJuyUU6"
      },
      "source": [
        "## ★ 1034번 램프 (브루트 포스)"
      ]
    },
    {
      "cell_type": "markdown",
      "metadata": {
        "id": "OYo-wxe8DYHP"
      },
      "source": [
        "브루트 포스\n",
        "\n",
        "https://www.acmicpc.net/problem/1034\n",
        "\n",
        "https://yhkim4504.tistory.com/11\n",
        "\n",
        "아이디어 채택하여 코드는 직접 구현함"
      ]
    },
    {
      "cell_type": "code",
      "execution_count": null,
      "metadata": {
        "colab": {
          "base_uri": "https://localhost:8080/"
        },
        "id": "mSqITCwKFClD",
        "outputId": "76913e4d-d472-4ca6-cf39-c3b7144fe106"
      },
      "outputs": [
        {
          "name": "stdout",
          "output_type": "stream",
          "text": [
            "1 1\n",
            "0\n",
            "1\n",
            "1\n"
          ]
        }
      ],
      "source": [
        "N, M = map(int, input().split())\n",
        "desk = [list(map(int, input())) for _ in range(N)]\n",
        "K = int(input())\n",
        "\n",
        "result = 0\n",
        "\n",
        "for signal in desk:\n",
        "    lamp = M - sum(signal)\n",
        "    if lamp > K or lamp % 2 != K % 2:\n",
        "        continue\n",
        "    tmp = 0\n",
        "    for row in desk:\n",
        "        if signal == row:\n",
        "            tmp += 1\n",
        "    result = max(result, tmp)\n",
        "\n",
        "print(result)"
      ]
    },
    {
      "cell_type": "markdown",
      "metadata": {
        "id": "Uc7gcCiEu_TW"
      },
      "source": [
        "# 2022.07.07"
      ]
    },
    {
      "cell_type": "markdown",
      "metadata": {
        "id": "exZEe77rwM5n"
      },
      "source": [
        "## 1043번 거짓말"
      ]
    },
    {
      "cell_type": "markdown",
      "metadata": {
        "id": "dzw4Dn_k7t5x"
      },
      "source": [
        "queue로 풀었지만, Union Find 알고리즘을 이용해 풀면 더 쉽게 풀이 가능"
      ]
    },
    {
      "cell_type": "code",
      "execution_count": null,
      "metadata": {
        "colab": {
          "base_uri": "https://localhost:8080/"
        },
        "id": "9g5t7iZ-3GC-",
        "outputId": "b3befc18-c85a-4826-ea83-6b69d6655459"
      },
      "outputs": [
        {
          "name": "stdout",
          "output_type": "stream",
          "text": [
            "4 1\n",
            "1 1\n",
            "4 1 2 3 4\n",
            "1\n"
          ]
        }
      ],
      "source": [
        "from collections import deque\n",
        "N, M = map(int, input().split())\n",
        "known = list(map(int, input().split()))\n",
        "parties = [list(map(int, input().split())) for _ in range(M)]\n",
        "people = [[] for _ in range(N + 1)]\n",
        "for idx, party in enumerate(parties):\n",
        "    for p in party[1:]:\n",
        "        people[p].append(idx)\n",
        "visited_person = [True] + [False] * N\n",
        "visited_party = [False] * M\n",
        "\n",
        "queue = deque()\n",
        "\n",
        "for p in known[1:]:\n",
        "    queue.append(p)\n",
        "    visited_person[p] = True\n",
        "\n",
        "while queue:\n",
        "    p = queue.popleft()\n",
        "    indexList = people[p]\n",
        "    for idx in indexList:\n",
        "        if visited_party[idx]:\n",
        "            continue\n",
        "        else:\n",
        "            visited_party[idx] = True\n",
        "            friends = parties[idx][1:]\n",
        "            for p in friends:\n",
        "                if visited_person[p] == False:\n",
        "                    queue.append(p)\n",
        "                    visited_person[p] = True\n",
        "\n",
        "print(M - sum(visited_party))"
      ]
    },
    {
      "cell_type": "markdown",
      "metadata": {
        "id": "uKI3pQz_9Ny9"
      },
      "source": [
        "## ★ 1062번 가르침 (비트연산자)"
      ]
    },
    {
      "cell_type": "markdown",
      "metadata": {
        "id": "YlC7nAfPSJsC"
      },
      "source": [
        "시간 초과, 비트연산자 or dfs 이용\n",
        "\n",
        "내 코드 : dfs없이 for문 이용, 3100ms\n",
        "dfs : 1500ms\n",
        "비트연산자 : 200ms\n",
        "\n",
        "비트연산자 이용법 조금 숙지 필요\n",
        "\n",
        "https://velog.io/@ready2start/Python-%EB%B0%B1%EC%A4%80-1062-%EA%B0%80%EB%A5%B4%EC%B9%A8"
      ]
    },
    {
      "cell_type": "code",
      "execution_count": null,
      "metadata": {
        "colab": {
          "base_uri": "https://localhost:8080/"
        },
        "id": "cZyyIPYuVn5K",
        "outputId": "0077167e-5f51-48cf-fb15-d37c28cd61ab"
      },
      "outputs": [
        {
          "name": "stdout",
          "output_type": "stream",
          "text": [
            "1 7\n",
            "antabbtica\n",
            "1\n"
          ]
        }
      ],
      "source": [
        "from itertools import combinations\n",
        "\n",
        "N, M = map(int, input().split())\n",
        "words = [set(map(str,input())) for _ in range(N)]\n",
        "need = set(['a', 'c', 'i', 't', 'n'])\n",
        "words = [x.difference(need) for x in words]\n",
        "alpha = words[0]\n",
        "for word in words[1:]:\n",
        "    alpha = alpha.union(word)\n",
        "\n",
        "result = 0\n",
        "\n",
        "if M >= 5:\n",
        "    alpha = set(combinations(alpha, M - 5))\n",
        "    if len(alpha) == 0:\n",
        "        result = N\n",
        "    else:\n",
        "        for comb in alpha:\n",
        "            tmp = 0\n",
        "            for word in words:\n",
        "                isContain = True\n",
        "                for w in word:\n",
        "                    if w not in comb:\n",
        "                        isContain = False\n",
        "                        break\n",
        "                if isContain == True:\n",
        "                    tmp += 1\n",
        "            result = max(result, tmp)\n",
        "print(result)"
      ]
    },
    {
      "cell_type": "markdown",
      "metadata": {
        "id": "M1rZbizNaERN"
      },
      "source": [
        "## RE ★ 1099번 알 수 없는 문장(DP)"
      ]
    },
    {
      "cell_type": "markdown",
      "metadata": {
        "id": "9gp5PbgZ-uUc"
      },
      "source": [
        "https://www.acmicpc.net/problem/1099\n",
        "\n",
        "시간 초과 계속 남, 힌트 보니 dp로 풀이\n",
        "\n",
        "solution\n",
        "\n",
        "https://www.acmicpc.net/source/19401046"
      ]
    },
    {
      "cell_type": "code",
      "execution_count": null,
      "metadata": {
        "colab": {
          "base_uri": "https://localhost:8080/"
        },
        "id": "Bbq7IjFavYGg",
        "outputId": "eada8782-d04f-46d1-d47d-e7c2ba8719bc"
      },
      "outputs": [
        {
          "name": "stdout",
          "output_type": "stream",
          "text": [
            "ommwreehisymkiml\n",
            "11\n",
            "we\n",
            "were\n",
            "here\n",
            "my\n",
            "is\n",
            "mom\n",
            "here\n",
            "si\n",
            "milk\n",
            "where\n",
            "si\n",
            "10\n"
          ]
        }
      ],
      "source": [
        "from collections import Counter\n",
        "sen = input()\n",
        "N = int(input())\n",
        "dic = dict()\n",
        "length = set()\n",
        "for _ in range(N):\n",
        "    word = input()\n",
        "    length.add(len(word))\n",
        "    sorted_word = ''.join(sorted(word))\n",
        "    if sorted_word in dic.keys():\n",
        "        dic[sorted_word].add(word)\n",
        "    else:\n",
        "        dic[sorted_word] = {word}\n",
        "\n",
        "result = 1e9\n",
        "\n",
        "def dfs(word, cost, idx):\n",
        "    global result\n",
        "    if word == '':\n",
        "        result = min(result, cost)\n",
        "        return\n",
        "    if cost >= result:\n",
        "        return\n",
        "    if len(word) <= idx:\n",
        "        return\n",
        "    dfs(word, cost, idx + 1)\n",
        "    if idx + 1 in length:\n",
        "        sorted_word = ''.join(sorted(word[:idx+1]))\n",
        "        if sorted_word in dic.keys():\n",
        "            new_cost = 1e9\n",
        "            for txt in dic[sorted_word]:\n",
        "                tmp = cost\n",
        "                for x, y in zip(word[:idx+1], txt):\n",
        "                    if x != y:\n",
        "                        tmp += 1\n",
        "                new_cost = min(new_cost, tmp)\n",
        "            dfs(word[idx+1:], new_cost, 0)\n",
        "\n",
        "dfs(sen, 0, 0)\n",
        "if result == 1e9:\n",
        "    print(-1)\n",
        "else:\n",
        "    print(result)"
      ]
    },
    {
      "cell_type": "markdown",
      "metadata": {
        "id": "Aev28YRsO9fV"
      },
      "source": [
        "## 1101번 카드 정리1"
      ]
    },
    {
      "cell_type": "markdown",
      "metadata": {
        "id": "je1TgxG71nEL"
      },
      "source": [
        "조금 이상한 점이 있어서 보류"
      ]
    },
    {
      "cell_type": "code",
      "execution_count": null,
      "metadata": {
        "colab": {
          "base_uri": "https://localhost:8080/"
        },
        "id": "yj0f3ZIrPPgJ",
        "outputId": "7e8c816c-a1a0-4d81-b6a3-2b32317af0c3"
      },
      "outputs": [
        {
          "name": "stdout",
          "output_type": "stream",
          "text": [
            "6 2\n",
            "1 1\n",
            "1 1\n",
            "1 1\n",
            "1 0\n",
            "1 0\n",
            "0 1\n",
            "5\n"
          ]
        }
      ],
      "source": [
        "N, M = map(int, input().split())\n",
        "boxes = [list(map(int, input().split())) for _ in range(N)]\n",
        "index = set()\n",
        "cards = [sum(x) - max(x) for x in boxes]\n",
        "joker = boxes.pop(cards.index(max(cards)))\n",
        "result = 0\n",
        "for _ in range(M):\n",
        "    cards = [sum(x) - max(x) for x in boxes]\n",
        "    box_idx = cards.index(min(cards))\n",
        "    idx = boxes[box_idx].index(max(boxes[box_idx]))\n",
        "    index.add(idx)\n",
        "    for row in range(N - 1):\n",
        "        if row == box_idx:\n",
        "            for num, value in enumerate(boxes[row]):\n",
        "                if num != idx:\n",
        "                    result += value\n",
        "                    boxes[row][num] = 0\n",
        "        else:\n",
        "            result += boxes[row][idx]\n",
        "            boxes[row][idx] = 0\n",
        "\n",
        "max_val = 0\n",
        "for row in range(N - 1):\n",
        "    if row not in index:\n",
        "        value = sum(boxes[row])\n",
        "        result += value\n",
        "        max_val = max(max_val, value)\n",
        "print(result - max_val)"
      ]
    },
    {
      "cell_type": "markdown",
      "metadata": {
        "id": "H0MrE1sq1pMf"
      },
      "source": [
        "## 1197번 최소 스패닝 트리"
      ]
    },
    {
      "cell_type": "markdown",
      "metadata": {
        "id": "_SuFVdEnMCGi"
      },
      "source": [
        "1032ms"
      ]
    },
    {
      "cell_type": "code",
      "execution_count": null,
      "metadata": {
        "colab": {
          "base_uri": "https://localhost:8080/"
        },
        "id": "23p6bFYx2v-1",
        "outputId": "e797b34f-a9e2-4b34-f12e-5a45527ae542"
      },
      "outputs": [
        {
          "name": "stdout",
          "output_type": "stream",
          "text": [
            "3 3\n",
            "1 2 1\n",
            "2 3 2\n",
            "1 3 3\n",
            "3\n"
          ]
        }
      ],
      "source": [
        "# import sys\n",
        "# input = sys.stdin.readline\n",
        "import heapq\n",
        "\n",
        "def find_parent(x):\n",
        "    if parent[x] != x:\n",
        "        parent[x] = find_parent(parent[x])\n",
        "    return parent[x]\n",
        "\n",
        "def change_parent(x, a):\n",
        "    if parent[x] == x:\n",
        "        parent[x] = a\n",
        "    elif parent[x] != a:\n",
        "        change_parent(parent[x], a)\n",
        "        parent[x] = a\n",
        "\n",
        "V, E = map(int, input().split())\n",
        "parent = {x : x for x in range(1, V + 1)}\n",
        "visited = [True] + [False] * V\n",
        "queue = []\n",
        "for _ in range(E):\n",
        "    node1, node2, edge = map(int, input().split())\n",
        "    heapq.heappush(queue, (edge, node1, node2))\n",
        "\n",
        "result = 0\n",
        "\n",
        "while queue:\n",
        "    edge, node1, node2 = heapq.heappop(queue)\n",
        "    parent1 = find_parent(node1)\n",
        "    parent2 = find_parent(node2)\n",
        "    if parent1 != parent2:\n",
        "        change_parent(max(node1, node2), find_parent(min(node1, node2)))\n",
        "        result += edge\n",
        "\n",
        "print(result)"
      ]
    },
    {
      "cell_type": "markdown",
      "metadata": {
        "id": "r0izuRe3MAwu"
      },
      "source": [
        "780ms"
      ]
    },
    {
      "cell_type": "code",
      "execution_count": null,
      "metadata": {
        "id": "OnAwJ3SxDolW"
      },
      "outputs": [],
      "source": [
        "# import sys\n",
        "# input = sys.stdin.readline\n",
        "import heapq\n",
        "\n",
        "def find_parent(x):\n",
        "    if parent[x] != x:\n",
        "        parent[x] = find_parent(parent[x])\n",
        "    return parent[x]\n",
        "\n",
        "V, E = map(int, input().split())\n",
        "parent = {x : x for x in range(1, V + 1)}\n",
        "visited = [True] + [False] * V\n",
        "queue = []\n",
        "for _ in range(E):\n",
        "    node1, node2, edge = map(int, input().split())\n",
        "    heapq.heappush(queue, (edge, node1, node2))\n",
        "\n",
        "result = 0\n",
        "\n",
        "while queue:\n",
        "    edge, node1, node2 = heapq.heappop(queue)\n",
        "    parent1 = find_parent(node1)\n",
        "    parent2 = find_parent(node2)\n",
        "    if parent1 != parent2:\n",
        "        parent[max(parent1, parent2)] = min(parent1, parent2)\n",
        "        result += edge\n",
        "\n",
        "print(result)"
      ]
    },
    {
      "cell_type": "markdown",
      "metadata": {
        "id": "1nGWXsw6L-v4"
      },
      "source": [
        "412ms"
      ]
    },
    {
      "cell_type": "code",
      "execution_count": null,
      "metadata": {
        "id": "xJ3doJFjK4Om"
      },
      "outputs": [],
      "source": [
        "# import sys\n",
        "# input = sys.stdin.readline\n",
        "import heapq\n",
        "\n",
        "def find_parent(x):\n",
        "    if parent[x] != x:\n",
        "        parent[x] = find_parent(parent[x])\n",
        "    return parent[x]\n",
        "\n",
        "V, E = map(int, input().split())\n",
        "parent = {x : x for x in range(1, V + 1)}\n",
        "visited = [True] + [False] * V\n",
        "queue = [list(map(int, input().split())) for _ in range(E)]\n",
        "queue = sorted(queue, key = lambda x: x[2], reverse = True)\n",
        "\n",
        "result = 0\n",
        "\n",
        "while queue:\n",
        "    node1, node2, edge = queue.pop(-1)\n",
        "    parent1 = find_parent(node1)\n",
        "    parent2 = find_parent(node2)\n",
        "    if parent1 != parent2:\n",
        "        parent[max(parent1, parent2)] = min(parent1, parent2)\n",
        "        result += edge\n",
        "\n",
        "print(result)"
      ]
    },
    {
      "cell_type": "markdown",
      "metadata": {
        "id": "2slTy12Vw-6Y"
      },
      "source": [
        "# 2022.07.08"
      ]
    },
    {
      "cell_type": "markdown",
      "metadata": {
        "id": "f1QNhmvsvnXP"
      },
      "source": [
        "## ★★ 1253번 좋다"
      ]
    },
    {
      "cell_type": "markdown",
      "metadata": {
        "id": "mvQOKq3888M9"
      },
      "source": [
        "6896ms 시간 너무 오래걸림\n",
        "\n",
        "시간복잡도 분석\n",
        "\n",
        "정렬 => $O(NlogN)$\n",
        "\n",
        "이중 for문 => $O(N^2)$, \n",
        "\n",
        "안에서 수행되는 bisect => $logN$\n",
        "\n",
        "최종 => $O(N^2logN)$\n",
        "\n",
        "\n",
        "\n"
      ]
    },
    {
      "cell_type": "code",
      "execution_count": null,
      "metadata": {
        "colab": {
          "base_uri": "https://localhost:8080/"
        },
        "id": "XtOIin3Nvpj3",
        "outputId": "4a0615a3-7d36-4f64-ce1b-73e5cfc1dd54"
      },
      "outputs": [
        {
          "name": "stdout",
          "output_type": "stream",
          "text": [
            "3\n",
            "0 0 0\n",
            "0 1 0\n",
            "1\n"
          ]
        }
      ],
      "source": [
        "from bisect import bisect_left\n",
        "N = int(input())\n",
        "nums = list(map(int, input().split()))\n",
        "nums.sort()\n",
        "good = [False] * N\n",
        "for i in range(N - 1):\n",
        "    for j in range(i + 1, N):\n",
        "        num = nums[i] + nums[j]\n",
        "        idx = bisect_left(nums, num)\n",
        "        while idx < N:\n",
        "            if good[idx] == False and nums[idx] == num:\n",
        "                if idx != j and idx != i:\n",
        "                    good[idx] = True\n",
        "            elif nums[idx] > num:\n",
        "                break\n",
        "            idx += 1\n",
        "print(sum(good))"
      ]
    },
    {
      "cell_type": "markdown",
      "metadata": {
        "id": "CNNw5KRjBCQc"
      },
      "source": [
        "140ms 아이디어\n",
        "\n",
        "양쪽에서 하나는 증가하며, 하나는 감소하며 값을 찾아나가기\n",
        "\n",
        "더한 값을 메모이제이션 해둔다면 더 좋은 결과 예상됨"
      ]
    },
    {
      "cell_type": "code",
      "execution_count": null,
      "metadata": {
        "id": "SN8paD4UBEr3"
      },
      "outputs": [],
      "source": [
        "N = int(input())\n",
        "arr = list(map(int, input().split()))\n",
        "\n",
        "def solve(n):\n",
        "    if n < 2:\n",
        "        return 0\n",
        "\n",
        "    arr.sort()\n",
        "    ans = 0\n",
        "    for i in range(n):\n",
        "        left = 0\n",
        "        right = N - 1\n",
        "        while left < right:\n",
        "            if left == i:\n",
        "                left += 1\n",
        "                continue\n",
        "            if right == i:\n",
        "                right -= 1\n",
        "                continue\n",
        "\n",
        "            my_sum = arr[left] + arr[right]\n",
        "            if my_sum == arr[i]:\n",
        "                ans += 1\n",
        "                break\n",
        "            elif my_sum < arr[i]:\n",
        "                left += 1\n",
        "            else:\n",
        "                right -= 1\n",
        "    return ans\n",
        "\n",
        "print(solve(N))"
      ]
    },
    {
      "cell_type": "markdown",
      "metadata": {
        "id": "1HpSvy8KKbYP"
      },
      "source": [
        "## 1261번 알고스팟"
      ]
    },
    {
      "cell_type": "markdown",
      "metadata": {
        "id": "57IEWw7rjSrO"
      },
      "source": [
        "dp인줄 알았으나, 생각해보니 돌아서 올 경우엔 북쪽이나 동쪽에서 오지 않아도 최소가 될 수도 잇음"
      ]
    },
    {
      "cell_type": "code",
      "execution_count": null,
      "metadata": {
        "colab": {
          "base_uri": "https://localhost:8080/"
        },
        "id": "v7SVGvgpLUkE",
        "outputId": "e5df57fb-bc48-4b11-ee89-c27ca4f792c6"
      },
      "outputs": [
        {
          "name": "stdout",
          "output_type": "stream",
          "text": [
            "3 1\n",
            "010\n",
            "1\n"
          ]
        }
      ],
      "source": [
        "N, M = map(int, input().split())\n",
        "graph = [list(map(int, input())) for _ in range(M)]\n",
        "\n",
        "dp_graph = [[-1] * N for _ in range(M)]\n",
        "dp_graph[0][0] = 0\n",
        "\n",
        "def dp(N, M):\n",
        "    # 행은 M, 열은 N\n",
        "    north = 1e9\n",
        "    east = 1e9\n",
        "    if dp_graph[M][N] != -1:\n",
        "        return dp_graph[M][N]\n",
        "    if M > 0:\n",
        "        north = dp(N, M - 1)\n",
        "    if N > 0:\n",
        "        east = dp(N - 1, M)\n",
        "    dp_graph[M][N] = min(north, east) + graph[M][N]\n",
        "    return dp_graph[M][N]\n",
        "\n",
        "dp(N-1, M-1)\n",
        "print(dp_graph[M - 1][N - 1])"
      ]
    },
    {
      "cell_type": "code",
      "execution_count": null,
      "metadata": {
        "colab": {
          "base_uri": "https://localhost:8080/"
        },
        "id": "4xGT4_njd6_d",
        "outputId": "58b63900-16a6-4c55-e2e7-1f031bb99b41"
      },
      "outputs": [
        {
          "name": "stdout",
          "output_type": "stream",
          "text": [
            "3 3\n",
            "011\n",
            "111\n",
            "110\n",
            "3\n"
          ]
        }
      ],
      "source": [
        "import heapq\n",
        "from heapq import heappop, heappush\n",
        "N, M = map(int, input().split())\n",
        "graph = [list(map(int, input())) for _ in range(M)]\n",
        "visited = set()\n",
        "queue = [(0, 0, 0)]\n",
        "while queue:\n",
        "    cost, row, col = heappop(queue)\n",
        "    if (row, col) in visited:\n",
        "        continue\n",
        "    else:\n",
        "        visited.add((row, col))\n",
        "    if row == M - 1 and col == N - 1:\n",
        "        break\n",
        "    if row < M - 1 and (row + 1, col) not in visited: # 밑으로 이동\n",
        "        heappush(queue, (cost + graph[row + 1][col], row + 1, col))\n",
        "    if row > 0 and (row - 1, col) not in visited: # 위로 이동\n",
        "        heappush(queue, (cost + graph[row - 1][col], row - 1, col))\n",
        "    if col < N - 1 and (row, col + 1) not in visited: # 오른쪽 이동\n",
        "        heappush(queue, (cost + graph[row][col + 1], row, col + 1))\n",
        "    if col > 0 and (row, col - 1) not in visited: # 왼쪽 이동\n",
        "        heappush(queue, (cost + graph[row][col - 1], row, col - 1))\n",
        "\n",
        "print(cost)"
      ]
    },
    {
      "cell_type": "markdown",
      "metadata": {
        "id": "AyCQpCnps1VI"
      },
      "source": [
        "### 다익스트라 이용 알고리즘\n",
        "\n",
        "다른 사람의 아이디어\n",
        "\n",
        "착안점 : 우선순위 큐가 아니라, deque을 사용하여 벽이 있을 때는 앞에넣고, 벽이 없을 때는 뒤로 넣는 다는 아이디어 중요!\n",
        "\n",
        "어차피 거리는 0이나 1이기 때문에 굳이 heapq가 아니라 같은 cost의 아이들을 다 처리해주고 나면, 다음 코스트 애들을 무조건 처리하기 때문에 그냥 넣어주기만 하면 됨"
      ]
    },
    {
      "cell_type": "code",
      "execution_count": null,
      "metadata": {
        "id": "B2-jlZARs2vG"
      },
      "outputs": [],
      "source": [
        "from sys import stdin\n",
        "\n",
        "m, n = map(int, input().split())\n",
        "status = stdin.read().split() \n",
        "\n",
        "def dijkstra():\n",
        "    COST = [[1e4]*m for _ in range(n)]\n",
        "    COST[0][0] = 0\n",
        "    deque = [(0, 0)]\n",
        "\n",
        "    while True:\n",
        "        x, y = deque.pop(0) \n",
        "        if x == m-1 and y == n-1:\n",
        "            return COST[n-1][m-1]\n",
        "\n",
        "        cost = COST[y][x]\n",
        "        for x, y in [(x, y-1), (x-1, y), (x+1, y), (x, y+1)]:\n",
        "            if not (0 <= x < m and 0 <= y < n):\n",
        "                continue\n",
        "\n",
        "            is_wall = status[y][x] == '1'\n",
        "            new_cost = cost + (1 if is_wall else 0)\n",
        "\n",
        "            if COST[y][x] <= new_cost:\n",
        "                continue\n",
        "\n",
        "            COST[y][x] = new_cost\n",
        "            if is_wall:\n",
        "                deque.append((x, y))\n",
        "            else:\n",
        "                deque.insert(0, (x, y))\n",
        "print(dijkstra())"
      ]
    },
    {
      "cell_type": "markdown",
      "metadata": {
        "id": "ycdCOQg64cz0"
      },
      "source": [
        "## 1301번 비즈 공예"
      ]
    },
    {
      "cell_type": "markdown",
      "metadata": {
        "id": "XiFQRke1_WTC"
      },
      "source": [
        "문제 이해를 잘 못함, 연속된 3개가 달라야 하는데 두개만 다른 줄 알고 풀이함\n",
        "\n",
        "답을 보니 7차원 배열을 이용하긴 하지만\n",
        "\n",
        "브루트 포스법으로 모든 경우의 수를 다 탐색하면서 각 경우를 메모이제이션 하는 방식으로 가야함"
      ]
    },
    {
      "cell_type": "code",
      "execution_count": null,
      "metadata": {
        "id": "d4V9h0OB41zt"
      },
      "outputs": [],
      "source": [
        "3\n",
        "1\n",
        "1\n",
        "1\n",
        "\n",
        "1 0 0 => 1개\n",
        "1 1 0 => 1 * 2 = 2개\n",
        "1 1 1 => 6 개\n",
        "1 1 2 => 세번째거 양옆에만 빼고 들어갈 수 있음. T(n - 1) * ((3 + 1) - (1 * 2)) => 12\n",
        "1 1 3 => 12 * ((5) - (2 * 2))\n",
        "T(n) = T(n - 1) * n"
      ]
    },
    {
      "cell_type": "code",
      "execution_count": null,
      "metadata": {
        "colab": {
          "base_uri": "https://localhost:8080/"
        },
        "id": "Q09U7OTK85vH",
        "outputId": "8b6adeb7-4969-498a-e69a-16aa45df827a"
      },
      "outputs": [
        {
          "name": "stdout",
          "output_type": "stream",
          "text": [
            "3\n",
            "2\n",
            "1\n",
            "1\n",
            "12\n"
          ]
        }
      ],
      "source": [
        "N = int(input())\n",
        "biz = [int(input()) - 1 for _ in range(N)]\n",
        "dp = [1, 2, 6, 24, 120]\n",
        "dp = dp[:N]\n",
        "neck = [1] * N\n",
        "while sum(biz):\n",
        "    for i in range(N):\n",
        "        if biz[i] == 0:\n",
        "            continue\n",
        "        biz[i] -= 1\n",
        "        neck[i] += 1\n",
        "        num = dp[-1] * (sum(neck) - ((neck[i] - 1) * 2))\n",
        "        if num <= 0:\n",
        "            print(biz, num, sum(neck) - ((neck[i] - 1) * 2))\n",
        "            biz = []\n",
        "            print(0)\n",
        "            break\n",
        "        dp.append(num)\n",
        "if biz != []:\n",
        "    print(dp[-1])"
      ]
    },
    {
      "cell_type": "markdown",
      "metadata": {
        "id": "ISyFB4FS_nM0"
      },
      "source": [
        "## 1339번 단어 수학"
      ]
    },
    {
      "cell_type": "markdown",
      "metadata": {
        "id": "fnkn3FvDbdxt"
      },
      "source": [
        "약간 풀다가 수렁에 빠짐\n",
        "\n",
        "아이디어는 맞으므로 일단 넘어감"
      ]
    },
    {
      "cell_type": "code",
      "execution_count": null,
      "metadata": {
        "colab": {
          "base_uri": "https://localhost:8080/"
        },
        "id": "wLPm_9IUNyHQ",
        "outputId": "a8926cc1-933a-4560-fa63-33ce15bdab85"
      },
      "outputs": [
        {
          "name": "stdout",
          "output_type": "stream",
          "text": [
            "2\n",
            "AB\n",
            "BA\n",
            "187\n"
          ]
        }
      ],
      "source": [
        "N = int(input())\n",
        "words = [input() for _ in range(N)]\n",
        "nums = {x : dict() for x in range(8)}\n",
        "\n",
        "for word in words:\n",
        "    for idx, w in enumerate(word[::-1]):\n",
        "        if w in nums[idx].keys():\n",
        "            nums[idx][w] += 1\n",
        "        else:\n",
        "            nums[idx][w] = 1\n",
        "word_num = dict()\n",
        "\n",
        "current = 9\n",
        "\n",
        "for idx in range(7, -1, -1):\n",
        "    tmp_list = list(nums[idx].items())\n",
        "    tmp_list = [x for x in tmp_list if x[0] not in word_num.keys()]\n",
        "    if len(tmp_list) > 0:\n",
        "        tmp_list.sort(key = lambda x: x[1])\n",
        "        max_val = [tmp_list[0][0]]\n",
        "        same_find = tmp_list[0][1]\n",
        "    else:\n",
        "        max_val = []\n",
        "    for w, cnt in tmp_list[1:]:\n",
        "        if cnt == same_find:\n",
        "            max_val.append(w)\n",
        "        else:\n",
        "            break\n",
        "    for tmp_idx in range(idx, -1, -1):\n",
        "        if len(max_val) == 1:\n",
        "            break\n",
        "        check = [(x, nums[tmp_idx][x]) for x in set(max_val).intersection(nums[tmp_idx].keys())]\n",
        "        check.sort(key = lambda x: x[1])\n",
        "        check_idx = len(check) - 1\n",
        "        while check_idx > 0:\n",
        "            if check[check_idx][1] < check[0][1]:\n",
        "                check.pop()\n",
        "            check_idx -= 1\n",
        "    if max_val != []:\n",
        "        for w in max_val:\n",
        "            word_num[w] = current\n",
        "            current -= 1\n",
        "\n",
        "new_words = []\n",
        "for word in words:\n",
        "    txt = ''\n",
        "    for w in word:\n",
        "        txt += str(word_num[w])\n",
        "    new_words.append(int(txt))\n",
        "print(sum(new_words))"
      ]
    },
    {
      "cell_type": "markdown",
      "metadata": {
        "id": "Pi0zzdWjcPEB"
      },
      "source": [
        "## 1353번 무한 수열2"
      ]
    },
    {
      "cell_type": "code",
      "execution_count": null,
      "metadata": {
        "colab": {
          "base_uri": "https://localhost:8080/"
        },
        "id": "HZpd8ZMYcSRq",
        "outputId": "e16498db-5843-4ef9-b47f-de9f5b1ca50b"
      },
      "outputs": [
        {
          "name": "stdout",
          "output_type": "stream",
          "text": [
            "123 45 67 8 9\n",
            "2\n"
          ]
        }
      ],
      "source": [
        "N, P, Q, X, Y = map(int, input().split())\n",
        "dp_arr = {0 : 1}\n",
        "\n",
        "def dp(i):\n",
        "    if i in dp_arr.keys():\n",
        "        return dp_arr[i]\n",
        "    left_seq = int(i / P) - X\n",
        "    right_seq = int(i / Q) - Y\n",
        "    if left_seq <= 0:\n",
        "        left_value = dp_arr[0]\n",
        "    else:\n",
        "        dp_arr[left_seq] = dp(left_seq)\n",
        "        left_value = dp_arr[left_seq]\n",
        "    if right_seq <= 0:\n",
        "        right_value = dp_arr[0]\n",
        "    else:\n",
        "        dp_arr[right_seq] = dp(right_seq)\n",
        "        right_value = dp_arr[right_seq]\n",
        "    dp_arr[i] = left_value + right_value\n",
        "    return dp_arr[i]\n",
        "\n",
        "print(dp(N))"
      ]
    },
    {
      "cell_type": "markdown",
      "metadata": {
        "id": "e2wpZMB8YEJi"
      },
      "source": [
        "# 2022.08.22"
      ]
    },
    {
      "cell_type": "markdown",
      "metadata": {
        "id": "-VT7gkn2YGgx"
      },
      "source": [
        "## 1423번 원숭이 키우기"
      ]
    },
    {
      "cell_type": "code",
      "execution_count": null,
      "metadata": {
        "colab": {
          "base_uri": "https://localhost:8080/"
        },
        "id": "1eE2JOd56CkF",
        "outputId": "b75ae2d9-1cad-4599-8d4c-6a556181c797"
      },
      "outputs": [
        {
          "name": "stdout",
          "output_type": "stream",
          "text": [
            "5\n",
            "1000 0 0 0 0\n",
            "0 100 10 1000 0\n",
            "8\n",
            "2200\n"
          ]
        }
      ],
      "source": [
        "import heapq\n",
        "from heapq import heappop, heappush\n",
        "\n",
        "max_level = int(input())\n",
        "cha = map(int, input().split())\n",
        "cha_dict = {x + 1 : y for x, y in enumerate(cha)}\n",
        "powers = [0] + list(map(int, input().split()))\n",
        "train_days = int(input())\n",
        "queue = []\n",
        "for i in range(1, max_level):\n",
        "    for j in range(i + 1, max_level + 1):\n",
        "        power = (powers[j] - powers[i]) / (j - i)\n",
        "        if power > 0:\n",
        "            heappush(queue, (-1 * power, i, j))\n",
        "while queue:\n",
        "    if train_days <= 0:\n",
        "        break\n",
        "    power, i, j = heappop(queue)\n",
        "    need_day = j - i\n",
        "    while cha_dict[i] > 0:\n",
        "        if train_days < need_day:\n",
        "            break\n",
        "        train_days -= need_day\n",
        "        cha_dict[i] -= 1\n",
        "        cha_dict[j] += 1\n",
        "\n",
        "result = 0\n",
        "for i in range(1, max_level + 1):\n",
        "    result += cha_dict[i] * powers[i]\n",
        "print(result)"
      ]
    },
    {
      "cell_type": "markdown",
      "metadata": {
        "id": "EZ3HEVFF2EMU"
      },
      "source": [
        "그리디를 통해 해결하려고 했으나 반례 존재\n",
        "\n",
        "2 => 4 로 레벨업 하는 것을 먼저 처리 한 뒤\n",
        "\n",
        "1 => 2 로 레벨업 하는 것을 처리하면 순서상으로 2 => 4는 갈 수가 없음\n",
        "\n",
        "DP를 통해 해결해야함\n",
        "\n",
        "이해안되니 패스"
      ]
    },
    {
      "cell_type": "markdown",
      "metadata": {
        "id": "fsAqLPwUokF5"
      },
      "source": [
        "## 1437번 수 분해"
      ]
    },
    {
      "cell_type": "markdown",
      "metadata": {
        "id": "lBs_6j0Xwn2a"
      },
      "source": [
        "그리디 + 수학\n",
        "\n",
        "맞추긴 했지만 시간이 너무 많이 걸림, 분석 필요"
      ]
    },
    {
      "cell_type": "code",
      "execution_count": null,
      "metadata": {
        "colab": {
          "base_uri": "https://localhost:8080/"
        },
        "id": "5Ru30pcPomPK",
        "outputId": "1019c710-2003-4cc9-c3c5-dbe3e1e1d4fa"
      },
      "outputs": [
        {
          "name": "stdout",
          "output_type": "stream",
          "text": [
            "7\n",
            "12\n"
          ]
        }
      ],
      "source": [
        "import math\n",
        "# 소수 판별\n",
        "def primenumber(x):\n",
        "    for i in range (2, int(math.sqrt(x) + 1)):\t# 2부터 x의 제곱근까지의 숫자\n",
        "        if x % i == 0:\t\t# 나눠떨어지는 숫자가 있으면 소수가 아님\n",
        "            return False\n",
        "    return True\t\t\t\t# 전부 나눠떨어지지 않는다면 소수임\n",
        "\n",
        "num = int(input())\n",
        "\n",
        "prime = set()\n",
        "for i in range(1, num + 1):\n",
        "    if primenumber(i) == True:\n",
        "        prime.add(i)\n",
        "\n",
        "dp = [i for i in range(num + 1)]\n",
        "if num == 0:\n",
        "    print(0)\n",
        "else:\n",
        "    for i in range(2, num + 1):\n",
        "        for j in range(i - 1, int((i - 1) / 2), -1):\n",
        "            if i - j in prime:\n",
        "                dp[i] = max(dp[i], dp[j] * dp[i - j])\n",
        "    print(dp[num] % 10007)\n"
      ]
    },
    {
      "cell_type": "markdown",
      "metadata": {
        "id": "PsIB_t1Jegty"
      },
      "source": [
        "# 2022.08.24"
      ]
    },
    {
      "cell_type": "markdown",
      "metadata": {
        "id": "6gaheK5uM5cc"
      },
      "source": [
        "## ★ 1477번 휴게소 세우기"
      ]
    },
    {
      "cell_type": "markdown",
      "metadata": {
        "id": "F0kGFCnABeNZ"
      },
      "source": [
        "아이디어가 안 떠올라서 구글 서칭함"
      ]
    },
    {
      "cell_type": "code",
      "execution_count": null,
      "metadata": {
        "id": "B8Z0tCYDsjjt"
      },
      "outputs": [],
      "source": [
        "from heapq import heappush, heappop\n",
        "\n",
        "N, M, L = map(int, input().split())\n"
      ]
    },
    {
      "cell_type": "markdown",
      "metadata": {
        "id": "NSoowU-ik61E"
      },
      "source": [
        "# 2022.11.23"
      ]
    },
    {
      "cell_type": "markdown",
      "metadata": {
        "id": "jiCuFLymk8Zn"
      },
      "source": [
        "## ★ 1504번 특정한 최단 경로"
      ]
    },
    {
      "cell_type": "markdown",
      "metadata": {
        "id": "zk2cZYDdlHC4"
      },
      "source": [
        "특정 알고리즘 이용하는 문제, 틀렸으나 접근법은 나쁘지 않았음\n",
        "다시 풀어볼 것"
      ]
    },
    {
      "cell_type": "markdown",
      "metadata": {
        "id": "8QC4PrnflLIR"
      },
      "source": [
        "## ★ 1563번 개근상 (DP 여전히 모르겠음)"
      ]
    },
    {
      "cell_type": "markdown",
      "metadata": {
        "id": "U1L-KzPouEMB"
      },
      "source": [
        "시도해 봤지만 실패, 답 봤으므로 다음엔 다시 도전하기\n",
        "\n",
        "첫 배열을 잘 만들어야 한다."
      ]
    },
    {
      "cell_type": "markdown",
      "metadata": {
        "id": "N9BvQY7qN1UM"
      },
      "source": [
        "# 2022.12.01"
      ]
    },
    {
      "cell_type": "markdown",
      "metadata": {
        "id": "lafDK-1vN2zy"
      },
      "source": [
        "## ★ 1633번 최고의 팀 만들기 (무한 입력)"
      ]
    },
    {
      "cell_type": "code",
      "execution_count": null,
      "metadata": {
        "id": "eKCVIm6EN-af"
      },
      "outputs": [],
      "source": [
        "import sys\n",
        "\n",
        "info = []\n",
        "for line in sys.stdin:\n",
        "    info.append([int(e) for e in line.split()])"
      ]
    },
    {
      "attachments": {},
      "cell_type": "markdown",
      "metadata": {},
      "source": [
        "# 2022.12.27"
      ]
    },
    {
      "attachments": {},
      "cell_type": "markdown",
      "metadata": {},
      "source": [
        "## ★ 1647번 도시 분할 계획 (크루스칼 구현 연습해보기)"
      ]
    },
    {
      "cell_type": "code",
      "execution_count": 1,
      "metadata": {},
      "outputs": [
        {
          "ename": "AttributeError",
          "evalue": "'function' object has no attribute 'split'",
          "output_type": "error",
          "traceback": [
            "\u001b[1;31m---------------------------------------------------------------------------\u001b[0m",
            "\u001b[1;31mAttributeError\u001b[0m                            Traceback (most recent call last)",
            "\u001b[1;32m~\\AppData\\Local\\Temp\\ipykernel_200232\\3806031827.py\u001b[0m in \u001b[0;36m<module>\u001b[1;34m\u001b[0m\n\u001b[0;32m      4\u001b[0m \u001b[1;33m\u001b[0m\u001b[0m\n\u001b[0;32m      5\u001b[0m \u001b[0mheap\u001b[0m \u001b[1;33m=\u001b[0m \u001b[1;33m[\u001b[0m\u001b[1;33m]\u001b[0m\u001b[1;33m\u001b[0m\u001b[1;33m\u001b[0m\u001b[0m\n\u001b[1;32m----> 6\u001b[1;33m \u001b[0mN\u001b[0m\u001b[1;33m,\u001b[0m \u001b[0mM\u001b[0m \u001b[1;33m=\u001b[0m \u001b[0mmap\u001b[0m\u001b[1;33m(\u001b[0m\u001b[0mint\u001b[0m\u001b[1;33m,\u001b[0m \u001b[0minput\u001b[0m\u001b[1;33m.\u001b[0m\u001b[0msplit\u001b[0m\u001b[1;33m(\u001b[0m\u001b[1;33m)\u001b[0m\u001b[1;33m)\u001b[0m\u001b[1;33m\u001b[0m\u001b[1;33m\u001b[0m\u001b[0m\n\u001b[0m\u001b[0;32m      7\u001b[0m \u001b[0mvisited\u001b[0m \u001b[1;33m=\u001b[0m \u001b[1;33m[\u001b[0m\u001b[1;32mFalse\u001b[0m\u001b[1;33m]\u001b[0m \u001b[1;33m*\u001b[0m \u001b[1;33m(\u001b[0m\u001b[0mN\u001b[0m \u001b[1;33m+\u001b[0m \u001b[1;36m1\u001b[0m\u001b[1;33m)\u001b[0m\u001b[1;33m\u001b[0m\u001b[1;33m\u001b[0m\u001b[0m\n\u001b[0;32m      8\u001b[0m \u001b[1;33m\u001b[0m\u001b[0m\n",
            "\u001b[1;31mAttributeError\u001b[0m: 'function' object has no attribute 'split'"
          ]
        }
      ],
      "source": [
        "# 최소 신장 트리 만들고, 제일 유지비 큰거 끊으면 끝\n",
        "# 이 방법은 시간 초과 난다\n",
        "# 다른 방법 사용해보기\n",
        "import sys\n",
        "from heapq import heappush, heappop\n",
        "\n",
        "heap = []\n",
        "N, M = map(int, input().split())\n",
        "visited = [False] * (N + 1)\n",
        "\n",
        "graph_dict = {\n",
        "    x : [] for x in range(1, N+1)\n",
        "}\n",
        "for _ in range(M):\n",
        "    x, y, dis = map(int, input().split())\n",
        "    graph_dict[x].append([dis, y])\n",
        "    graph_dict[y].append([dis, x])\n",
        "\n",
        "def visiting(x):\n",
        "    visited[x] = True\n",
        "    for edge in graph_dict[x]:\n",
        "        if visited[edge[1]] == False:\n",
        "            heappush(heap, edge)\n",
        "\n",
        "visiting(1)\n",
        "total_length = 0\n",
        "max_dis = 0\n",
        "while heap:\n",
        "    dis, x = heappop(heap)\n",
        "    if visited[x] == True:\n",
        "        continue\n",
        "    total_length += dis\n",
        "    max_dis = max(max_dis, dis)\n",
        "    visiting(x)\n",
        "total_length -= max_dis\n",
        "print(total_length)"
      ]
    },
    {
      "cell_type": "code",
      "execution_count": 7,
      "metadata": {},
      "outputs": [
        {
          "name": "stdout",
          "output_type": "stream",
          "text": [
            "1 [0, 1, 2, 2, 4, 5, 6, 7]\n",
            "1\n",
            "2 [0, 1, 2, 2, 4, 5, 4, 7]\n",
            "1\n",
            "4 [0, 1, 1, 1, 4, 5, 4, 7]\n",
            "2\n",
            "6 [0, 1, 1, 1, 1, 5, 1, 7]\n",
            "2\n",
            "8 [0, 1, 1, 1, 1, 1, 1, 7]\n",
            "2\n",
            "8 [0, 1, 1, 1, 1, 1, 1, 7]\n",
            "2\n",
            "8 [0, 1, 1, 1, 1, 1, 1, 7]\n",
            "2\n",
            "8 [0, 1, 1, 1, 1, 1, 1, 7]\n",
            "2\n",
            "8 [0, 1, 1, 1, 1, 1, 1, 7]\n",
            "2\n",
            "12 [0, 1, 1, 1, 1, 1, 1, 1]\n",
            "4\n",
            "12 [0, 1, 1, 1, 1, 1, 1, 1]\n",
            "4\n",
            "12 [0, 1, 1, 1, 1, 1, 1, 1]\n",
            "4\n",
            "8\n"
          ]
        }
      ],
      "source": [
        "# 크루스칼 알고리즘\n",
        "\n",
        "import sys\n",
        "\n",
        "N, M = map(int, input().split())\n",
        "# N, M = 7, 12\n",
        "parents = [x for x in range(N + 1)]\n",
        "edges = []\n",
        "\n",
        "def Union(x, y, dis):\n",
        "    if parents[x] == parents[y]:\n",
        "        return 0\n",
        "    else:\n",
        "        for idx, parent in enumerate(parents):\n",
        "            if parent == parents[y]:\n",
        "                parents[idx] = parents[x]\n",
        "        return dis\n",
        "# tmp = [[1, 2, 3],\n",
        "# [1, 3, 2],\n",
        "# [3, 2, 1],\n",
        "# [2, 5, 2],\n",
        "# [3, 4, 4],\n",
        "# [7, 3, 6],\n",
        "# [5, 1, 5],\n",
        "# [1, 6, 2],\n",
        "# [6, 4, 1],\n",
        "# [6, 5, 3],\n",
        "# [4, 5, 3],\n",
        "# [6, 7, 4]]\n",
        "# for x, y, dis in tmp:\n",
        "for _ in range(M):\n",
        "    x, y, dis = map(int, input().split())\n",
        "    x, y = min(x, y), max(x, y)\n",
        "    edges.append([dis, x, y])\n",
        "edges.sort()\n",
        "\n",
        "result = 0\n",
        "max_edge = 0\n",
        "for edge in edges:\n",
        "    dis, x, y = edge\n",
        "    new_dis = Union(x, y, dis)\n",
        "    result += new_dis\n",
        "    # print(result, parents)\n",
        "    max_edge = max(new_dis, max_edge)\n",
        "    # print(max_edge)\n",
        "print(result-max_edge)"
      ]
    },
    {
      "cell_type": "code",
      "execution_count": null,
      "metadata": {},
      "outputs": [],
      "source": [
        "def find_parent(x):\n",
        "    if parent[x] != x:\n",
        "        parent[x] = find_parent(parent[x])\n",
        "    return parent[x]\n",
        "\n",
        "\n",
        "def union_parent(a, b):\n",
        "    a = find_parent(a)\n",
        "    b = find_parent(b)\n",
        "    if a < b:\n",
        "        parent[b] = a\n",
        "    else:\n",
        "        parent[a] = b\n",
        "\n",
        "\n",
        "if __name__ == \"__main__\":\n",
        "    n, m = map(int, input().split())  # 집의 개수, 길의 개수 입력받기\n",
        "    graph = []\n",
        "    for _ in range(m):  # 길 입력받기\n",
        "        a, b, c = map(int, input().split())\n",
        "        graph.append([c, a, b])\n",
        "\n",
        "    parent = [0] * (n + 1)\n",
        "    for i in range(1, n + 1):\n",
        "        parent[i] = i\n",
        "\n",
        "    # 간선 정렬\n",
        "    graph.sort()\n",
        "\n",
        "    # 크루스칼 수행\n",
        "    selected = []  # 선택된 간선\n",
        "\n",
        "    answer = 0\n",
        "    for c, a, b in graph:\n",
        "        if find_parent(a) != find_parent(b):\n",
        "            union_parent(a, b)\n",
        "            answer += c\n",
        "            selected.append(c)\n",
        "\n",
        "    # 마을을 두개로 분리하기 위해서 마지막 간선 제거\n",
        "    answer -= selected.pop()\n",
        "\n",
        "    # 출력\n",
        "    print(answer)"
      ]
    },
    {
      "attachments": {},
      "cell_type": "markdown",
      "metadata": {},
      "source": [
        "## 1689번 겹치는 선분"
      ]
    },
    {
      "attachments": {},
      "cell_type": "markdown",
      "metadata": {},
      "source": [
        "맞추긴 했으나 아직 부족함 여러번 시도하고 코드도 살작 배끼면서 맞춤"
      ]
    },
    {
      "cell_type": "code",
      "execution_count": 14,
      "metadata": {},
      "outputs": [
        {
          "name": "stdout",
          "output_type": "stream",
          "text": [
            "[[12, 15], [9, 14], [7, 8], [6, 10], [5, 6], [2, 5], [0, 5], [-1, 4], [-3, 6], [-10, 11], [-13, 16]]\n",
            "-10 [11, 16]\n",
            "-3 [6, 16, 11]\n",
            "-1 [4, 6, 11, 16]\n",
            "0 [4, 5, 11, 16, 6]\n",
            "2 [4, 5, 5, 16, 6, 11]\n",
            "5 [6, 6, 11, 16]\n",
            "6 [10, 16, 11]\n",
            "7 [8, 10, 11, 16]\n",
            "9 [10, 14, 11, 16]\n",
            "12 [14, 16, 15]\n",
            "6\n"
          ]
        }
      ],
      "source": [
        "from collections import deque\n",
        "import heapq\n",
        "\n",
        "# N = 11\n",
        "# lines = [\n",
        "# [-1, 4],\n",
        "# [-3, 6],\n",
        "# [7, 8],\n",
        "# [-10, 11],\n",
        "# [-13, 16],\n",
        "# [0, 5],\n",
        "# [5, 6],\n",
        "# [2, 5],\n",
        "# [6, 10],\n",
        "# [9, 14],\n",
        "# [12, 15]\n",
        "# ]\n",
        "# lines.sort(key=lambda x: x[1], reverse=True)\n",
        "# lines.sort(reverse=True)\n",
        "# print(lines)\n",
        "\n",
        "\n",
        "\n",
        "N = int(input())\n",
        "\n",
        "\n",
        "lines = []\n",
        "for _ in range(N):\n",
        "    lines.append(list(map(int, input().split())))\n",
        "lines.sort()\n",
        "\n",
        "s, e = lines[0]\n",
        "heap = []\n",
        "heapq.heappush(heap, e)\n",
        "result = 1\n",
        "for line in lines[1:]:\n",
        "    new_s, e = line\n",
        "    while heap:\n",
        "        if heap[0] <= new_s:\n",
        "            heapq.heappop(heap)\n",
        "        else:\n",
        "            break\n",
        "    heapq.heappush(heap, e)\n",
        "    result = max(len(heap), result)\n",
        "    s = new_s\n",
        "    # print(new_s, heap)\n",
        "# result = max(len(heap), result)\n",
        "print(result)"
      ]
    },
    {
      "attachments": {},
      "cell_type": "markdown",
      "metadata": {},
      "source": [
        "# 2023.01.09"
      ]
    },
    {
      "attachments": {},
      "cell_type": "markdown",
      "metadata": {},
      "source": [
        "## ★ 1695번 팰린드롬 만들기 (dp)"
      ]
    },
    {
      "cell_type": "code",
      "execution_count": null,
      "metadata": {},
      "outputs": [],
      "source": []
    }
  ],
  "metadata": {
    "colab": {
      "authorship_tag": "ABX9TyMzZik6Mp9eRwpw4Z0MFyOz",
      "collapsed_sections": [
        "z6Z4RJmwSXwy",
        "4gYYfhW1DvFD",
        "ShpZ1XorfmLq",
        "RefSV7NJG_5x",
        "-pw0alpNZqaB",
        "Sl8kLI-wi0Z2",
        "LV56pCX0Di0K",
        "MWO0PNseStDw",
        "fXNj4S8ElULO",
        "vUmb5JsJF1Sy",
        "VagvdFJ7pedN",
        "Edf1GsGMrqNI",
        "v3Odonr9i-6h",
        "9HQKeX1R3sU7",
        "BRZT6I9Sukg4",
        "y3xeuRUh-jME",
        "k_SacsjgJGFR",
        "Yp-9mCpnR67D",
        "kS-qeZ_3rSfQ",
        "Jly2CfSRT4aF",
        "vIcwSNwqzAuv",
        "IuZNwK8p8j2f",
        "twJoKRwc9YEp",
        "xDlZtw2JzeSl",
        "JiYogDHaGVL3",
        "uFmHRQ0bGO4-",
        "VO9DCbsuXRk4",
        "GoaTbmsTb2Aq",
        "TGDyuGTuMQZD",
        "0lL6GVfkMRyN",
        "wjxA2moUqyCg",
        "WGJgc1alq0Ts",
        "AO_9-HFvDozI",
        "PjpmbV-QTW-_",
        "g5-UbIZib76I",
        "4KhZ7O_QpjF9"
      ],
      "include_colab_link": true,
      "provenance": [],
      "toc_visible": true
    },
    "kernelspec": {
      "display_name": "base",
      "language": "python",
      "name": "python3"
    },
    "language_info": {
      "codemirror_mode": {
        "name": "ipython",
        "version": 3
      },
      "file_extension": ".py",
      "mimetype": "text/x-python",
      "name": "python",
      "nbconvert_exporter": "python",
      "pygments_lexer": "ipython3",
      "version": "3.9.12 (main, Apr  4 2022, 05:22:27) [MSC v.1916 64 bit (AMD64)]"
    },
    "vscode": {
      "interpreter": {
        "hash": "ad2bdc8ecc057115af97d19610ffacc2b4e99fae6737bb82f5d7fb13d2f2c186"
      }
    }
  },
  "nbformat": 4,
  "nbformat_minor": 0
}
