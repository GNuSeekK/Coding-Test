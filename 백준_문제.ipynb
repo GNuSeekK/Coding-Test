{
  "nbformat": 4,
  "nbformat_minor": 0,
  "metadata": {
    "colab": {
      "name": "백준 문제.ipynb",
      "provenance": [],
      "collapsed_sections": [],
      "toc_visible": true,
      "authorship_tag": "ABX9TyMflQ7I1oCbrTuTQmQrbi5W",
      "include_colab_link": true
    },
    "kernelspec": {
      "name": "python3",
      "display_name": "Python 3"
    },
    "language_info": {
      "name": "python"
    }
  },
  "cells": [
    {
      "cell_type": "markdown",
      "metadata": {
        "id": "view-in-github",
        "colab_type": "text"
      },
      "source": [
        "<a href=\"https://colab.research.google.com/github/GNuSeekK/Coding-Test/blob/main/%EB%B0%B1%EC%A4%80_%EB%AC%B8%EC%A0%9C.ipynb\" target=\"_parent\"><img src=\"https://colab.research.google.com/assets/colab-badge.svg\" alt=\"Open In Colab\"/></a>"
      ]
    },
    {
      "cell_type": "markdown",
      "source": [
        "# 1011번 Fly me to the Alpha Centauri(그리디)"
      ],
      "metadata": {
        "id": "hgvkhja7MfEI"
      }
    },
    {
      "cell_type": "code",
      "execution_count": null,
      "metadata": {
        "colab": {
          "base_uri": "https://localhost:8080/"
        },
        "id": "eUtpmwAbKBXc",
        "outputId": "71ebbdb5-76f0-4ac8-8b1b-2ceb7cdda8f8"
      },
      "outputs": [
        {
          "output_type": "stream",
          "name": "stdout",
          "text": [
            "2\n",
            "0 2\n",
            "2\n",
            "0 3\n",
            "3\n"
          ]
        }
      ],
      "source": [
        "import sys\n",
        "\n",
        "T = int(input())\n",
        "test_list = []\n",
        "\n",
        "for _ in range(T):\n",
        "    x, y = map(int, input().split())\n",
        "    dis = y - x\n",
        "    n = int((dis)**0.5)\n",
        "    if dis > n * (n+1):\n",
        "        rep = 2 * n + 1\n",
        "    else:\n",
        "        rep = 2 * n\n",
        "    print(rep)"
      ]
    },
    {
      "cell_type": "markdown",
      "source": [
        "# 1013번 Contact"
      ],
      "metadata": {
        "id": "z6Z4RJmwSXwy"
      }
    },
    {
      "cell_type": "code",
      "source": [
        "import sys\n",
        "T = int(input())\n",
        "\n",
        "def pattern(text):\n",
        "    print(text)\n",
        "    try:\n",
        "        if text[0] == \"0\": # 2번패턴\n",
        "            if text[1] == \"1\" and len(text) == 2:\n",
        "                print(\"YES\")\n",
        "            elif text[1] == \"1\" and len(text) > 2:\n",
        "                return pattern(text[2:])\n",
        "            else:\n",
        "                print(\"NO\")\n",
        "        else: # 1번패턴\n",
        "            one_index = text[1:].find('1')\n",
        "            if one_index < 2:\n",
        "                print(\"NO\")\n",
        "                return None\n",
        "            zero_index = text[one_index+1:].find('0')\n",
        "            if zero_index == -1:\n",
        "                print(\"YES\")\n",
        "                return None\n",
        "            elif zero_index == 1:\n",
        "                return pattern(text[one_index + zero_index + 1:])\n",
        "            else:\n",
        "                return pattern(text[one_index + zero_index:])\n",
        "    except:\n",
        "        print(\"NO\")\n",
        "    \n",
        "for i in range(T):\n",
        "    pattern(input())\n",
        "\n",
        "10011111/01/1\n",
        "1001111/1001/1/\n"
      ],
      "metadata": {
        "colab": {
          "base_uri": "https://localhost:8080/",
          "height": 1000
        },
        "id": "XOOQkUmxfg8g",
        "outputId": "8d6e735b-70f7-42de-aea0-e9dec50ea28c"
      },
      "execution_count": null,
      "outputs": [
        {
          "output_type": "stream",
          "name": "stdout",
          "text": [
            "20\n",
            "11\n",
            "11\n",
            "NO\n",
            "111\n",
            "111\n",
            "NO\n",
            "1110\n",
            "1110\n",
            "NO\n",
            "100011\n",
            "100011\n",
            "YES\n",
            "100011001\n",
            "100011001\n",
            "1001\n",
            "YES\n",
            "10000101\n",
            "10000101\n",
            "01\n",
            "YES\n",
            "0101000\n",
            "0101000\n",
            "01000\n",
            "000\n",
            "NO\n",
            "010110000101100111001\n",
            "010110000101100111001\n",
            "0110000101100111001\n",
            "10000101100111001\n",
            "01100111001\n",
            "100111001\n",
            "1001\n",
            "YES\n",
            "101\n",
            "101\n",
            "NO\n",
            "100000110\n",
            "100000110\n",
            "10\n",
            "NO\n",
            "1000000011001\n",
            "1000000011001\n",
            "1001\n",
            "YES\n",
            "10000000101\n",
            "10000000101\n",
            "01\n",
            "YES\n",
            "101111\n",
            "101111\n",
            "NO\n",
            "100111\n",
            "100111\n",
            "YES\n",
            "101010\n",
            "101010\n",
            "NO\n",
            "100001101\n",
            "100001101\n",
            "101\n",
            "NO\n",
            "10000001\n",
            "10000001\n",
            "YES\n",
            "10000001110001\n",
            "10000001110001\n",
            "10001\n",
            "YES\n",
            "10000000011101\n",
            "10000000011101\n",
            "101\n",
            "NO\n"
          ]
        },
        {
          "output_type": "error",
          "ename": "KeyboardInterrupt",
          "evalue": "ignored",
          "traceback": [
            "\u001b[0;31m---------------------------------------------------------------------------\u001b[0m",
            "\u001b[0;31mKeyboardInterrupt\u001b[0m                         Traceback (most recent call last)",
            "\u001b[0;32m/usr/local/lib/python3.7/dist-packages/ipykernel/kernelbase.py\u001b[0m in \u001b[0;36m_input_request\u001b[0;34m(self, prompt, ident, parent, password)\u001b[0m\n\u001b[1;32m    728\u001b[0m             \u001b[0;32mtry\u001b[0m\u001b[0;34m:\u001b[0m\u001b[0;34m\u001b[0m\u001b[0;34m\u001b[0m\u001b[0m\n\u001b[0;32m--> 729\u001b[0;31m                 \u001b[0mident\u001b[0m\u001b[0;34m,\u001b[0m \u001b[0mreply\u001b[0m \u001b[0;34m=\u001b[0m \u001b[0mself\u001b[0m\u001b[0;34m.\u001b[0m\u001b[0msession\u001b[0m\u001b[0;34m.\u001b[0m\u001b[0mrecv\u001b[0m\u001b[0;34m(\u001b[0m\u001b[0mself\u001b[0m\u001b[0;34m.\u001b[0m\u001b[0mstdin_socket\u001b[0m\u001b[0;34m,\u001b[0m \u001b[0;36m0\u001b[0m\u001b[0;34m)\u001b[0m\u001b[0;34m\u001b[0m\u001b[0;34m\u001b[0m\u001b[0m\n\u001b[0m\u001b[1;32m    730\u001b[0m             \u001b[0;32mexcept\u001b[0m \u001b[0mException\u001b[0m\u001b[0;34m:\u001b[0m\u001b[0;34m\u001b[0m\u001b[0;34m\u001b[0m\u001b[0m\n",
            "\u001b[0;32m/usr/local/lib/python3.7/dist-packages/jupyter_client/session.py\u001b[0m in \u001b[0;36mrecv\u001b[0;34m(self, socket, mode, content, copy)\u001b[0m\n\u001b[1;32m    802\u001b[0m         \u001b[0;32mtry\u001b[0m\u001b[0;34m:\u001b[0m\u001b[0;34m\u001b[0m\u001b[0;34m\u001b[0m\u001b[0m\n\u001b[0;32m--> 803\u001b[0;31m             \u001b[0mmsg_list\u001b[0m \u001b[0;34m=\u001b[0m \u001b[0msocket\u001b[0m\u001b[0;34m.\u001b[0m\u001b[0mrecv_multipart\u001b[0m\u001b[0;34m(\u001b[0m\u001b[0mmode\u001b[0m\u001b[0;34m,\u001b[0m \u001b[0mcopy\u001b[0m\u001b[0;34m=\u001b[0m\u001b[0mcopy\u001b[0m\u001b[0;34m)\u001b[0m\u001b[0;34m\u001b[0m\u001b[0;34m\u001b[0m\u001b[0m\n\u001b[0m\u001b[1;32m    804\u001b[0m         \u001b[0;32mexcept\u001b[0m \u001b[0mzmq\u001b[0m\u001b[0;34m.\u001b[0m\u001b[0mZMQError\u001b[0m \u001b[0;32mas\u001b[0m \u001b[0me\u001b[0m\u001b[0;34m:\u001b[0m\u001b[0;34m\u001b[0m\u001b[0;34m\u001b[0m\u001b[0m\n",
            "\u001b[0;32m/usr/local/lib/python3.7/dist-packages/zmq/sugar/socket.py\u001b[0m in \u001b[0;36mrecv_multipart\u001b[0;34m(self, flags, copy, track)\u001b[0m\n\u001b[1;32m    726\u001b[0m         \"\"\"\n\u001b[0;32m--> 727\u001b[0;31m         \u001b[0mparts\u001b[0m \u001b[0;34m=\u001b[0m \u001b[0;34m[\u001b[0m\u001b[0mself\u001b[0m\u001b[0;34m.\u001b[0m\u001b[0mrecv\u001b[0m\u001b[0;34m(\u001b[0m\u001b[0mflags\u001b[0m\u001b[0;34m,\u001b[0m \u001b[0mcopy\u001b[0m\u001b[0;34m=\u001b[0m\u001b[0mcopy\u001b[0m\u001b[0;34m,\u001b[0m \u001b[0mtrack\u001b[0m\u001b[0;34m=\u001b[0m\u001b[0mtrack\u001b[0m\u001b[0;34m)\u001b[0m\u001b[0;34m]\u001b[0m\u001b[0;34m\u001b[0m\u001b[0;34m\u001b[0m\u001b[0m\n\u001b[0m\u001b[1;32m    728\u001b[0m         \u001b[0;31m# have first part already, only loop while more to receive\u001b[0m\u001b[0;34m\u001b[0m\u001b[0;34m\u001b[0m\u001b[0;34m\u001b[0m\u001b[0m\n",
            "\u001b[0;32mzmq/backend/cython/socket.pyx\u001b[0m in \u001b[0;36mzmq.backend.cython.socket.Socket.recv\u001b[0;34m()\u001b[0m\n",
            "\u001b[0;32mzmq/backend/cython/socket.pyx\u001b[0m in \u001b[0;36mzmq.backend.cython.socket.Socket.recv\u001b[0;34m()\u001b[0m\n",
            "\u001b[0;32mzmq/backend/cython/socket.pyx\u001b[0m in \u001b[0;36mzmq.backend.cython.socket._recv_copy\u001b[0;34m()\u001b[0m\n",
            "\u001b[0;32m/usr/local/lib/python3.7/dist-packages/zmq/backend/cython/checkrc.pxd\u001b[0m in \u001b[0;36mzmq.backend.cython.checkrc._check_rc\u001b[0;34m()\u001b[0m\n",
            "\u001b[0;31mKeyboardInterrupt\u001b[0m: ",
            "\nDuring handling of the above exception, another exception occurred:\n",
            "\u001b[0;31mKeyboardInterrupt\u001b[0m                         Traceback (most recent call last)",
            "\u001b[0;32m<ipython-input-86-fbaf9d376153>\u001b[0m in \u001b[0;36m<module>\u001b[0;34m()\u001b[0m\n\u001b[1;32m     29\u001b[0m \u001b[0;34m\u001b[0m\u001b[0m\n\u001b[1;32m     30\u001b[0m \u001b[0;32mfor\u001b[0m \u001b[0mi\u001b[0m \u001b[0;32min\u001b[0m \u001b[0mrange\u001b[0m\u001b[0;34m(\u001b[0m\u001b[0mT\u001b[0m\u001b[0;34m)\u001b[0m\u001b[0;34m:\u001b[0m\u001b[0;34m\u001b[0m\u001b[0;34m\u001b[0m\u001b[0m\n\u001b[0;32m---> 31\u001b[0;31m     \u001b[0mpattern\u001b[0m\u001b[0;34m(\u001b[0m\u001b[0minput\u001b[0m\u001b[0;34m(\u001b[0m\u001b[0;34m)\u001b[0m\u001b[0;34m)\u001b[0m\u001b[0;34m\u001b[0m\u001b[0;34m\u001b[0m\u001b[0m\n\u001b[0m",
            "\u001b[0;32m/usr/local/lib/python3.7/dist-packages/ipykernel/kernelbase.py\u001b[0m in \u001b[0;36mraw_input\u001b[0;34m(self, prompt)\u001b[0m\n\u001b[1;32m    702\u001b[0m             \u001b[0mself\u001b[0m\u001b[0;34m.\u001b[0m\u001b[0m_parent_ident\u001b[0m\u001b[0;34m,\u001b[0m\u001b[0;34m\u001b[0m\u001b[0;34m\u001b[0m\u001b[0m\n\u001b[1;32m    703\u001b[0m             \u001b[0mself\u001b[0m\u001b[0;34m.\u001b[0m\u001b[0m_parent_header\u001b[0m\u001b[0;34m,\u001b[0m\u001b[0;34m\u001b[0m\u001b[0;34m\u001b[0m\u001b[0m\n\u001b[0;32m--> 704\u001b[0;31m             \u001b[0mpassword\u001b[0m\u001b[0;34m=\u001b[0m\u001b[0;32mFalse\u001b[0m\u001b[0;34m,\u001b[0m\u001b[0;34m\u001b[0m\u001b[0;34m\u001b[0m\u001b[0m\n\u001b[0m\u001b[1;32m    705\u001b[0m         )\n\u001b[1;32m    706\u001b[0m \u001b[0;34m\u001b[0m\u001b[0m\n",
            "\u001b[0;32m/usr/local/lib/python3.7/dist-packages/ipykernel/kernelbase.py\u001b[0m in \u001b[0;36m_input_request\u001b[0;34m(self, prompt, ident, parent, password)\u001b[0m\n\u001b[1;32m    732\u001b[0m             \u001b[0;32mexcept\u001b[0m \u001b[0mKeyboardInterrupt\u001b[0m\u001b[0;34m:\u001b[0m\u001b[0;34m\u001b[0m\u001b[0;34m\u001b[0m\u001b[0m\n\u001b[1;32m    733\u001b[0m                 \u001b[0;31m# re-raise KeyboardInterrupt, to truncate traceback\u001b[0m\u001b[0;34m\u001b[0m\u001b[0;34m\u001b[0m\u001b[0;34m\u001b[0m\u001b[0m\n\u001b[0;32m--> 734\u001b[0;31m                 \u001b[0;32mraise\u001b[0m \u001b[0mKeyboardInterrupt\u001b[0m\u001b[0;34m\u001b[0m\u001b[0;34m\u001b[0m\u001b[0m\n\u001b[0m\u001b[1;32m    735\u001b[0m             \u001b[0;32melse\u001b[0m\u001b[0;34m:\u001b[0m\u001b[0;34m\u001b[0m\u001b[0;34m\u001b[0m\u001b[0m\n\u001b[1;32m    736\u001b[0m                 \u001b[0;32mbreak\u001b[0m\u001b[0;34m\u001b[0m\u001b[0;34m\u001b[0m\u001b[0m\n",
            "\u001b[0;31mKeyboardInterrupt\u001b[0m: "
          ]
        }
      ]
    },
    {
      "cell_type": "markdown",
      "source": [
        "# 2022.06.22"
      ],
      "metadata": {
        "id": "4gYYfhW1DvFD"
      }
    },
    {
      "cell_type": "markdown",
      "source": [
        "## 1025번 제곱수 찾기\n"
      ],
      "metadata": {
        "id": "ShpZ1XorfmLq"
      }
    },
    {
      "cell_type": "markdown",
      "source": [
        "> 다시 풀어보기(구현)"
      ],
      "metadata": {
        "id": "GcfEPdTID9bq"
      }
    },
    {
      "cell_type": "code",
      "source": [
        ""
      ],
      "metadata": {
        "id": "dylLfvSc6y1p"
      },
      "execution_count": null,
      "outputs": []
    },
    {
      "cell_type": "markdown",
      "source": [
        "## 1038번 감소하는 수"
      ],
      "metadata": {
        "id": "RefSV7NJG_5x"
      }
    },
    {
      "cell_type": "code",
      "source": [
        "N = int(input())\n",
        "from itertools import combinations\n",
        "\n",
        "numbers = []\n",
        "for i in range(1,11):\n",
        "    comb = list(combinations(['0', '1', '2', '3', '4', '5', '6', '7', '8', '9'],i))\n",
        "    for data in comb:\n",
        "        numbers.append(int(''.join(sorted(data, reverse = True))))\n",
        "numbers = sorted(list(set(numbers)))\n",
        "\n",
        "if N >= len(numbers):\n",
        "    print('-1')\n",
        "else:\n",
        "    print(numbers[N])"
      ],
      "metadata": {
        "colab": {
          "base_uri": "https://localhost:8080/"
        },
        "id": "JzyDDk79D5t2",
        "outputId": "116d249f-36fb-47f9-cad8-30538166a4e1"
      },
      "execution_count": null,
      "outputs": [
        {
          "output_type": "stream",
          "name": "stdout",
          "text": [
            "5000\n",
            "-1\n"
          ]
        }
      ]
    },
    {
      "cell_type": "markdown",
      "source": [
        "## 1041번 주사위"
      ],
      "metadata": {
        "id": "-pw0alpNZqaB"
      }
    },
    {
      "cell_type": "code",
      "source": [
        "from itertools import combinations\n",
        "N = int(input())\n",
        "dice = list(map(int, input().split()))\n",
        "if N == 1:\n",
        "    print(sum(dice) - max(dice))\n",
        "else:\n",
        "    comb2 = list(combinations([0,1,2,3,4,5],2))\n",
        "    # comb2 = [x for x in comb2 if ((0 and 5) or (1 and 4) or (2 and 3)) not in x]\n",
        "    new_comb2 = []\n",
        "    for x in comb2:\n",
        "        if 0 in x and 5 in x:\n",
        "            continue\n",
        "        if 1 in x and 4 in x:\n",
        "            continue\n",
        "        if 2 in x and 3 in x:\n",
        "            continue\n",
        "        new_comb2.append(x)\n",
        "    comb3 = list(combinations([0,1,2,3,4,5],3))\n",
        "    # comb3 = [x for x in comb3 if ((0 and 5) or (1 and 4) or (2 and 3)) not in x]\n",
        "    new_comb3 = []\n",
        "    for x in comb3:\n",
        "        if 0 in x and 5 in x:\n",
        "            continue\n",
        "        if 1 in x and 4 in x:\n",
        "            continue\n",
        "        if 2 in x and 3 in x:\n",
        "            continue\n",
        "        new_comb3.append(x)\n",
        "    new_comb2 = [sum([dice[x[0]], dice[x[1]]]) for기x in new_comb2]\n",
        "    new_comb3 = [sum([dice[x[0]], dice[x[1]], dice[x[2]]]) for x in new_comb3]\n",
        "    min_2sum = min(new_comb2) \n",
        "    min_3sum = min(new_comb3)\n",
        "\n",
        "    result = 0\n",
        "    # 숫자 한개만 보이는 주사위의 갯수\n",
        "    # (N-1) * (N-2) * 4 + (N-2) * (N-2)\n",
        "    result += ((5 * N - 6) * (N-2)) * min(dice)\n",
        "    # 숫자 2개 보이는 주사위의 갯수\n",
        "    # (N-1) * 4 + (N-2) * 4\n",
        "    result += ((2 * N - 3) * 4) * min_2sum\n",
        "    # 숫자 3개 보이는 주사위의 갯수\n",
        "    result += 4 * min_3sum\n",
        "\n",
        "    print(result)"
      ],
      "metadata": {
        "colab": {
          "base_uri": "https://localhost:8080/"
        },
        "id": "PJUrxjKQZtsn",
        "outputId": "792d92c5-39d7-45e9-971b-bb33ab353021"
      },
      "execution_count": null,
      "outputs": [
        {
          "output_type": "stream",
          "name": "stdout",
          "text": [
            "1\n",
            "1 2 3 4 5 6\n",
            "15\n"
          ]
        }
      ]
    },
    {
      "cell_type": "markdown",
      "source": [
        "> 다른 사람의 코드에서 착안점\n",
        "\n",
        "* 주사위의 양 면이 같이 나올 수 없다는 것을 이용\n",
        "* 두개씩 하나의 집합으로 하여 작은 숫자만 선택해 최고의 조합 찾기"
      ],
      "metadata": {
        "id": "cpbaIvRcDNBS"
      }
    },
    {
      "cell_type": "markdown",
      "source": [
        "# 2022.06.24"
      ],
      "metadata": {
        "id": "Sl8kLI-wi0Z2"
      }
    },
    {
      "cell_type": "markdown",
      "source": [
        "## 1068번 트리"
      ],
      "metadata": {
        "id": "LV56pCX0Di0K"
      }
    },
    {
      "cell_type": "code",
      "source": [
        "from collections import deque\n",
        "\n",
        "queue = deque()\n",
        "\n",
        "N = int(input())\n",
        "\n",
        "tree = [[] for _ in range(N)]\n",
        "state = [True] * N\n",
        "parents = list(map(int, input().split()))\n",
        "for idx, parent in enumerate(parents):\n",
        "    if parent != -1:\n",
        "        tree[parent].append(idx)\n",
        "\n",
        "del_node = int(input())\n",
        "queue.append(del_node)\n",
        "while queue:\n",
        "    node = queue.popleft()\n",
        "    state[node] = False\n",
        "    if node in tree[parents[node]]:\n",
        "        tree[parents[node]].remove(node)\n",
        "    for leaf in tree[node]:\n",
        "        if state[leaf] == True:\n",
        "            queue.append(leaf)\n",
        "        \n",
        "\n",
        "result = 0\n",
        "for i in range(N):\n",
        "    if state[i] == True and len(tree[i]) == 0:\n",
        "        result += 1\n",
        "\n",
        "print(result)"
      ],
      "metadata": {
        "id": "-Camf1GMDlQg",
        "colab": {
          "base_uri": "https://localhost:8080/"
        },
        "outputId": "ba35b9ea-c3d0-492c-a79c-47d0e2fb2ac8"
      },
      "execution_count": 19,
      "outputs": [
        {
          "output_type": "stream",
          "name": "stdout",
          "text": [
            "4\n",
            "-1 0 1 2\n",
            "2\n",
            "1\n"
          ]
        }
      ]
    },
    {
      "cell_type": "markdown",
      "source": [
        "## 1083번 소트"
      ],
      "metadata": {
        "id": "MWO0PNseStDw"
      }
    },
    {
      "cell_type": "code",
      "source": [
        "N = int(input())\n",
        "arr = list(map(int, input().split()))\n",
        "S = int(input())\n",
        "\n",
        "now = 0\n",
        "while S > 0:\n",
        "    if now >= N:\n",
        "        break\n",
        "    if S >= N - now:\n",
        "        idx = arr.index(max(arr[now:]))\n",
        "        num = arr.pop(idx)\n",
        "        arr.insert(now, num)\n",
        "        S -= idx - now\n",
        "        now += 1\n",
        "    else:\n",
        "        idx = arr.index(max(arr[now : now + min(N - now, S + 1)]))\n",
        "        if S >= idx - now:\n",
        "            num = arr.pop(idx)\n",
        "            arr.insert(now, num)\n",
        "            S -= idx - now\n",
        "        now += 1        \n",
        "\n",
        "print(' '.join(map(str, arr)))"
      ],
      "metadata": {
        "colab": {
          "base_uri": "https://localhost:8080/"
        },
        "id": "Vb7u03EBSxUk",
        "outputId": "a1eede6f-a4f6-4f8c-b33f-3cec8b55afb6"
      },
      "execution_count": 53,
      "outputs": [
        {
          "output_type": "stream",
          "name": "stdout",
          "text": [
            "7\n",
            "10 20 30 40 50 60 70\n",
            "1\n",
            "20 10 30 40 50 60 70\n"
          ]
        }
      ]
    }
  ]
}