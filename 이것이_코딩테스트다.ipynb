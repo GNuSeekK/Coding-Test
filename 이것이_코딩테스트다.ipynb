{
  "nbformat": 4,
  "nbformat_minor": 0,
  "metadata": {
    "colab": {
      "name": "이것이 코딩테스트다.ipynb",
      "provenance": [],
      "collapsed_sections": [],
      "toc_visible": true,
      "authorship_tag": "ABX9TyMWrKXDM6GLdTEor5xuk2Ch",
      "include_colab_link": true
    },
    "kernelspec": {
      "name": "python3",
      "display_name": "Python 3"
    },
    "language_info": {
      "name": "python"
    }
  },
  "cells": [
    {
      "cell_type": "markdown",
      "metadata": {
        "id": "view-in-github",
        "colab_type": "text"
      },
      "source": [
        "<a href=\"https://colab.research.google.com/github/GNuSeekK/Coding-Test/blob/main/%EC%9D%B4%EA%B2%83%EC%9D%B4_%EC%BD%94%EB%94%A9%ED%85%8C%EC%8A%A4%ED%8A%B8%EB%8B%A4.ipynb\" target=\"_parent\"><img src=\"https://colab.research.google.com/assets/colab-badge.svg\" alt=\"Open In Colab\"/></a>"
      ]
    },
    {
      "cell_type": "markdown",
      "source": [
        "# DFS/BFS"
      ],
      "metadata": {
        "id": "G7ER2UB7AOQk"
      }
    },
    {
      "cell_type": "markdown",
      "source": [
        "## 음료수 얼려 먹기\n",
        "p.149"
      ],
      "metadata": {
        "id": "z-aod3KNAUz4"
      }
    },
    {
      "cell_type": "code",
      "source": [
        "N = 4\n",
        "M = 5\n",
        "\n",
        "graph = []\n",
        "for i in range(N):\n",
        "    graph.append(list(map(int,input())))\n",
        "\n",
        "def ice(x, y):\n",
        "    if x >= N or y >= M:\n",
        "        return False\n",
        "    if graph[x][y] == 0:\n",
        "        graph[x][y] = 1\n",
        "        ice(x+1, y)\n",
        "        ice(x, y+1)\n",
        "        return True\n",
        "    return False\n",
        "\n",
        "result = 0\n",
        "for i in range(N):\n",
        "    for j in range(M):\n",
        "        if ice(i,j) == True:\n",
        "            result +=1\n",
        "\n",
        "\n",
        "ice(0,0)\n",
        "print(result)"
      ],
      "metadata": {
        "colab": {
          "base_uri": "https://localhost:8080/"
        },
        "id": "6R01OgvDAWuD",
        "outputId": "95781b09-d0e3-4ab3-8928-8bf1536c5d5e"
      },
      "execution_count": null,
      "outputs": [
        {
          "output_type": "stream",
          "name": "stdout",
          "text": [
            "00110\n",
            "00011\n",
            "11111\n",
            "00100\n",
            "4\n"
          ]
        }
      ]
    },
    {
      "cell_type": "markdown",
      "source": [
        "## 미로탈출\n",
        "p.152\n"
      ],
      "metadata": {
        "id": "_bgi7zqBC_me"
      }
    },
    {
      "cell_type": "code",
      "source": [
        "그냥 해설만 봤음"
      ],
      "metadata": {
        "id": "17qugqa8dtl3"
      },
      "execution_count": null,
      "outputs": []
    },
    {
      "cell_type": "markdown",
      "source": [
        "# 정렬"
      ],
      "metadata": {
        "id": "21A-qH0nbvQp"
      }
    },
    {
      "cell_type": "markdown",
      "source": [
        "## 두 배열의 원소 교체\n",
        "p.182"
      ],
      "metadata": {
        "id": "GoV-HyVOK7EP"
      }
    },
    {
      "cell_type": "code",
      "source": [
        "N, M = map(int, input().split())\n",
        "\n",
        "array_A = sorted(list(map(int, input().split())))\n",
        "array_B = sorted(list(map(int, input().split())))\n",
        "\n",
        "for i in range(M):\n",
        "    if array_A[i] < array_B[-1 - i]:\n",
        "        array_A[i], array_B[-1 -i] = array_B[-1 -i], array_A[i]\n",
        "    else:\n",
        "        break\n",
        "\n",
        "print(sum(array_A))"
      ],
      "metadata": {
        "colab": {
          "base_uri": "https://localhost:8080/"
        },
        "id": "1TvwGpRMb1NA",
        "outputId": "eba6bfef-8a78-4764-f476-da0826203ab6"
      },
      "execution_count": null,
      "outputs": [
        {
          "output_type": "stream",
          "name": "stdout",
          "text": [
            "5 3\n",
            "1 2 5 4 3\n",
            "5 5 6 6 5\n",
            "26\n"
          ]
        }
      ]
    },
    {
      "cell_type": "markdown",
      "source": [
        "## 성적이 낮은 순서로 학생 출력하기\n",
        "p.180"
      ],
      "metadata": {
        "id": "w8oQp_eydhr6"
      }
    },
    {
      "cell_type": "code",
      "source": [
        "N = int(input())\n",
        "\n",
        "array = []\n",
        "for _ in range(N):\n",
        "    input_data = input().split()\n",
        "    name, score = input_data[0], int(input_data[1])\n",
        "    array.append(tuple([name, score]))\n",
        "\n",
        "sorted_array = sorted(array, key = lambda x: x[1])\n",
        "for data in sorted_array:\n",
        "    print(data[0], end = ' ')"
      ],
      "metadata": {
        "colab": {
          "base_uri": "https://localhost:8080/"
        },
        "id": "MlnQbWgkdh2w",
        "outputId": "72ffcd8e-d1cb-4ffd-aec3-286d7e7457df"
      },
      "execution_count": null,
      "outputs": [
        {
          "output_type": "stream",
          "name": "stdout",
          "text": [
            "2\n",
            "이순신 95\n",
            "홍길동 77\n",
            "홍길동 이순신 "
          ]
        }
      ]
    },
    {
      "cell_type": "code",
      "source": [
        ""
      ],
      "metadata": {
        "id": "_mUB011p6MH_"
      },
      "execution_count": null,
      "outputs": []
    }
  ]
}