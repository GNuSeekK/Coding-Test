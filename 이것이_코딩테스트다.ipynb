{
  "nbformat": 4,
  "nbformat_minor": 0,
  "metadata": {
    "colab": {
      "name": "이것이 코딩테스트다.ipynb",
      "provenance": [],
      "collapsed_sections": [],
      "toc_visible": true,
      "authorship_tag": "ABX9TyOJhLe2p0rwwH3e2Sf3ZbQQ",
      "include_colab_link": true
    },
    "kernelspec": {
      "name": "python3",
      "display_name": "Python 3"
    },
    "language_info": {
      "name": "python"
    }
  },
  "cells": [
    {
      "cell_type": "markdown",
      "metadata": {
        "id": "view-in-github",
        "colab_type": "text"
      },
      "source": [
        "<a href=\"https://colab.research.google.com/github/GNuSeekK/Coding-Test/blob/main/%EC%9D%B4%EA%B2%83%EC%9D%B4_%EC%BD%94%EB%94%A9%ED%85%8C%EC%8A%A4%ED%8A%B8%EB%8B%A4.ipynb\" target=\"_parent\"><img src=\"https://colab.research.google.com/assets/colab-badge.svg\" alt=\"Open In Colab\"/></a>"
      ]
    },
    {
      "cell_type": "markdown",
      "source": [
        "# DFS/BFS"
      ],
      "metadata": {
        "id": "G7ER2UB7AOQk"
      }
    },
    {
      "cell_type": "markdown",
      "source": [
        "## 음료수 얼려 먹기\n",
        "p.149"
      ],
      "metadata": {
        "id": "z-aod3KNAUz4"
      }
    },
    {
      "cell_type": "code",
      "source": [
        "N = 4\n",
        "M = 5\n",
        "\n",
        "graph = []\n",
        "for i in range(N):\n",
        "    graph.append(list(map(int,input())))\n",
        "\n",
        "def ice(x, y):\n",
        "    if x >= N or y >= M:\n",
        "        return False\n",
        "    if graph[x][y] == 0:\n",
        "        graph[x][y] = 1\n",
        "        ice(x+1, y)\n",
        "        ice(x, y+1)\n",
        "        return True\n",
        "    return False\n",
        "\n",
        "result = 0\n",
        "for i in range(N):\n",
        "    for j in range(M):\n",
        "        if ice(i,j) == True:\n",
        "            result +=1\n",
        "\n",
        "\n",
        "ice(0,0)\n",
        "print(result)"
      ],
      "metadata": {
        "colab": {
          "base_uri": "https://localhost:8080/"
        },
        "id": "6R01OgvDAWuD",
        "outputId": "95781b09-d0e3-4ab3-8928-8bf1536c5d5e"
      },
      "execution_count": null,
      "outputs": [
        {
          "output_type": "stream",
          "name": "stdout",
          "text": [
            "00110\n",
            "00011\n",
            "11111\n",
            "00100\n",
            "4\n"
          ]
        }
      ]
    },
    {
      "cell_type": "markdown",
      "source": [
        "## 미로탈출\n",
        "p.152\n"
      ],
      "metadata": {
        "id": "_bgi7zqBC_me"
      }
    },
    {
      "cell_type": "markdown",
      "source": [
        "# 정렬"
      ],
      "metadata": {
        "id": "21A-qH0nbvQp"
      }
    },
    {
      "cell_type": "markdown",
      "source": [
        "## 두 배열의 원소 교체\n",
        "p.182\n",
        "> 직접 코딩"
      ],
      "metadata": {
        "id": "GoV-HyVOK7EP"
      }
    },
    {
      "cell_type": "code",
      "source": [
        "N, M = map(int, input().split())\n",
        "\n",
        "array_A = sorted(list(map(int, input().split())))\n",
        "array_B = sorted(list(map(int, input().split())))\n",
        "\n",
        "for i in range(M):\n",
        "    if array_A[i] < array_B[-1 - i]:\n",
        "        array_A[i], array_B[-1 -i] = array_B[-1 -i], array_A[i]\n",
        "    else:\n",
        "        break\n",
        "\n",
        "print(sum(array_A))"
      ],
      "metadata": {
        "colab": {
          "base_uri": "https://localhost:8080/"
        },
        "id": "1TvwGpRMb1NA",
        "outputId": "eba6bfef-8a78-4764-f476-da0826203ab6"
      },
      "execution_count": null,
      "outputs": [
        {
          "output_type": "stream",
          "name": "stdout",
          "text": [
            "5 3\n",
            "1 2 5 4 3\n",
            "5 5 6 6 5\n",
            "26\n"
          ]
        }
      ]
    },
    {
      "cell_type": "markdown",
      "source": [
        "## 성적이 낮은 순서로 학생 출력하기\n",
        "p.180\n",
        "> 직접 코딩"
      ],
      "metadata": {
        "id": "w8oQp_eydhr6"
      }
    },
    {
      "cell_type": "code",
      "source": [
        "N = int(input())\n",
        "\n",
        "array = []\n",
        "for _ in range(N):\n",
        "    input_data = input().split()\n",
        "    name, score = input_data[0], int(input_data[1])\n",
        "    array.append(tuple([name, score]))\n",
        "\n",
        "sorted_array = sorted(array, key = lambda x: x[1])\n",
        "for data in sorted_array:\n",
        "    print(data[0], end = ' ')"
      ],
      "metadata": {
        "colab": {
          "base_uri": "https://localhost:8080/"
        },
        "id": "MlnQbWgkdh2w",
        "outputId": "72ffcd8e-d1cb-4ffd-aec3-286d7e7457df"
      },
      "execution_count": null,
      "outputs": [
        {
          "output_type": "stream",
          "name": "stdout",
          "text": [
            "2\n",
            "이순신 95\n",
            "홍길동 77\n",
            "홍길동 이순신 "
          ]
        }
      ]
    },
    {
      "cell_type": "markdown",
      "source": [
        "# 이진탐색 알고리즘"
      ],
      "metadata": {
        "id": "_mUB011p6MH_"
      }
    },
    {
      "cell_type": "markdown",
      "source": [
        "> 파라메트릭 서치\n",
        "\n",
        "* 최적화 문제를 결정 문제(예 or 아니오)로 바꾸어 해결\n",
        "* 특정한 조건을 만족하는 가장 알맞은 값 찾는 문제"
      ],
      "metadata": {
        "id": "IWqHwk3PcGST"
      }
    },
    {
      "cell_type": "markdown",
      "source": [
        "## 떡볶이 떡 만들기"
      ],
      "metadata": {
        "id": "kTkEbDkBdG8d"
      }
    },
    {
      "cell_type": "markdown",
      "source": [
        "## 정렬된 배열에서 특정 수의 개수 구하기\n",
        "> bisect 이용"
      ],
      "metadata": {
        "id": "fSBfsfWHe_eS"
      }
    },
    {
      "cell_type": "code",
      "source": [
        "from bisect import bisect_left, bisect_right\n",
        "# bisect_left(a, x): 정렬된 순서를 유지하면서 배열 a에 x를 삽입할 가장 왼쪽 인덱스 반환\n",
        "# bisect_right(a, x): 정렬된 순서를 유지하면서 배열 a에 x를 삽입할 가장 오른쪽 인덱스 반환"
      ],
      "metadata": {
        "id": "UjunfxQFbaLw"
      },
      "execution_count": null,
      "outputs": []
    },
    {
      "cell_type": "markdown",
      "source": [
        "사잇값 갯수 구하기"
      ],
      "metadata": {
        "id": "t3d6KKBgbw0S"
      }
    },
    {
      "cell_type": "code",
      "source": [
        "def count_by_range(arr, left_value, right_value):\n",
        "    right_index = bisect_right(arr, right_value)\n",
        "    left_index = bisect_left(arr, left_value)\n",
        "    return right_index - left_index\n",
        "\n",
        "arr = [1, 2, 3, 3, 3, 3, 4, 4, 8, 9]\n",
        "\n",
        "print(count_by_range(arr, 4, 4))\n",
        "\n",
        "print(count_by_range(arr, -1, 3))"
      ],
      "metadata": {
        "colab": {
          "base_uri": "https://localhost:8080/"
        },
        "id": "QvIUei_TbzgT",
        "outputId": "7b3a4f76-7716-4d01-914f-7731f859394f"
      },
      "execution_count": null,
      "outputs": [
        {
          "output_type": "stream",
          "name": "stdout",
          "text": [
            "2\n",
            "6\n"
          ]
        }
      ]
    },
    {
      "cell_type": "markdown",
      "source": [
        "# 다이나믹 프로그래밍"
      ],
      "metadata": {
        "id": "a0wWges4mph5"
      }
    },
    {
      "cell_type": "markdown",
      "source": [
        "## 개미 전사"
      ],
      "metadata": {
        "id": "oVg4HGGcmqyH"
      }
    },
    {
      "cell_type": "markdown",
      "source": [
        "## 1로 만들기"
      ],
      "metadata": {
        "id": "WUz53A_nx3qV"
      }
    },
    {
      "cell_type": "markdown",
      "source": [
        "## 효율적인 화폐 구성"
      ],
      "metadata": {
        "id": "GQvKu19ozrxZ"
      }
    },
    {
      "cell_type": "markdown",
      "source": [
        "## 금광"
      ],
      "metadata": {
        "id": "TNiM7rW94m3-"
      }
    },
    {
      "cell_type": "markdown",
      "source": [
        "## 병사 배치하기\n",
        "> 직접 코딩"
      ],
      "metadata": {
        "id": "V63-XxUd4o4T"
      }
    },
    {
      "cell_type": "code",
      "source": [
        "N = int(input())\n",
        "dmg = list(map(int, input().split()))\n",
        "\n",
        "arr = [1] * N\n",
        "\n",
        "for idx in range(1, len(dmg)):\n",
        "    tmp_arr = [arr[x] for x in range(len(arr[:idx])) if dmg[idx] < dmg[x]]\n",
        "    if len(tmp_arr) > 0:\n",
        "        arr[idx] = max(tmp_arr) + 1\n",
        "\n",
        "print(N - max(arr))"
      ],
      "metadata": {
        "colab": {
          "base_uri": "https://localhost:8080/"
        },
        "id": "hB2ivWTB6qA3",
        "outputId": "8759c2b9-ce71-4605-e192-839a5620c065"
      },
      "execution_count": 36,
      "outputs": [
        {
          "output_type": "stream",
          "name": "stdout",
          "text": [
            "7\n",
            "15 11 8 7 4 2 5\n",
            "1\n"
          ]
        }
      ]
    },
    {
      "cell_type": "markdown",
      "source": [
        "# 최단 경로 알고리즘"
      ],
      "metadata": {
        "id": "ItAt-eePQq_E"
      }
    },
    {
      "cell_type": "markdown",
      "source": [
        "## 전보문제\n",
        "> 직접 코딩"
      ],
      "metadata": {
        "id": "wvw_iS1KQshO"
      }
    },
    {
      "cell_type": "code",
      "source": [
        "import heapq\n",
        "\n",
        "N, M, C = map(int, input().split())\n",
        "\n",
        "arr = [[] for _ in range(N+1)]\n",
        "visited = [False] * (N+1)\n",
        "heap = []\n",
        "\n",
        "for line in range(M):\n",
        "    x, y, z = map(int, input().split())\n",
        "    arr[x].append((z,y))\n",
        "\n",
        "visited[C] = True\n",
        "for line in arr[C]:\n",
        "    heapq.heappush(heap, line)\n",
        "\n",
        "while heap:\n",
        "    z, y = heapq.heappop(heap)\n",
        "    if visited[y] == True:\n",
        "        continue\n",
        "    visited[y] = True\n",
        "    result = z \n",
        "    for line in arr[y]:\n",
        "        # 거리에 대한 판단을 하지 않기 때문에, 모두 다 집어넣게 된다.\n",
        "        # 거리 배열을 하나 더 만들어서 판별하게 해주면 실행시간을 줄일 수 있다\n",
        "        heapq.heappush(heap, (line[1] + z, line[0]))\n",
        "\n",
        "print(sum(visited) - 1, result)"
      ],
      "metadata": {
        "colab": {
          "base_uri": "https://localhost:8080/"
        },
        "id": "aFyOR6UdUuYr",
        "outputId": "cb0fd31a-1e1c-49df-cc85-f14c34fe2084"
      },
      "execution_count": 1,
      "outputs": [
        {
          "output_type": "stream",
          "name": "stdout",
          "text": [
            "3 2 1\n",
            "1 2 4\n",
            "1 3 2\n",
            "3 4\n"
          ]
        }
      ]
    },
    {
      "cell_type": "markdown",
      "source": [
        "## 미래 도시(플로이드 워셜)"
      ],
      "metadata": {
        "id": "IBmJZIoldn6h"
      }
    },
    {
      "cell_type": "code",
      "source": [
        "INF = int(1e9)\n",
        "\n",
        "n, m = map(int, input().split())\n",
        "\n",
        "graph = [[INF] * (n + 1) for _ in range(n+1)]\n",
        "\n",
        "for a in range(1, n+1):\n",
        "    for b in range(1, n+1):\n",
        "        if a == b:\n",
        "            graph[a][b] = 0\n",
        "\n",
        "for _ in range(m):\n",
        "    a, b = map(int, input().split())\n",
        "    graph[a][b] = 1\n",
        "    graph[b][a] = a\n",
        "\n",
        "x, k = map(int, input().split())\n",
        "\n",
        "# 플로이드 워셜\n",
        "for k in range(1, n + 1):\n",
        "    for a in range(1, n + 1):\n",
        "        for b in range(1, n + 1):\n",
        "            graph[a][b] = min(graph[a][b], graph[a][k] + graph[k][b])\n",
        "\n",
        "distance = graph[1][k] + graph[k][x]\n",
        "\n",
        "if distance >= INF:\n",
        "    print(\"-1\")\n",
        "else:\n",
        "    print(distance)"
      ],
      "metadata": {
        "id": "DJDQqDyiflGC"
      },
      "execution_count": null,
      "outputs": []
    },
    {
      "cell_type": "markdown",
      "source": [
        "# 기타 그래프 이론"
      ],
      "metadata": {
        "id": "zCYuhMQa1U0P"
      }
    },
    {
      "cell_type": "markdown",
      "source": [
        "## 서로소 집합"
      ],
      "metadata": {
        "id": "L9lAubeb1V3L"
      }
    },
    {
      "cell_type": "code",
      "source": [
        "def find_parent(parent, x):\n",
        "    if parent[x] != x:\n",
        "        parent[x] = find_parent(parent, parent[x])\n",
        "        return parent[x]\n",
        "\n",
        "def union_parent(parent, a, b):\n",
        "    a = find_parent(parent, a)\n",
        "    b = find_parent(parent, b)\n",
        "    if a < b:\n",
        "        parent[b] = a\n",
        "    else:\n",
        "        parent[a] = b\n",
        "\n",
        "v, e = map(int, input().split())\n",
        "parent = [0] * (v + 1)\n",
        "\n",
        "for i in range(1, v + 1):\n",
        "    parent[i] = i\n",
        "\n",
        "cycle = False\n",
        "\n",
        "for i in range(e):\n",
        "    a, b = map(int, input().split())\n",
        "    if find_parent(parent, a) == find_parent(parent, b):\n",
        "        cycle = True\n",
        "        break\n",
        "    else:\n",
        "        union_parent(parent, a, b)\n",
        "\n",
        "if cycle:\n",
        "    print('사이클이 발생했습니다')\n",
        "else:\n",
        "    print('사이클이 발생하지 않았습니다.')"
      ],
      "metadata": {
        "id": "Dmc30hFn1WxI"
      },
      "execution_count": null,
      "outputs": []
    },
    {
      "cell_type": "markdown",
      "source": [
        "## 크루스칼 알고리즘"
      ],
      "metadata": {
        "id": "8e5Q6vMe9akQ"
      }
    },
    {
      "cell_type": "code",
      "source": [
        "def find_parent(parent, x):\n",
        "    if parent[x] != x:\n",
        "        parent[x] = find_parent(parent, parent[x])\n",
        "        return parent[x]\n",
        "\n",
        "def union_parent(parent, a, b):\n",
        "    a = find_parent(parent, a)\n",
        "    b = find_parent(parent, b)\n",
        "    if a < b:\n",
        "        parent[b] = a\n",
        "    else:\n",
        "        parent[a] = b\n",
        "\n",
        "v, e = map(int, input().split())\n",
        "parent = [0] * (v + 1)\n",
        "\n",
        "edges = []\n",
        "result = 0\n",
        "\n",
        "for i in range(1, v + 1):\n",
        "    parent[i] = i # 부모 초기화\n",
        "\n",
        "for _ in range(e):\n",
        "    a, b, cost = map(int, input().split())\n",
        "    edges.append((cost, a, b))\n",
        "\n",
        "edges.sort()\n",
        "\n",
        "for edge in edges:\n",
        "    cost, a, b = edge\n",
        "    if find_parent(parent, a) != find_parent(parent, b):\n",
        "        union_parent(parent, a, b)\n",
        "        result += cost\n",
        "\n",
        "print(result)"
      ],
      "metadata": {
        "id": "YHxR6aM49cAR"
      },
      "execution_count": null,
      "outputs": []
    },
    {
      "cell_type": "markdown",
      "source": [
        "## 위상 정렬"
      ],
      "metadata": {
        "id": "I1fyNzyTB8HC"
      }
    },
    {
      "cell_type": "code",
      "source": [
        "from collections import deque\n",
        "\n",
        "v, e = map(int, input().split())\n",
        "# 진입차수 0으로 초기화\n",
        "indegree = [0] * (v + 1)\n",
        "\n",
        "graph = [[] for i in range(v + 1)]\n",
        "\n",
        "for _ in range(e):\n",
        "    a, b = map(int, input().split())\n",
        "    graph[a].append(b)\n",
        "    # 진입차수\n",
        "    indegree[b] += 1\n",
        "\n",
        "def topology_sort():\n",
        "    result = []\n",
        "    q = deque()\n",
        "    for i in range(1, v + 1):\n",
        "        if indegree[i] ==0:\n",
        "            q.append(i)\n",
        "    while q:\n",
        "        now = q.popleft()\n",
        "        result.append(now)\n",
        "        # 각 노드가 갈 수 있는 노드의 진입차수 1 빼기\n",
        "        for i in graph[now]:\n",
        "            indegree[] -= 1\n",
        "            # 진입 차수가 0이 되는 노드 큐에 삽입\n",
        "            if indgree[i] == 0:\n",
        "                q.append(i)\n",
        "\n",
        "    for i in result:\n",
        "        print(i, end = ' ')\n",
        "\n",
        "topology_sort()"
      ],
      "metadata": {
        "id": "Jevl1CoRCUGG"
      },
      "execution_count": null,
      "outputs": []
    }
  ]
}