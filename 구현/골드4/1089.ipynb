{
 "cells": [
  {
   "attachments": {},
   "cell_type": "markdown",
   "metadata": {},
   "source": [
    "# 스타트링크 타워 (https://www.acmicpc.net/problem/1089)\n",
    "\n",
    "## 문제\n",
    "스타트링크 타워는 총 10N개 층이 있는 고층 건물이고, 0층부터 10N-1층으로 번호가 매겨져 있다. 층 번호를 숫자 N개로 표현한다. 숫자 N개로 층 번호를 표시할 수 없는 경우 앞에 0을 채운다.\n",
    "\n",
    "숫자 1개를 표현하려면 전구 5×3개가 필요하고, 이 전구를 세로 크기 5, 가로 크기 3인 격자 형태로 배치한다. 다음은 0부터 9까지 숫자를 나타낸 것이다. '#'는 불이 켜져있는 전구, '.'는 불이 꺼져있는 전구이다.\n",
    "```\n",
    "###...#.###.###.#.#.###.###.###.###.###\n",
    "#.#...#...#...#.#.#.#...#.....#.#.#.#.#\n",
    "#.#...#.###.###.###.###.###...#.###.###\n",
    "#.#...#.#.....#...#...#.#.#...#.#.#...#\n",
    "###...#.###.###...#.###.###...#.###.###\n",
    "```\n",
    "엘리베이터에 있는 층 번호 안내판의 상태가 주어진다. 안내판의 각 숫자는 불이 꺼져있는 전구 한 열로 구분되어 있다. 안내판의 일부 전구는 고장이 나서 항상 꺼져있는 상태이다. 꺼져있는 전구의 일부가 고장이 났다고 가정할 때, 현재 층 번호 안내판이 나타내고 있다고 볼 수 있는 모든 층 번호의 평균을 구해보자.\n",
    "\n",
    "## 입력\n",
    "첫째 줄에 N이 주어진다. N은 9보다 작거나 같은 자연수이다. 둘째 줄부터 다섯 개의 줄에는 엘리베이터 층 번호 안내판의 상태가 주어진다. 각 문자열의 길이는 4N-1이다.\n",
    "\n",
    "## 출력\n",
    "첫째 줄에 층 번호 안내판이 나타내고 있다고 가정할 수 있는 모든 층 번호의 평균을 출력한다. 만약, 가능한 층 번호가 없는 경우 -1을 출력한다.\n",
    "\n",
    "정답과의 절대/상대 오차는 10-5까지 허용한다."
   ]
  },
  {
   "cell_type": "code",
   "execution_count": 2,
   "metadata": {},
   "outputs": [
    {
     "name": "stdout",
     "output_type": "stream",
     "text": [
      "49.5\n"
     ]
    }
   ],
   "source": [
    "# 켜진 전구 있으면 절대 못끔\n",
    "\n",
    "lights = {\n",
    "    0 : {(1,1), (2,1), (3,1)},\n",
    "    1 : {(x, y) for y in range(2) for x in range(5)},\n",
    "    2 : {(1,0), (1,1), (3,1), (3,2)},\n",
    "    3 : {(1,0), (1,1), (3,0), (3,1)},\n",
    "    4 : {(0,1), (1,1), (3,0), (3,1), (4,0), (4,1)},\n",
    "    5 : {(1,1), (1,2), (3,0), (3,1)},\n",
    "    6 : {(1,1), (1,2), (3,1)},\n",
    "    7 : {(x, y) for y in range(2) for x in range(1,5)},\n",
    "    8 : {(1,1), (3,1)},\n",
    "    9 : {(1,1), (3,0), (3,1)}\n",
    "}\n",
    "\n",
    "N = int(input())\n",
    "# \n",
    "board = [input() for _ in range(5)]\n",
    "# N = 2\n",
    "# board = [\n",
    "#     '.......',\n",
    "#     '.......',\n",
    "#     '.......',\n",
    "#     '.......',\n",
    "#     '.......'\n",
    "# ]\n",
    "new_board = [[['']*3 for _ in range(5)] for _ in range(N)]\n",
    "\n",
    "for row, line in enumerate(board):\n",
    "    for col, value in enumerate(line):\n",
    "        if col % 4 == 3:\n",
    "            continue\n",
    "        new_board[col // 4][row][col % 4] = value\n",
    "result = []\n",
    "\n",
    "answer = 0\n",
    "for idx, number in enumerate(new_board):\n",
    "    ables = {0, 1, 2, 3, 4, 5, 6, 7, 8, 9}\n",
    "    for row, line in enumerate(number):\n",
    "        for col, value in enumerate(line):\n",
    "            if value == '#':\n",
    "                for key, sets in lights.items():\n",
    "                    if key in ables and (row, col) in sets:\n",
    "                        ables.discard(key)\n",
    "    if len(ables) == 0:\n",
    "        answer = -1\n",
    "    result.append(list(ables))\n",
    "\n",
    "if answer == -1:\n",
    "    print(answer)\n",
    "else:\n",
    "    for idx, data in enumerate(result):\n",
    "        data_num = 1\n",
    "        for idx2, data2 in enumerate(result):\n",
    "            if idx == idx2:\n",
    "                continue\n",
    "            data_num *= len(data2)\n",
    "        answer += 10 ** (len(result) - idx - 1) * sum(data) / len(data)\n",
    "    print(answer)"
   ]
  },
  {
   "cell_type": "code",
   "execution_count": null,
   "metadata": {},
   "outputs": [],
   "source": []
  }
 ],
 "metadata": {
  "kernelspec": {
   "display_name": "base",
   "language": "python",
   "name": "python3"
  },
  "language_info": {
   "codemirror_mode": {
    "name": "ipython",
    "version": 3
   },
   "file_extension": ".py",
   "mimetype": "text/x-python",
   "name": "python",
   "nbconvert_exporter": "python",
   "pygments_lexer": "ipython3",
   "version": "3.9.13"
  },
  "orig_nbformat": 4
 },
 "nbformat": 4,
 "nbformat_minor": 2
}
