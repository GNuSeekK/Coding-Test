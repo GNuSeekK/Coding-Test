{
 "cells": [
  {
   "attachments": {},
   "cell_type": "markdown",
   "metadata": {},
   "source": [
    "# 전깃줄 (https://www.acmicpc.net/problem/2565)\n",
    "\n",
    "## 문제\n",
    "두 전봇대 A와 B 사이에 하나 둘씩 전깃줄을 추가하다 보니 전깃줄이 서로 교차하는 경우가 발생하였다. 합선의 위험이 있어 이들 중 몇 개의 전깃줄을 없애 전깃줄이 교차하지 않도록 만들려고 한다.\n",
    "\n",
    "예를 들어, < 그림 1 >과 같이 전깃줄이 연결되어 있는 경우 A의 1번 위치와 B의 8번 위치를 잇는 전깃줄, A의 3번 위치와 B의 9번 위치를 잇는 전깃줄, A의 4번 위치와 B의 1번 위치를 잇는 전깃줄을 없애면 남아있는 모든 전깃줄이 서로 교차하지 않게 된다.\n",
    "\n",
    "![image](https://upload.acmicpc.net/d90221dd-eb80-419f-bdfb-5dd4ebac23af/-/preview/)\n",
    "\n",
    "< 그림 1 >\n",
    "\n",
    "전깃줄이 전봇대에 연결되는 위치는 전봇대 위에서부터 차례대로 번호가 매겨진다. 전깃줄의 개수와 전깃줄들이 두 전봇대에 연결되는 위치의 번호가 주어질 때, 남아있는 모든 전깃줄이 서로 교차하지 않게 하기 위해 없애야 하는 전깃줄의 최소 개수를 구하는 프로그램을 작성하시오.\n",
    "\n",
    "## 입력\n",
    "첫째 줄에는 두 전봇대 사이의 전깃줄의 개수가 주어진다. 전깃줄의 개수는 100 이하의 자연수이다. 둘째 줄부터 한 줄에 하나씩 전깃줄이 A전봇대와 연결되는 위치의 번호와 B전봇대와 연결되는 위치의 번호가 차례로 주어진다. 위치의 번호는 500 이하의 자연수이고, 같은 위치에 두 개 이상의 전깃줄이 연결될 수 없다.\n",
    "\n",
    "## 출력\n",
    "첫째 줄에 남아있는 모든 전깃줄이 서로 교차하지 않게 하기 위해 없애야 하는 전깃줄의 최소 개수를 출력한다."
   ]
  },
  {
   "cell_type": "code",
   "execution_count": 8,
   "metadata": {},
   "outputs": [
    {
     "name": "stdout",
     "output_type": "stream",
     "text": [
      "6\n"
     ]
    }
   ],
   "source": [
    "N = int(input())\n",
    "lines = [tuple(map(int, input().split())) for _ in range(N)]\n",
    "# lines = [\n",
    "#     (1, 8),\n",
    "#     (3, 9),\n",
    "#     (2, 2),\n",
    "#     (4, 1),\n",
    "#     (6, 4),\n",
    "#     (10, 10),\n",
    "#     (9, 7),\n",
    "#     (7, 6)\n",
    "# ]\n",
    "lines.sort(reverse=True)\n",
    "\n",
    "line_dict = {}\n",
    "for line in lines:\n",
    "    line_dict[line] = set()\n",
    "    for key in line_dict:\n",
    "        if key[1] < line[1]:\n",
    "            line_dict[line].add(key)\n",
    "            line_dict[key].add(line)\n",
    "\n",
    "result = 0\n",
    "while True:\n",
    "    max_len = 0\n",
    "    # print(line_dict)\n",
    "    for key, value in line_dict.items():\n",
    "        if len(value) > max_len:\n",
    "            max_len = len(value)\n",
    "            max_key = key\n",
    "    # print(max_key)\n",
    "    if max_len == 0:\n",
    "        break\n",
    "    result += 1\n",
    "    pop_lines = line_dict.pop(max_key)\n",
    "    for line in pop_lines:\n",
    "        line_dict[line].remove(max_key)\n",
    "\n",
    "print(result)\n",
    "    "
   ]
  },
  {
   "cell_type": "code",
   "execution_count": 21,
   "metadata": {},
   "outputs": [
    {
     "ename": "ValueError",
     "evalue": "invalid literal for int() with base 10: ''",
     "output_type": "error",
     "traceback": [
      "\u001b[1;31m---------------------------------------------------------------------------\u001b[0m",
      "\u001b[1;31mValueError\u001b[0m                                Traceback (most recent call last)",
      "\u001b[1;32m~\\AppData\\Local\\Temp\\ipykernel_23884\\1485004008.py\u001b[0m in \u001b[0;36m<module>\u001b[1;34m\u001b[0m\n\u001b[1;32m----> 1\u001b[1;33m \u001b[0mN\u001b[0m \u001b[1;33m=\u001b[0m \u001b[0mint\u001b[0m\u001b[1;33m(\u001b[0m\u001b[0minput\u001b[0m\u001b[1;33m(\u001b[0m\u001b[1;33m)\u001b[0m\u001b[1;33m)\u001b[0m\u001b[1;33m\u001b[0m\u001b[1;33m\u001b[0m\u001b[0m\n\u001b[0m\u001b[0;32m      2\u001b[0m \u001b[0mlines\u001b[0m \u001b[1;33m=\u001b[0m \u001b[1;33m[\u001b[0m\u001b[0mtuple\u001b[0m\u001b[1;33m(\u001b[0m\u001b[0mmap\u001b[0m\u001b[1;33m(\u001b[0m\u001b[0mint\u001b[0m\u001b[1;33m,\u001b[0m \u001b[0minput\u001b[0m\u001b[1;33m(\u001b[0m\u001b[1;33m)\u001b[0m\u001b[1;33m.\u001b[0m\u001b[0msplit\u001b[0m\u001b[1;33m(\u001b[0m\u001b[1;33m)\u001b[0m\u001b[1;33m)\u001b[0m\u001b[1;33m)\u001b[0m \u001b[1;32mfor\u001b[0m \u001b[0m_\u001b[0m \u001b[1;32min\u001b[0m \u001b[0mrange\u001b[0m\u001b[1;33m(\u001b[0m\u001b[0mN\u001b[0m\u001b[1;33m)\u001b[0m\u001b[1;33m]\u001b[0m\u001b[1;33m\u001b[0m\u001b[1;33m\u001b[0m\u001b[0m\n\u001b[0;32m      3\u001b[0m \u001b[1;31m# lines = [\u001b[0m\u001b[1;33m\u001b[0m\u001b[1;33m\u001b[0m\u001b[0m\n\u001b[0;32m      4\u001b[0m \u001b[1;31m#     (1, 8),\u001b[0m\u001b[1;33m\u001b[0m\u001b[1;33m\u001b[0m\u001b[0m\n\u001b[0;32m      5\u001b[0m \u001b[1;31m#     (3, 9),\u001b[0m\u001b[1;33m\u001b[0m\u001b[1;33m\u001b[0m\u001b[0m\n",
      "\u001b[1;31mValueError\u001b[0m: invalid literal for int() with base 10: ''"
     ]
    }
   ],
   "source": [
    "N = int(input())\n",
    "lines = [tuple(map(int, input().split())) for _ in range(N)]\n",
    "# lines = [\n",
    "#     (1, 8),\n",
    "#     (3, 9),\n",
    "#     (2, 2),\n",
    "#     (4, 1),\n",
    "#     (6, 4),\n",
    "#     (10, 10),\n",
    "#     (9, 7),\n",
    "#     (7, 6)\n",
    "# ]\n",
    "\n",
    "# lines = [\n",
    "#     (1, 6),\n",
    "#     (2, 8),\n",
    "#     (3, 2),\n",
    "#     (4, 9),\n",
    "#     (5, 5),\n",
    "#     (6, 10),\n",
    "#     (7, 4),\n",
    "#     (8, 1),\n",
    "#     (9, 7),\n",
    "#     (10, 3)\n",
    "# ]\n",
    "lines.sort()\n",
    "# print(lines)\n",
    "dp = [0] * N\n",
    "for i in range(N):\n",
    "    for j in range(i):\n",
    "        if lines[i][1] > lines[j][1]:\n",
    "            dp[i] = max(dp[i], dp[j])\n",
    "    dp[i] += 1\n",
    "print(N - max(dp))\n",
    "\n",
    "    "
   ]
  },
  {
   "cell_type": "code",
   "execution_count": null,
   "metadata": {},
   "outputs": [],
   "source": []
  }
 ],
 "metadata": {
  "kernelspec": {
   "display_name": "base",
   "language": "python",
   "name": "python3"
  },
  "language_info": {
   "codemirror_mode": {
    "name": "ipython",
    "version": 3
   },
   "file_extension": ".py",
   "mimetype": "text/x-python",
   "name": "python",
   "nbconvert_exporter": "python",
   "pygments_lexer": "ipython3",
   "version": "3.9.13"
  },
  "orig_nbformat": 4
 },
 "nbformat": 4,
 "nbformat_minor": 2
}
