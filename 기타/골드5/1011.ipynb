{
 "cells": [
  {
   "attachments": {},
   "cell_type": "markdown",
   "metadata": {},
   "source": [
    "# 1011번 Fly me to the Alpha Centauri(그리디)"
   ]
  },
  {
   "cell_type": "code",
   "execution_count": null,
   "metadata": {},
   "outputs": [],
   "source": [
    "import sys\n",
    "\n",
    "T = int(input())\n",
    "test_list = []\n",
    "\n",
    "for _ in range(T):\n",
    "    x, y = map(int, input().split())\n",
    "    dis = y - x\n",
    "    n = int((dis)**0.5)\n",
    "    if dis > n * (n+1):\n",
    "        rep = 2 * n + 1\n",
    "    else:\n",
    "        rep = 2 * n\n",
    "    print(rep)"
   ]
  }
 ],
 "metadata": {
  "kernelspec": {
   "display_name": "base",
   "language": "python",
   "name": "python3"
  },
  "language_info": {
   "name": "python",
   "version": "3.9.12 (main, Apr  4 2022, 05:22:27) [MSC v.1916 64 bit (AMD64)]"
  },
  "orig_nbformat": 4,
  "vscode": {
   "interpreter": {
    "hash": "ad2bdc8ecc057115af97d19610ffacc2b4e99fae6737bb82f5d7fb13d2f2c186"
   }
  }
 },
 "nbformat": 4,
 "nbformat_minor": 2
}
