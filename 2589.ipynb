{
 "cells": [
  {
   "attachments": {},
   "cell_type": "markdown",
   "metadata": {},
   "source": [
    "# 보물섬 (https://www.acmicpc.net/problem/2589)\n",
    "\n",
    "## 문제\n",
    "보물섬 지도를 발견한 후크 선장은 보물을 찾아나섰다. 보물섬 지도는 아래 그림과 같이 직사각형 모양이며 여러 칸으로 나뉘어져 있다. 각 칸은 육지(L)나 바다(W)로 표시되어 있다. 이 지도에서 이동은 상하좌우로 이웃한 육지로만 가능하며, 한 칸 이동하는데 한 시간이 걸린다. 보물은 서로 간에 최단 거리로 이동하는데 있어 가장 긴 시간이 걸리는 육지 두 곳에 나뉘어 묻혀있다. 육지를 나타내는 두 곳 사이를 최단 거리로 이동하려면 같은 곳을 두 번 이상 지나가거나, 멀리 돌아가서는 안 된다.\n",
    "\n",
    "![image1](https://www.acmicpc.net/upload/images/c1bYIsKpI6m317EAx.jpg)\n",
    "\n",
    "예를 들어 위와 같이 지도가 주어졌다면 보물은 아래 표시된 두 곳에 묻혀 있게 되고, 이 둘 사이의 최단 거리로 이동하는 시간은 8시간이 된다.\n",
    "\n",
    "![image2](https://www.acmicpc.net/upload/images/XqDkWCRUWbzZ.jpg)\n",
    "\n",
    "\n",
    "보물 지도가 주어질 때, 보물이 묻혀 있는 두 곳 간의 최단 거리로 이동하는 시간을 구하는 프로그램을 작성하시오.\n",
    "\n",
    "## 입력\n",
    "첫째 줄에는 보물 지도의 세로의 크기와 가로의 크기가 빈칸을 사이에 두고 주어진다. 이어 L과 W로 표시된 보물 지도가 아래의 예와 같이 주어지며, 각 문자 사이에는 빈 칸이 없다. 보물 지도의 가로, 세로의 크기는 각각 50이하이다.\n",
    "\n",
    "## 출력\n",
    "첫째 줄에 보물이 묻혀 있는 두 곳 사이를 최단 거리로 이동하는 시간을 출력한다."
   ]
  },
  {
   "cell_type": "code",
   "execution_count": 16,
   "metadata": {},
   "outputs": [
    {
     "name": "stdout",
     "output_type": "stream",
     "text": [
      "[[0, 0, 0, 0], [0, 1, 0, 0], [0, 1, 1, 0], [0, 0, 0, 0]]\n",
      "2\n"
     ]
    }
   ],
   "source": [
    "from collections import deque\n",
    "width, height = map(int, input().split())\n",
    "# test = [\n",
    "#     'WLLWWWL',\n",
    "#     'LLLWLLL',\n",
    "#     'LWLWLWW',\n",
    "#     'LWLWLLL',\n",
    "#     'WLLWLWW'\n",
    "# ]\n",
    "graph = [[0] * (width + 2)]\n",
    "for _ in range(height):\n",
    "    graph.append([0] + list(map(int, input().replace('L','1').replace('W','0'))) + [0])\n",
    "graph.append([0] * (width + 2))\n",
    "# graph = [[0] + list(map(int, map(lambda x: x.replace('L','1').replace('W','0'), test))) + [0] for _ in range(height+2)]\n",
    "# print(graph)\n",
    "dx = [-1, 1, 0, 0]\n",
    "dy = [0, 0, -1, 1]\n",
    "# print(graph)\n",
    "result = 0\n",
    "for i in range(1, height+1):\n",
    "    for j in range(1, width+1):\n",
    "        if graph[i][j] == 0:\n",
    "            continue\n",
    "        num = 0\n",
    "        queue = deque()\n",
    "        queue.append((i, j, num))\n",
    "        visited = {(i, j)}\n",
    "        while queue:\n",
    "            row, col, num = queue.popleft()\n",
    "            for x, y in zip(dx, dy):\n",
    "                x += row\n",
    "                y += col\n",
    "                # print(x, y)\n",
    "                if (x, y) in visited or graph[x][y] == 0:\n",
    "                    continue\n",
    "                queue.append((x, y, num+1))\n",
    "                visited.add((x, y))\n",
    "        result = max(result, num)\n",
    "print(result)"
   ]
  },
  {
   "cell_type": "code",
   "execution_count": null,
   "metadata": {},
   "outputs": [],
   "source": []
  }
 ],
 "metadata": {
  "kernelspec": {
   "display_name": "base",
   "language": "python",
   "name": "python3"
  },
  "language_info": {
   "codemirror_mode": {
    "name": "ipython",
    "version": 3
   },
   "file_extension": ".py",
   "mimetype": "text/x-python",
   "name": "python",
   "nbconvert_exporter": "python",
   "pygments_lexer": "ipython3",
   "version": "3.9.13"
  },
  "orig_nbformat": 4
 },
 "nbformat": 4,
 "nbformat_minor": 2
}
