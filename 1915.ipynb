{
 "cells": [
  {
   "cell_type": "code",
   "execution_count": null,
   "metadata": {},
   "outputs": [],
   "source": []
  },
  {
   "attachments": {},
   "cell_type": "markdown",
   "metadata": {},
   "source": [
    "# 가장 큰 정사각형 (https://www.acmicpc.net/problem/1915)\n",
    "\n",
    "## 문제\n",
    "n×m의 0, 1로 된 배열이 있다. 이 배열에서 1로 된 가장 큰 정사각형의 크기를 구하는 프로그램을 작성하시오.\n",
    "\n",
    "0\t1\t0\t0\n",
    "0\t1\t1\t1\n",
    "1\t1\t1\t0\n",
    "0\t0\t1\t0\n",
    "\n",
    "위와 같은 예제에서는 가운데의 2×2 배열이 가장 큰 정사각형이다.\n",
    "\n",
    "## 입력\n",
    "첫째 줄에 n, m(1 ≤ n, m ≤ 1,000)이 주어진다. 다음 n개의 줄에는 m개의 숫자로 배열이 주어진다.\n",
    "\n",
    "## 출력\n",
    "첫째 줄에 가장 큰 정사각형의 넓이를 출력한다."
   ]
  }
 ],
 "metadata": {
  "language_info": {
   "name": "python"
  },
  "orig_nbformat": 4
 },
 "nbformat": 4,
 "nbformat_minor": 2
}
