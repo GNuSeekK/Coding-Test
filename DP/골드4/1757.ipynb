{
 "cells": [
  {
   "attachments": {},
   "cell_type": "markdown",
   "metadata": {},
   "source": [
    "# 달려달려 (https://www.acmicpc.net/problem/1757)\n",
    "\n",
    "## 문제\n",
    "어제, 그리고 어제 어제 단체달리기를 두 번이나 하였다. 원장선생님의 이러한 하드 트레이닝으로 월드 학생들의 체력은 거의 박지성 수준이 되었다. 그래서 월드 학생들은 운동장을 도는데 정확히 N분에 완주할 수 있는 시간 안배능력까지 갖추게 되었다.\n",
    "\n",
    "그래서 N분동안 학생들은 달릴지 아님 쉴지 결정하여야 한다. 그러나 학생들도 인간이기 때문에 계속 달릴 수는 없다. “지침 지수”라는 것이 있어서 1분을 달린다면 “지침 지수”는 1이 올라간다. 반대로 1분을 쉰다면 “지침 지수”는 1이 내려간다. 또한 이 “지침 지수”가 M보다 커지면 학생들은 더 이상 달릴 수가 없다.\n",
    "\n",
    "아주 특이하게도 학생들은 시간에 따라 달릴 수 있는 거리가 다르다. 만약 I분에 달렸다면 Di 만큼의 거리를 달릴 수 있다. (i분을 달렸다는 것이 아니라 I분이 되는 때에 달렸다는 뜻임) 또한 학생들이 쉬기 시작하면 지침지수가 0이 되기 전에는 다시 달릴 수가 없다.\n",
    "\n",
    "물론 이 달리기가 끝나면 학생들은 다시 공부를 해야한다. 그렇기 때문에 달리기가 끝난다음 지침지수가 0이 되지 않는다면 맑은 정신으로 문제를 풀 수가 없기 때문에 달리기가 끝나면 지침지수는 0이 되어야 한다.\n",
    "\n",
    "월드학생들이 최대한 멀리 갈 수 있는 거리를 구해보자.\n",
    "\n",
    "## 입력\n",
    "첫째 줄에 운동할 시간 N(1 ≤ N ≤ 10000)과 M(1 ≤ M ≤ 500)이 주어진다. 이어서 N개의 줄에 i분에 달릴수 있는 거리 Di(0 ≤ Di ≤ 10,000)가 차례차례 주어진다.\n",
    "\n",
    "## 출력\n",
    "첫째 줄에 최대로 멀리 갈 수 있는 거리를 출력하라."
   ]
  },
  {
   "cell_type": "code",
   "execution_count": 14,
   "metadata": {},
   "outputs": [
    {
     "name": "stdout",
     "output_type": "stream",
     "text": [
      "deque([[1, 0, 0]])\n",
      "[0, 0, 0, 0, 0, 0]\n",
      "deque([[2, 5, 1]])\n",
      "[0, 0, 0, 0, 0, 0]\n",
      "deque([[3, 8, 2], [3, 5, 0]])\n",
      "[0, 0, 5, 0, 0, 0]\n",
      "deque([[3, 5, 0], [4, 12, 3], [5, 8, 0]])\n",
      "[0, 0, 5, 8, 0, 0]\n",
      "deque([[4, 12, 3], [5, 8, 0], [4, 9, 1]])\n",
      "[0, 0, 5, 8, 0, 0]\n",
      "deque([[5, 8, 0], [4, 9, 1], [5, 14, 4]])\n",
      "[0, 0, 5, 8, 0, 0]\n",
      "deque([[4, 9, 1], [5, 14, 4], [6, 18, 1]])\n",
      "[0, 0, 5, 8, 0, 8]\n",
      "deque([[5, 14, 4], [6, 18, 1], [5, 11, 2], [5, 9, 0]])\n",
      "[0, 0, 5, 8, 9, 8]\n",
      "deque([[6, 18, 1], [5, 11, 2], [5, 9, 0], [6, 24, 5]])\n",
      "[0, 0, 5, 8, 9, 8]\n",
      "deque([[5, 11, 2], [5, 9, 0], [6, 24, 5]])\n",
      "[0, 0, 5, 8, 9, 8]\n",
      "deque([[5, 9, 0], [6, 24, 5], [6, 21, 3]])\n",
      "[0, 0, 5, 8, 9, 8]\n",
      "deque([[6, 24, 5], [6, 21, 3], [6, 19, 1]])\n",
      "[0, 0, 5, 8, 9, 9]\n",
      "deque([[6, 21, 3], [6, 19, 1]])\n",
      "[0, 0, 5, 8, 9, 9]\n",
      "deque([[6, 19, 1]])\n",
      "[0, 0, 5, 8, 9, 9]\n",
      "9\n"
     ]
    }
   ],
   "source": [
    "from collections import deque\n",
    "import sys\n",
    "# input = sys.stdin.readline\n",
    "N, M = map(int, input().split())\n",
    "run = [0] + [int(input()) for _ in range(N)]\n",
    "\n",
    "result = [0] * (N+1)\n",
    "\n",
    "queue = deque()\n",
    "queue.append([1, 0, 0])\n",
    "while queue:\n",
    "    # print(queue)\n",
    "    # print(result)\n",
    "    pos, value, cnt = queue.popleft()\n",
    "    if pos > N:\n",
    "        continue\n",
    "    queue.append([pos+1, value+run[pos], cnt+1])\n",
    "    if pos + cnt > N:\n",
    "        continue\n",
    "    result[pos] = max(result[pos], value)\n",
    "    if cnt == 0:\n",
    "        continue\n",
    "    queue.append([pos+cnt, value, 0])\n",
    "\n",
    "print(result[-1])"
   ]
  },
  {
   "cell_type": "code",
   "execution_count": 24,
   "metadata": {},
   "outputs": [
    {
     "name": "stdout",
     "output_type": "stream",
     "text": [
      "8\n",
      "[[0, 0, 0, 0, 0, 0], [0, 5, 0, 0, 0, 0], [0, 5, 8, 0, 0, 0], [0, 5, 8, 12, 0, 0], [0, 5, 8, 12, 14, 0], [0, 5, 8, 12, 14, 24]]\n",
      "0\n"
     ]
    }
   ],
   "source": [
    "from collections import deque\n",
    "import sys\n",
    "input = sys.stdin.readline\n",
    "N, M = map(int, input().split())\n",
    "run = [0] + [int(input()) for _ in range(N)]\n",
    "\n",
    "dp = [[0] * (N+1) for _ in range(N+1)]\n",
    "\n",
    "for i in range(1, N+1):\n",
    "    # dp[i][0] = max(dp[i][0], dp[i-1][0] + run[i])\n",
    "    for j in range(1, i+1):\n",
    "        dp[i][j] = max(dp[i][j], dp[i-1][j-1] + run[j])\n",
    "result = []\n",
    "for i in range(N+1):\n",
    "    result.append(dp[i][N-i])\n",
    "print(max(result))"
   ]
  },
  {
   "cell_type": "code",
   "execution_count": 26,
   "metadata": {},
   "outputs": [
    {
     "name": "stdout",
     "output_type": "stream",
     "text": [
      "24\n",
      "[0, 5, 8, 12, 14, 24]\n"
     ]
    }
   ],
   "source": [
    "from sys import stdin\n",
    "# input = stdin.readline\n",
    "\n",
    "n, m = map(int, input().split())\n",
    "dist = [0] + [int(input()) for _ in range(n)]\n",
    "for i in range(1, n+1):\n",
    "    dist[i] = dist[i-1] + dist[i]\n",
    "\n",
    "dp = [0] * (n+1)\n",
    "\n",
    "for i in range(n):\n",
    "    for j in range(1, m+1):\n",
    "        # if i+j+j <= n:\n",
    "        #     dp[i+j+j] = max(dp[i+j+j], dp[i]+dist[i+j]-dist[i])\n",
    "        if i+j <= n:\n",
    "            dp[i+j] = max(dp[i+j], dp[i]+dist[i+j]-dist[i])\n",
    "    dp[i+1] = max(dp[i+1], dp[i])\n",
    "print(dp[-1])\n",
    "print(dp)\n",
    "\n"
   ]
  },
  {
   "cell_type": "code",
   "execution_count": 27,
   "metadata": {},
   "outputs": [
    {
     "name": "stdout",
     "output_type": "stream",
     "text": [
      "9\n",
      "[0, 0, 5, 5, 9, 9]\n"
     ]
    }
   ],
   "source": [
    "from sys import stdin\n",
    "# input = stdin.readline\n",
    "\n",
    "n, m = map(int, input().split())\n",
    "dist = [0] + [int(input()) for _ in range(n)]\n",
    "for i in range(1, n+1):\n",
    "    dist[i] = dist[i-1] + dist[i]\n",
    "\n",
    "dp = [0] * (n+1)\n",
    "\n",
    "for i in range(n):\n",
    "    for j in range(1, m+1):\n",
    "        # j만큼 달리면 j만큼 쉬어야 하기 때문에 j를 두번 더한다.\n",
    "        if i+j+j <= n:\n",
    "            dp[i+j+j] = max(dp[i+j+j], dp[i]+dist[i+j]-dist[i])\n",
    "    dp[i+1] = max(dp[i+1], dp[i])\n",
    "print(dp[-1])\n",
    "\n"
   ]
  },
  {
   "cell_type": "code",
   "execution_count": null,
   "metadata": {},
   "outputs": [],
   "source": []
  }
 ],
 "metadata": {
  "kernelspec": {
   "display_name": "base",
   "language": "python",
   "name": "python3"
  },
  "language_info": {
   "codemirror_mode": {
    "name": "ipython",
    "version": 3
   },
   "file_extension": ".py",
   "mimetype": "text/x-python",
   "name": "python",
   "nbconvert_exporter": "python",
   "pygments_lexer": "ipython3",
   "version": "3.9.13"
  },
  "orig_nbformat": 4
 },
 "nbformat": 4,
 "nbformat_minor": 2
}
