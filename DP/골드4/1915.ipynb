{
 "cells": [
  {
   "attachments": {},
   "cell_type": "markdown",
   "metadata": {},
   "source": [
    "# 가장 큰 정사각형 (https://www.acmicpc.net/problem/1915)\n",
    "\n",
    "## 문제\n",
    "n×m의 0, 1로 된 배열이 있다. 이 배열에서 1로 된 가장 큰 정사각형의 크기를 구하는 프로그램을 작성하시오.\n",
    "|...|...|...|...|\n",
    "|---|---|---|---|\n",
    "|0|1|0|0|\n",
    "|0|1|1|1|\n",
    "|1|1|1|0|\n",
    "|0|0|1|0|\n",
    "\n",
    "위와 같은 예제에서는 가운데의 2×2 배열이 가장 큰 정사각형이다.\n",
    "\n",
    "## 입력\n",
    "첫째 줄에 n, m(1 ≤ n, m ≤ 1,000)이 주어진다. 다음 n개의 줄에는 m개의 숫자로 배열이 주어진다.\n",
    "\n",
    "## 출력\n",
    "첫째 줄에 가장 큰 정사각형의 넓이를 출력한다."
   ]
  },
  {
   "cell_type": "code",
   "execution_count": 3,
   "metadata": {},
   "outputs": [
    {
     "name": "stdout",
     "output_type": "stream",
     "text": [
      "0\n"
     ]
    }
   ],
   "source": [
    "n, m = map(int, input().split())\n",
    "\n",
    "graph = [list(map(int, input())) for _ in range(n)]\n",
    "\n",
    "max_val = 0\n",
    "for row in range(n):\n",
    "    if graph[row][0] == 1:\n",
    "        max_val = 1\n",
    "        break\n",
    "for col in range(m):\n",
    "    if graph[0][col] == 1:\n",
    "        max_val = 1\n",
    "        break\n",
    "for row in range(1, n):\n",
    "    for col in range(1, m):\n",
    "        if graph[row][col] == 1:\n",
    "            graph[row][col] = min(graph[row-1][col], graph[row][col-1], graph[row-1][col-1]) + 1\n",
    "            max_val = max(graph[row][col], max_val)\n",
    "\n",
    "print(max_val * max_val)"
   ]
  },
  {
   "cell_type": "code",
   "execution_count": null,
   "metadata": {},
   "outputs": [],
   "source": []
  }
 ],
 "metadata": {
  "kernelspec": {
   "display_name": "base",
   "language": "python",
   "name": "python3"
  },
  "language_info": {
   "codemirror_mode": {
    "name": "ipython",
    "version": 3
   },
   "file_extension": ".py",
   "mimetype": "text/x-python",
   "name": "python",
   "nbconvert_exporter": "python",
   "pygments_lexer": "ipython3",
   "version": "3.9.13"
  },
  "orig_nbformat": 4
 },
 "nbformat": 4,
 "nbformat_minor": 2
}
