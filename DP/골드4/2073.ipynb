{
 "cells": [
  {
   "attachments": {},
   "cell_type": "markdown",
   "metadata": {},
   "source": [
    "# 수도배관공사 (https://www.acmicpc.net/problem/2073)\n",
    "\n",
    "## 문제\n",
    "아기염소들이 언덕에서 풀을 뜯고 놀다 보면 항상 도중에 목이 마르곤 했다. 그들은 불편함을 참지 못하고 수도관을 설치하여 거리 D(7 ≤ D ≤ 100,000)만큼 떨어진 곳의 강에서 물을 끌어오기로 했다. 근처의 인간 마을에서 P개(1 ≤ P ≤ 350)의 파이프를 매입했는데, 각각은 길이 Li와 용량 Ci로 나타낼 수 있다. (Li와 Ci는 모두 223보다 작거나 같은 양의 정수이다)\n",
    "\n",
    "파이프들은 일렬로 이어서 수도관 하나로 만들 수 있으며, 이때 수도관의 용량은 그것을 이루는 파이프들의 용량 중 최솟값이 되고, 수도관의 길이는 파이프들 길이의 총합이다.\n",
    "\n",
    "수도관을 한 개 만들어 총 길이가 정확히 D와 같게 할 때, 가능한 최대 수도관 용량을 구하는 프로그램을 작성하시오.\n",
    "\n",
    "## 입력\n",
    "첫째 줄에 D와 P가 주어진다. 두 번째 줄부터 P개의 줄이 차례로 주어지고, 각 줄마다 Li와 Ci가 주어진다. 길이 합이 D가 되게 하는 수도관의 부분집합이 적어도 하나 존재한다.\n",
    "\n",
    "## 출력\n",
    "가능한 최대 수도관 용량을 첫째 줄에 출력한다."
   ]
  },
  {
   "cell_type": "code",
   "execution_count": 8,
   "metadata": {},
   "outputs": [
    {
     "name": "stdout",
     "output_type": "stream",
     "text": [
      "[0, 0, 0, 0, 5, 0, 0, 0]\n",
      "[0, 0, 0, 6, 5, 0, 0, 5]\n",
      "[0, 0, 7, 6, 5, 6, 5, 5]\n",
      "[0, 4, 7, 6, 5, 6, 5, 5]\n",
      "[0, 4, 7, 6, 5, 6, 7, 5]\n",
      "[0, 5, 7, 6, 5, 6, 7, 5]\n",
      "5\n"
     ]
    }
   ],
   "source": [
    "D, P = map(int, input().split())\n",
    "\n",
    "pipes = [list(map(int, input().split())) for _ in range(P)]\n",
    "\n",
    "dp = [0] * (D + 1)\n",
    "for pipe in pipes:\n",
    "    L, C = pipe\n",
    "    for i in range(D, -1, -1):\n",
    "        if dp[i] == 0:\n",
    "            continue\n",
    "        x = i + L\n",
    "        if x <= D:\n",
    "            if dp[x] == -1:\n",
    "                dp[x] = min(dp[i], C)\n",
    "            else:\n",
    "                dp[x] = max(dp[x], min(dp[i], C))\n",
    "    dp[L] = max(dp[L], C)\n",
    "    # print(dp)\n",
    "print(dp[-1])"
   ]
  },
  {
   "cell_type": "code",
   "execution_count": null,
   "metadata": {},
   "outputs": [],
   "source": []
  }
 ],
 "metadata": {
  "kernelspec": {
   "display_name": "base",
   "language": "python",
   "name": "python3"
  },
  "language_info": {
   "codemirror_mode": {
    "name": "ipython",
    "version": 3
   },
   "file_extension": ".py",
   "mimetype": "text/x-python",
   "name": "python",
   "nbconvert_exporter": "python",
   "pygments_lexer": "ipython3",
   "version": "3.9.13"
  },
  "orig_nbformat": 4
 },
 "nbformat": 4,
 "nbformat_minor": 2
}
