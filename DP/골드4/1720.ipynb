{
 "cells": [
  {
   "attachments": {},
   "cell_type": "markdown",
   "metadata": {},
   "source": [
    "# 타일 코드 (https://www.acmicpc.net/problem/1720)\n",
    "\n",
    "문제\n",
    "2×N 크기의 넓은 판을 1×2 (또는 2×1) 크기와 2×2 크기의 타일로 채우려고 한다. 여러 가지 경우가 있을 수 있으므로, 각각을 하나의 코드로 대응시켜서 암호화에 이용하려고 한다.\n",
    "\n",
    "그런데 문제가 생겼다. 넓은 판을 교환하다 보니 좌우 대칭인 경우가 있어, 뒤집히는 경우 코드가 헷갈리게 되는 경우가 발생한 것이다. 예를 들어 아래의 두 경우는 달라 보이지만 좌우 대칭을 이루고 있다.\n",
    "\n",
    "![image](https://www.acmicpc.net/JudgeOnline/upload/201006/xkdlf.PNG)\n",
    "\n",
    "N이 주어지면, 전체 타일 코드의 개수를 구하는 프로그램을 작성하시오. (단, 서로 좌우 대칭을 이루는 중복된 표현은 한 가지 경우로만 처리한다.)\n",
    "\n",
    "입력\n",
    "첫째 줄에 타일의 크기 N(1 ≤ N ≤ 30)이 주어진다.\n",
    "\n",
    "출력\n",
    "첫째 줄에 타일 코드의 개수를 출력한다."
   ]
  },
  {
   "cell_type": "code",
   "execution_count": 8,
   "metadata": {},
   "outputs": [
    {
     "name": "stdout",
     "output_type": "stream",
     "text": [
      "8\n"
     ]
    }
   ],
   "source": [
    "# 홀수 일때는 2*1이 가운데 들어가야 대칭 가능\n",
    "# 짝수는 무조건 대칭 1개는 있음\n",
    "\n",
    "N = int(input())\n",
    "\n",
    "\n",
    "if N == 1:\n",
    "    print(1)\n",
    "elif N == 2:\n",
    "    print(3)\n",
    "else:\n",
    "    dp = [0] * (31)\n",
    "    dp[1] = 1\n",
    "    dp[2] = 3\n",
    "    for i in range(3, (31)):\n",
    "        dp[i] = dp[i-2] * 2 + dp[i-1]\n",
    "    \n",
    "    result = dp[N]\n",
    "    if N % 2 == 0:\n",
    "        max_idx = (N // 2) + 1\n",
    "        result += dp[max_idx]\n",
    "    else:\n",
    "        max_idx = (N // 2)\n",
    "        result += dp[max_idx]\n",
    "    result //= 2\n",
    "    print(result)"
   ]
  },
  {
   "cell_type": "code",
   "execution_count": null,
   "metadata": {},
   "outputs": [],
   "source": []
  }
 ],
 "metadata": {
  "kernelspec": {
   "display_name": "base",
   "language": "python",
   "name": "python3"
  },
  "language_info": {
   "codemirror_mode": {
    "name": "ipython",
    "version": 3
   },
   "file_extension": ".py",
   "mimetype": "text/x-python",
   "name": "python",
   "nbconvert_exporter": "python",
   "pygments_lexer": "ipython3",
   "version": "3.9.13"
  },
  "orig_nbformat": 4
 },
 "nbformat": 4,
 "nbformat_minor": 2
}
