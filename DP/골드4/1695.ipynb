{
 "cells": [
  {
   "attachments": {},
   "cell_type": "markdown",
   "metadata": {},
   "source": [
    "# 펠린드롬 만들기 (https://www.acmicpc.net/problem/1695)\n",
    "\n",
    "## 문제\n",
    "앞에서 뒤로 보나, 뒤에서 앞으로 보나 같은 수열을 팰린드롬 이라고 한다. 예를 들어 {1}, {1, 2, 1}, {1, 2, 2, 1}과 같은 수열은 팰린드롬 이지만, {1, 2, 3}, {1, 2, 3, 2} 등은 팰린드롬이 아니다.\n",
    "\n",
    "한 수열이 주어졌을 때, 이 수열에 최소 개수의 수를 끼워 넣어 팰린드롬을 만들려고 한다. 최소 몇 개의 수를 끼워 넣으면 되는지를 알아내는 프로그램을 작성하시오.\n",
    "\n",
    "## 입력\n",
    "첫째 줄에 수열의 길이 N(1≤N≤5,000)이 주어진다. 다음 줄에는 N개의 수열을 이루는 수들이 주어진다. 각 수들은 int 범위이다.\n",
    "\n",
    "## 출력\n",
    "첫째 줄에 끼워 넣을 수들의 최소 개수를 출력한다."
   ]
  },
  {
   "cell_type": "code",
   "execution_count": 7,
   "metadata": {},
   "outputs": [
    {
     "name": "stdout",
     "output_type": "stream",
     "text": [
      "[[0, 0, 0, 0, 0, 0], [0, 0, 1, 1, 1, 1], [0, 0, 1, 1, 2, 2], [0, 0, 1, 2, 2, 2], [0, 0, 1, 2, 2, 3], [0, 1, 1, 2, 2, 3]]\n",
      "2\n"
     ]
    }
   ],
   "source": [
    "N = int(input())\n",
    "\n",
    "seq = list(map(int, input().split()))\n",
    "\n",
    "dp = [[0] * (N+1) for _ in range(N+1)]\n",
    "\n",
    "for row in range(1, N+1):\n",
    "    for col in range(1, N+1):\n",
    "        if seq[-row] == seq[col-1]:\n",
    "            dp[row][col] = dp[row-1][col-1] + 1\n",
    "        else:\n",
    "            dp[row][col] = max(dp[row-1][col], dp[row][col-1])\n",
    "\n",
    "print(N-dp[-1][-1])"
   ]
  },
  {
   "cell_type": "code",
   "execution_count": null,
   "metadata": {},
   "outputs": [],
   "source": []
  }
 ],
 "metadata": {
  "kernelspec": {
   "display_name": "base",
   "language": "python",
   "name": "python3"
  },
  "language_info": {
   "codemirror_mode": {
    "name": "ipython",
    "version": 3
   },
   "file_extension": ".py",
   "mimetype": "text/x-python",
   "name": "python",
   "nbconvert_exporter": "python",
   "pygments_lexer": "ipython3",
   "version": "3.9.13"
  },
  "orig_nbformat": 4
 },
 "nbformat": 4,
 "nbformat_minor": 2
}
