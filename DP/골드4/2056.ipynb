{
 "cells": [
  {
   "attachments": {},
   "cell_type": "markdown",
   "metadata": {},
   "source": [
    "# 작업 (https://www.acmicpc.net/problem/2056)\n",
    "\n",
    "## 문제\n",
    "수행해야 할 작업 N개 (3 ≤ N ≤ 10000)가 있다. 각각의 작업마다 걸리는 시간(1 ≤ 시간 ≤ 100)이 정수로 주어진다.\n",
    "\n",
    "몇몇 작업들 사이에는 선행 관계라는 게 있어서, 어떤 작업을 수행하기 위해 반드시 먼저 완료되어야 할 작업들이 있다. 이 작업들은 번호가 아주 예쁘게 매겨져 있어서, K번 작업에 대해 선행 관계에 있는(즉, K번 작업을 시작하기 전에 반드시 먼저 완료되어야 하는) 작업들의 번호는 모두 1 이상 (K-1) 이하이다. 작업들 중에는, 그것에 대해 선행 관계에 있는 작업이 하나도 없는 작업이 반드시 하나 이상 존재한다. (1번 작업이 항상 그러하다)\n",
    "\n",
    "모든 작업을 완료하기 위해 필요한 최소 시간을 구하여라. 물론, 서로 선행 관계가 없는 작업들은 동시에 수행 가능하다.\n",
    "\n",
    "## 입력\n",
    "첫째 줄에 N이 주어진다.\n",
    "\n",
    "두 번째 줄부터 N+1번째 줄까지 N개의 줄이 주어진다. 2번째 줄은 1번 작업, 3번째 줄은 2번 작업, ..., N+1번째 줄은 N번 작업을 각각 나타낸다. 각 줄의 처음에는, 해당 작업에 걸리는 시간이 먼저 주어지고, 그 다음에 그 작업에 대해 선행 관계에 있는 작업들의 개수(0 ≤ 개수 ≤ 100)가 주어진다. 그리고 선행 관계에 있는 작업들의 번호가 주어진다.\n",
    "\n",
    "## 출력\n",
    "첫째 줄에 모든 작업을 완료하기 위한 최소 시간을 출력한다.\n"
   ]
  },
  {
   "cell_type": "code",
   "execution_count": 4,
   "metadata": {},
   "outputs": [
    {
     "name": "stdout",
     "output_type": "stream",
     "text": [
      "[[[0, 0], []], [[5, 0], [2, 4]], [[1, 5], [3, 5, 6]], [[3, 6], [7]], [[6, 5], [5, 6]], [[1, 11], [7]], [[8, 11], [7]], [[4, 19], []]]\n",
      "23\n"
     ]
    }
   ],
   "source": [
    "# import sys\n",
    "# input = sys.stdin.readline\n",
    "N = int(input())\n",
    "\n",
    "dp = [[[0, 0], []] for _ in range(N+1)] # [[길이, 위치] [뒤에 오는 작업]]\n",
    "\n",
    "for i in range(1, N+1):\n",
    "    data = list(map(int, input().split()))\n",
    "    dp[i][0][0] = data[0]\n",
    "    if data[1] != 0:\n",
    "        for num in data[2:]:\n",
    "            dp[num][1].append(i)\n",
    "\n",
    "result = 0\n",
    "for i in range(1, N+1):\n",
    "    length = dp[i][0][0] + dp[i][0][1]\n",
    "    if dp[i][1] == []:\n",
    "        result = max(result, length)\n",
    "    else:\n",
    "        for num in dp[i][1]:\n",
    "            dp[num][0][1] = max(dp[num][0][1], length)\n",
    "# print(dp)\n",
    "print(result)"
   ]
  },
  {
   "cell_type": "code",
   "execution_count": null,
   "metadata": {},
   "outputs": [],
   "source": []
  }
 ],
 "metadata": {
  "kernelspec": {
   "display_name": "base",
   "language": "python",
   "name": "python3"
  },
  "language_info": {
   "codemirror_mode": {
    "name": "ipython",
    "version": 3
   },
   "file_extension": ".py",
   "mimetype": "text/x-python",
   "name": "python",
   "nbconvert_exporter": "python",
   "pygments_lexer": "ipython3",
   "version": "3.9.13"
  },
  "orig_nbformat": 4
 },
 "nbformat": 4,
 "nbformat_minor": 2
}
