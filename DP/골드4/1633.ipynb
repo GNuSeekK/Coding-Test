{
 "cells": [
  {
   "attachments": {},
   "cell_type": "markdown",
   "metadata": {},
   "source": [
    "# 최고의 팀 만들기 (https://www.acmicpc.net/problem/1633)\n",
    "\n",
    "## 문제\n",
    "꿍 협회는 매년 세계체스대회에 나갈 팀을 만들고 있다. 팀은 흑으로 플레이하는 15명과 백으로 플레이하는 15명, 총 30명으로 이루어진다. 꿍 협회는 가능한 최고의 팀을 만들려고 하는데 각 플레이어의 흑,백 능력치는 각각 1부터 100까지의 정수로 주어진다. 대회가 진행되는 동안 플레이어는 흑, 백 중 한 가지만으로 참여를 해야하며 팀의 전체 능력치는 흑 플레이어의 능력치를 합한것과 백 플레이어의 능력치를 합한것을 모두 더한 값이다. 어떻게 하면 꿍 협회는 가능한 높은 능력치의 팀을 만들수 있을까.\n",
    "\n",
    "## 입력\n",
    "입력은 각 플레이어들의 능력치로 이루어진다. 각 줄은 공백으로 구분되는 두 개의 정수로 주어진다. 첫 번째 숫자는 해당 플레이어가 백으로 플레이를 할 때 능력치고 두 번째 숫자는 흑으로 플레이를 할 때의 능력치다. 최소한 30줄 이상이며 1000줄은 넘지 않는다.\n",
    "\n",
    "## 출력\n",
    "꿍 협회가 만들 수 있는 팀 중 가장 큰 능력치를 갖는 팀의 능력치를 출력한다."
   ]
  },
  {
   "cell_type": "code",
   "execution_count": 1,
   "metadata": {},
   "outputs": [
    {
     "name": "stdout",
     "output_type": "stream",
     "text": [
      "2506\n"
     ]
    }
   ],
   "source": [
    "import sys\n",
    "\n",
    "players = []\n",
    "for idx, line in enumerate(sys.stdin):\n",
    "    players.append(list(map(int, line.split())))\n",
    "\n",
    "# players = [\n",
    "#     [87, 84],\n",
    "#     [66, 78],\n",
    "#     [86, 94],\n",
    "#     [93, 87],\n",
    "#     [72, 100],\n",
    "#     [78, 63],\n",
    "#     [60, 91],\n",
    "#     [77, 64],\n",
    "#     [77, 91],\n",
    "#     [87, 73],\n",
    "#     [69, 62],\n",
    "#     [80, 68],\n",
    "#     [81, 83],\n",
    "#     [74, 63],\n",
    "#     [86, 68],\n",
    "#     [53, 80],\n",
    "#     [59, 73],\n",
    "#     [68, 70],\n",
    "#     [57, 94],\n",
    "#     [93, 62],\n",
    "#     [74, 80],\n",
    "#     [70, 72],\n",
    "#     [88, 85],\n",
    "#     [75, 99],\n",
    "#     [71, 66],\n",
    "#     [77, 64],\n",
    "#     [81, 92],\n",
    "#     [74, 57],\n",
    "#     [71, 63],\n",
    "#     [82, 97],\n",
    "#     [76, 56],\n",
    "# ]\n",
    "result = [[[0] * 16 for _ in range(16)] for _ in range(31)]\n",
    "for player in players:\n",
    "    white, black = player\n",
    "    for num in range(30, 0, -1):\n",
    "        for white_num in range(0, 16):\n",
    "            for black_num in range(0, 16):\n",
    "                if white_num + black_num > num:\n",
    "                    continue\n",
    "                tmp = [result[num][white_num][black_num]]\n",
    "                if white_num != 0:\n",
    "                    tmp.append(result[num-1][white_num-1][black_num] + white)\n",
    "                if black_num != 0:\n",
    "                    tmp.append(result[num-1][white_num][black_num-1] + black)\n",
    "                result[num][white_num][black_num] = max(tmp)\n",
    "print(result[-1][-1][-1])\n"
   ]
  },
  {
   "cell_type": "code",
   "execution_count": null,
   "metadata": {},
   "outputs": [],
   "source": [
    "\n",
    "# players = [\n",
    "#     [87, 84],\n",
    "#     [66, 78],\n",
    "#     [86, 94],\n",
    "#     [93, 87],\n",
    "#     [72, 100],\n",
    "#     [78, 63],\n",
    "#     [60, 91],\n",
    "#     [77, 64],\n",
    "#     [77, 91],\n",
    "#     [87, 73],\n",
    "#     [69, 62],\n",
    "#     [80, 68],\n",
    "#     [81, 83],\n",
    "#     [74, 63],\n",
    "#     [86, 68],\n",
    "#     [53, 80],\n",
    "#     [59, 73],\n",
    "#     [68, 70],\n",
    "#     [57, 94],\n",
    "#     [93, 62],\n",
    "#     [74, 80],\n",
    "#     [70, 72],\n",
    "#     [88, 85],\n",
    "#     [75, 99],\n",
    "#     [71, 66],\n",
    "#     [77, 64],\n",
    "#     [81, 92],\n",
    "#     [74, 57],\n",
    "#     [71, 63],\n",
    "#     [82, 97],\n",
    "#     [76, 56],\n",
    "# ]"
   ]
  }
 ],
 "metadata": {
  "kernelspec": {
   "display_name": "base",
   "language": "python",
   "name": "python3"
  },
  "language_info": {
   "codemirror_mode": {
    "name": "ipython",
    "version": 3
   },
   "file_extension": ".py",
   "mimetype": "text/x-python",
   "name": "python",
   "nbconvert_exporter": "python",
   "pygments_lexer": "ipython3",
   "version": "3.9.13"
  },
  "orig_nbformat": 4
 },
 "nbformat": 4,
 "nbformat_minor": 2
}
