{
 "cells": [
  {
   "attachments": {},
   "cell_type": "markdown",
   "metadata": {},
   "source": [
    "# 숫자카드 (https://www.acmicpc.net/problem/2591)\n",
    "\n",
    "## 문제\n",
    "1부터 34까지 수가 적힌 카드가 충분히 많이 있다. 이들 중 몇 장을 일렬로 늘어놓고, 그 숫자를 차례로 적었다. 예를 들어 아래와 같이 카드가 놓인 경우 숫자를 차례로 적으면 27123이 된다.\n",
    "\n",
    "![image](https://upload.acmicpc.net/b38581e3-c174-4675-bce2-796b0beb989b/-/preview/)\n",
    "\n",
    "나중에, 적어 놓은 것에 맞게 다시 카드를 늘어놓으려고 보니, 방법이 여러 가지일 수 있다는 것을 알았다. 예를 들어 27123의 경우 아래와 같이 여섯 가지 다른 방법이 있다.\n",
    "\n",
    "![image](https://upload.acmicpc.net/23d68675-e8dd-46c3-badc-8eaa0a86cc6f/-/preview/)\n",
    "\n",
    "\n",
    "카드의 숫자를 차례로 적어 놓은 것이 주어질 때, 위와 같이 그것을 가지고 거꾸로 카드의 배열을 찾으려고 한다. 가능한 카드의 배열이 모두 몇 개인지 구하는 프로그램을 작성하시오.\n",
    "\n",
    "## 입력\n",
    "첫 줄에 카드의 숫자를 차례로 적어 놓은 것이 주어지며, 이것은 최대 40자 이하의 숫자로 이루어진다.\n",
    "\n",
    "## 출력\n",
    "첫 줄에 가능한 카드 배열이 몇 개인지를 출력한다."
   ]
  },
  {
   "cell_type": "code",
   "execution_count": 24,
   "metadata": {},
   "outputs": [
    {
     "name": "stdout",
     "output_type": "stream",
     "text": [
      "['35']\n",
      "[3, 5]\n",
      "12\n",
      "[1, 2]\n",
      "[1, 2]\n",
      "2\n"
     ]
    }
   ],
   "source": [
    "values = input()\n",
    "\n",
    "if len(values) == 1:\n",
    "    print(1)\n",
    "else:\n",
    "    values = values.split('0')\n",
    "    if len(values) != 1:\n",
    "        values = list(map(lambda x: x[:-1], values[:-1])) + values[-1:]\n",
    "    result = 1\n",
    "    for nums in values:\n",
    "        if nums == '':\n",
    "            continue\n",
    "        nums = list(map(int, nums))\n",
    "        if len(nums) == 1:\n",
    "            continue\n",
    "        dp = [0] * len(nums)\n",
    "        dp[0] = 1\n",
    "        if nums[0] * 10 + nums[1] > 34:\n",
    "            dp[1] = 1\n",
    "        else:\n",
    "            dp[1] = 2\n",
    "        for idx, num in enumerate(nums[2:]):\n",
    "            idx += 2\n",
    "            if nums[idx-1] * 10 + nums[idx] > 34:\n",
    "                dp[idx] = dp[idx-1]\n",
    "            else:\n",
    "                dp[idx] = dp[idx-1] + dp[idx-2]\n",
    "        result *= dp[-1]\n",
    "\n",
    "print(result)"
   ]
  },
  {
   "cell_type": "code",
   "execution_count": null,
   "metadata": {},
   "outputs": [],
   "source": [
    "1012035\n",
    "10 1 20 3 5"
   ]
  }
 ],
 "metadata": {
  "kernelspec": {
   "display_name": "base",
   "language": "python",
   "name": "python3"
  },
  "language_info": {
   "codemirror_mode": {
    "name": "ipython",
    "version": 3
   },
   "file_extension": ".py",
   "mimetype": "text/x-python",
   "name": "python",
   "nbconvert_exporter": "python",
   "pygments_lexer": "ipython3",
   "version": "3.9.13"
  },
  "orig_nbformat": 4
 },
 "nbformat": 4,
 "nbformat_minor": 2
}
