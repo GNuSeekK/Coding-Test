{
 "cells": [
  {
   "attachments": {},
   "cell_type": "markdown",
   "metadata": {},
   "source": [
    "# 내려가기"
   ]
  },
  {
   "cell_type": "code",
   "execution_count": 7,
   "metadata": {},
   "outputs": [
    {
     "name": "stdout",
     "output_type": "stream",
     "text": [
      "18 6\n"
     ]
    }
   ],
   "source": [
    "N = int(input())\n",
    "\n",
    "graph = [list(map(int, input().split())) for _ in range(N)] # graph [N] [3]\n",
    "INF = 1000000 # 최대 900000 이므로\n",
    "max_graph = graph[0]\n",
    "min_graph = graph[0]\n",
    "\n",
    "for row in range(1, N):\n",
    "    \n",
    "    new_max = []\n",
    "    new_min = []\n",
    "    # 0 번 위치일 때\n",
    "    new_max.append(max(max_graph[:2]) + graph[row][0])\n",
    "    new_min.append(min(min_graph[:2]) + graph[row][0])\n",
    "    \n",
    "    # 1 번 위치일 때\n",
    "    new_max.append(max(max_graph) + graph[row][1])\n",
    "    new_min.append(min(min_graph) + graph[row][1])\n",
    "    \n",
    "    # 2 번 위치일 때\n",
    "    new_max.append(max(max_graph[1:]) + graph[row][2])\n",
    "    new_min.append(min(min_graph[1:]) + graph[row][2])\n",
    "    \n",
    "    max_graph = new_max\n",
    "    min_graph = new_min\n",
    "\n",
    "print(max(max_graph), min(min_graph))"
   ]
  },
  {
   "cell_type": "code",
   "execution_count": null,
   "metadata": {},
   "outputs": [],
   "source": []
  }
 ],
 "metadata": {
  "kernelspec": {
   "display_name": "base",
   "language": "python",
   "name": "python3"
  },
  "language_info": {
   "codemirror_mode": {
    "name": "ipython",
    "version": 3
   },
   "file_extension": ".py",
   "mimetype": "text/x-python",
   "name": "python",
   "nbconvert_exporter": "python",
   "pygments_lexer": "ipython3",
   "version": "3.9.13"
  },
  "orig_nbformat": 4
 },
 "nbformat": 4,
 "nbformat_minor": 2
}
