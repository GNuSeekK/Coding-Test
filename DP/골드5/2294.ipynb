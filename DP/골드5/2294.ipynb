{
 "cells": [
  {
   "attachments": {},
   "cell_type": "markdown",
   "metadata": {},
   "source": [
    "# 동전 2 (https://www.acmicpc.net/problem/2294)\n",
    "\n",
    "## 문제\n",
    "n가지 종류의 동전이 있다. 이 동전들을 적당히 사용해서, 그 가치의 합이 k원이 되도록 하고 싶다. 그러면서 동전의 개수가 최소가 되도록 하려고 한다. 각각의 동전은 몇 개라도 사용할 수 있다.\n",
    "\n",
    "사용한 동전의 구성이 같은데, 순서만 다른 것은 같은 경우이다.\n",
    "\n",
    "## 입력\n",
    "첫째 줄에 n, k가 주어진다. (1 ≤ n ≤ 100, 1 ≤ k ≤ 10,000) 다음 n개의 줄에는 각각의 동전의 가치가 주어진다. 동전의 가치는 100,000보다 작거나 같은 자연수이다. 가치가 같은 동전이 여러 번 주어질 수도 있다.\n",
    "\n",
    "## 출력\n",
    "첫째 줄에 사용한 동전의 최소 개수를 출력한다. 불가능한 경우에는 -1을 출력한다."
   ]
  },
  {
   "cell_type": "code",
   "execution_count": 8,
   "metadata": {},
   "outputs": [
    {
     "name": "stdout",
     "output_type": "stream",
     "text": [
      "3\n"
     ]
    }
   ],
   "source": [
    "n, k = map(int, input().split())\n",
    "\n",
    "inf = 1e9\n",
    "dp = [inf] * (k + 1)\n",
    "\n",
    "coins = [int(input()) for _ in range(n)]\n",
    "coins = [x for x in coins if x <= k]\n",
    "for coin in coins:\n",
    "    dp[coin] = 1\n",
    "    \n",
    "for i in range(2, k + 1):\n",
    "    for coin in coins: \n",
    "        for idx in range(k+1-coin):\n",
    "            dp[coin+idx] = min(dp[coin+idx], dp[idx] + 1)\n",
    "    if dp[-1] != inf:\n",
    "        break\n",
    "\n",
    "if dp[-1] == inf:\n",
    "    print(-1)\n",
    "else:\n",
    "    print(dp[-1])"
   ]
  },
  {
   "cell_type": "code",
   "execution_count": 5,
   "metadata": {},
   "outputs": [
    {
     "data": {
      "text/plain": [
       "1000000000.0"
      ]
     },
     "execution_count": 5,
     "metadata": {},
     "output_type": "execute_result"
    }
   ],
   "source": [
    "inf"
   ]
  }
 ],
 "metadata": {
  "kernelspec": {
   "display_name": "base",
   "language": "python",
   "name": "python3"
  },
  "language_info": {
   "codemirror_mode": {
    "name": "ipython",
    "version": 3
   },
   "file_extension": ".py",
   "mimetype": "text/x-python",
   "name": "python",
   "nbconvert_exporter": "python",
   "pygments_lexer": "ipython3",
   "version": "3.9.13"
  },
  "orig_nbformat": 4
 },
 "nbformat": 4,
 "nbformat_minor": 2
}
