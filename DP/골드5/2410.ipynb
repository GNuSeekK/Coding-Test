{
 "cells": [
  {
   "attachments": {},
   "cell_type": "markdown",
   "metadata": {},
   "source": [
    "# 2의 멱수의 합 (https://www.acmicpc.net/problem/2410)\n",
    "\n",
    "\n",
    "## 문제\n",
    "어떤 자연수 N을 2의 멱수의 합으로 나타내는 경우의 수를 구하는 프로그램을 작성하시오. 2의 멱수라는 것은, 2^k으로 표현되는 자연수를 의미한다.\n",
    "\n",
    "예를 들어 7을 2의 멱수의 합으로 나타내는 경우의 수는 다음의 여섯 가지가 있다.\n",
    "\n",
    "1. 1+1+1+1+1+1+1\n",
    "2. 1+1+1+1+1+2\n",
    "3. 1+1+1+2+2\n",
    "4. 1+1+1+4\n",
    "5. 1+2+2+2\n",
    "6. 1+2+4\n",
    "\n",
    "## 입력\n",
    "첫째 줄에 N(1 ≤ N ≤ 1,000,000)이 주어진다.\n",
    "\n",
    "\n",
    "## 출력\n",
    "첫째 줄에 경우의 수를 출력한다. 답이 커질 수 있으므로 1,000,000,000으로 나눈 나머지를 출력한다."
   ]
  },
  {
   "cell_type": "code",
   "execution_count": 18,
   "metadata": {},
   "outputs": [
    {
     "name": "stdout",
     "output_type": "stream",
     "text": [
      "4\n"
     ]
    }
   ],
   "source": [
    "N = int(input())\n",
    "\n",
    "dp = [0] * (N+1)\n",
    "dp[0] = 1\n",
    "nums = [2 ** x for x in range(0, 20) if 2 ** x <= N]\n",
    "for num in nums:\n",
    "    for i in range(num, N+1):\n",
    "        dp[i] += dp[i-num] % 1000000000\n",
    "    # print(num, dp)\n",
    "# print(dp)\n",
    "print(dp[-1] % 1000000000)\n"
   ]
  },
  {
   "cell_type": "code",
   "execution_count": null,
   "metadata": {},
   "outputs": [],
   "source": []
  }
 ],
 "metadata": {
  "kernelspec": {
   "display_name": "base",
   "language": "python",
   "name": "python3"
  },
  "language_info": {
   "codemirror_mode": {
    "name": "ipython",
    "version": 3
   },
   "file_extension": ".py",
   "mimetype": "text/x-python",
   "name": "python",
   "nbconvert_exporter": "python",
   "pygments_lexer": "ipython3",
   "version": "3.9.13"
  },
  "orig_nbformat": 4
 },
 "nbformat": 4,
 "nbformat_minor": 2
}
