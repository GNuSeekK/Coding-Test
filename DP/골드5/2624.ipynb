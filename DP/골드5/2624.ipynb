{
 "cells": [
  {
   "attachments": {},
   "cell_type": "markdown",
   "metadata": {},
   "source": [
    "# 동전 바꿔주기 (https://www.acmicpc.net/problem/2624)\n",
    "\n",
    "# 문제\n",
    "명보네 동네 가게의 현금 출납기에는 k 가지 동전이 각각 n1, n2, … , nk개 씩 들어있다. 가게 주인은 명보에게 T원의 지폐를 동전으로 바꿔 주려고 한다. 이때, 동전 교환 방법은 여러 가지가 있을 수 있다. 예를 들어, 10원 짜리, 5원 짜리, 1원 짜리 동전이 각각 2개, 3개, 5개씩 있을 때, 20원 짜리 지폐를 다음과 같은 4가지 방법으로 교환할 수 있다.\n",
    "\n",
    "* 20 = 10×2 \n",
    "* 20 = 10×1 + 5×2 \n",
    "* 20 = 10×1 + 5×1 + 1×5 \n",
    "* 20 = 5×3 + 1×5\n",
    "\n",
    "\n",
    "입력으로 지폐의 금액 T, 동전의 가지 수 k, 각 동전 하나의 금액 pi와 개수 ni가 주어질 때 (i=1, 2,…, k) 지폐를 동전으로 교환하는 방법의 가지 수를 계산하는 프로그램을 작성하시오. 방법의 수는 231-1을 초과 하지 않는 것으로 가정한다.\n",
    "\n",
    "# 입력\n",
    "첫째 줄에는 지폐의 금액 T(0＜T ≤ 10,000), 둘째 줄에는 동전의 가지 수 k(0＜k ≤ 100), 셋째 줄부터 마지막 줄까지는 각 줄에 동전의 금액 pi(0＜pi ≤ T)와 개수 ni(0＜ni ≤ 1,000)가 주어진다. pi와 ni사이에는 빈칸이 하나씩 있다.\n",
    "\n",
    "# 출력\n",
    "첫째 줄에 동전 교환 방법의 가지 수를 출력한다. 방법이 없을 때는 0을 출력한다."
   ]
  },
  {
   "cell_type": "code",
   "execution_count": 3,
   "metadata": {},
   "outputs": [
    {
     "name": "stdout",
     "output_type": "stream",
     "text": [
      "4\n"
     ]
    }
   ],
   "source": [
    "T = int(input())\n",
    "K = int(input())\n",
    "\n",
    "coins = [tuple(map(int, input().split())) for _ in range(K)]\n",
    "coins = [x for x in coins if x[0] <= T]\n",
    "coins.sort()\n",
    "dp = [0] * (T + 1)\n",
    "dp[0] = 1\n",
    "for coin in coins:\n",
    "    value, num = coin\n",
    "    cnt = 0\n",
    "    values = [value * i for i in range(1, num + 1)]\n",
    "    for idx in range(T, -1, -1):\n",
    "        for value in values:\n",
    "            new_idx = idx + value\n",
    "            if new_idx <= T:\n",
    "                dp[new_idx] = dp[new_idx] + dp[idx]\n",
    "            else:\n",
    "                break\n",
    "        \n",
    "print(dp[-1])"
   ]
  },
  {
   "cell_type": "code",
   "execution_count": null,
   "metadata": {},
   "outputs": [],
   "source": [
    "10 10\n",
    "10 5 5\n",
    "10 5 1 1 1 1 1\n",
    "5 5 5 1 1 1 1 1\n",
    "\n",
    "10\n",
    "5 5\n",
    "5 1 1 1 1 1\n",
    "\n",
    "5\n",
    "11111\n",
    "\n",
    "55\n",
    "111115\n"
   ]
  }
 ],
 "metadata": {
  "kernelspec": {
   "display_name": "base",
   "language": "python",
   "name": "python3"
  },
  "language_info": {
   "codemirror_mode": {
    "name": "ipython",
    "version": 3
   },
   "file_extension": ".py",
   "mimetype": "text/x-python",
   "name": "python",
   "nbconvert_exporter": "python",
   "pygments_lexer": "ipython3",
   "version": "3.9.13"
  },
  "orig_nbformat": 4,
  "vscode": {
   "interpreter": {
    "hash": "373cf7882dd2b0ff748586fb9d2cdbd1307e11ee18f08b7fa9dde6b6aa014345"
   }
  }
 },
 "nbformat": 4,
 "nbformat_minor": 2
}
