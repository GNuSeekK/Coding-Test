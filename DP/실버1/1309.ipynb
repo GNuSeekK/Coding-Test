{
 "cells": [
  {
   "attachments": {},
   "cell_type": "markdown",
   "metadata": {},
   "source": [
    "# 동물원\n",
    "\n",
    "## 문제\n",
    "어떤 동물원에 가로로 두칸 세로로 N칸인 아래와 같은 우리가 있다.\n",
    "\n",
    "\n",
    "\n",
    "이 동물원에는 사자들이 살고 있는데 사자들을 우리에 가둘 때, 가로로도 세로로도 붙어 있게 배치할 수는 없다. 이 동물원 조련사는 사자들의 배치 문제 때문에 골머리를 앓고 있다.\n",
    "\n",
    "동물원 조련사의 머리가 아프지 않도록 우리가 2*N 배열에 사자를 배치하는 경우의 수가 몇 가지인지를 알아내는 프로그램을 작성해 주도록 하자. 사자를 한 마리도 배치하지 않는 경우도 하나의 경우의 수로 친다고 가정한다.\n",
    "\n",
    "## 입력\n",
    "첫째 줄에 우리의 크기 N(1≤N≤100,000)이 주어진다.\n",
    "\n",
    "## 출력\n",
    "첫째 줄에 사자를 배치하는 경우의 수를 9901로 나눈 나머지를 출력하여라."
   ]
  },
  {
   "cell_type": "code",
   "execution_count": 3,
   "metadata": {},
   "outputs": [
    {
     "name": "stdout",
     "output_type": "stream",
     "text": [
      "[[1, 1], [4, 4], [14, 14], [50, 50]]\n",
      "[[1, 1], [3, 3], [11, 11], [39, 39]]\n",
      "178\n"
     ]
    }
   ],
   "source": [
    "N = int(input())\n",
    "cage = [[0, 0, 0] for _ in range(N)]\n",
    "cage[0] = [1, 1, 1] # 둘다없음, 왼쪽, 오른쪽\n",
    "for i in range(1, N):\n",
    "    cage[i][0] = sum(cage[i-1]) % 9901\n",
    "    cage[i][1] = cage[i-1][0] + cage[i-1][2] % 9901\n",
    "    cage[i][2] = cage[i-1][0] + cage[i-1][1] % 9901\n",
    "print(sum(cage[-1]) % 9901)\n"
   ]
  },
  {
   "cell_type": "code",
   "execution_count": null,
   "metadata": {},
   "outputs": [],
   "source": []
  }
 ],
 "metadata": {
  "kernelspec": {
   "display_name": "base",
   "language": "python",
   "name": "python3"
  },
  "language_info": {
   "codemirror_mode": {
    "name": "ipython",
    "version": 3
   },
   "file_extension": ".py",
   "mimetype": "text/x-python",
   "name": "python",
   "nbconvert_exporter": "python",
   "pygments_lexer": "ipython3",
   "version": "3.9.13"
  },
  "orig_nbformat": 4
 },
 "nbformat": 4,
 "nbformat_minor": 2
}
