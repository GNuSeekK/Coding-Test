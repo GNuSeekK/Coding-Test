{
 "cells": [
  {
   "attachments": {},
   "cell_type": "markdown",
   "metadata": {},
   "source": [
    "# 캡틴 이다솜\n",
    "\n",
    "## 문제\n",
    "캡틴 이다솜은 자신의 해적선에 적을 공격하기 위한 대포알을 많이 보관해 놓는다. 다솜이는 미적감각이 뛰어나기 때문에, 대포알은 반드시 사면체 모양으로 쌓아놓아야 한다고 생각한다. 사면체를 만드는 방법은 길이가 N인 정삼각형 모양을 만든다. 그 위에 길이가 N-1인 정삼각형 모양을 얹고 그위에 계속 해서 얹어서 1크기의 정삼각형 모양을 얹으면 된다.\n",
    "\n",
    "예를 들어, 사이즈가 3크기의 한 더미 모양은 다음과 같다.\n",
    "```\n",
    "  X\n",
    "\n",
    "  X\n",
    " X X\n",
    "\n",
    "  X\n",
    " X X\n",
    "X X X\n",
    "```\n",
    "각각의 삼각형은 1, 3, 6, 10 ,..... 와 같이 대포알을 가지고 있다. 따라서 완벽하게 쌓았을 때, 한 사면체에는 1, 4, 10, 20 ,.... 개를 가지고 있을 것이다.\n",
    "\n",
    "현재 다솜이의 해적선에 대포알이 N개가 있다. 다솜이는 영식이를 시켜서 사면체를 만들게 하고 싶다. 영식이는 물론 하기 싫지만 어쩔수 없이 다솜이가 시키는대로 사면체를 가능한 최소 개수 만큼 만들려고 한다. N개의 대포알로 만들 수 있는 사면체의 최소 개수를 출력하는 프로그램을 작성하시오.\n",
    "\n",
    "## 입력\n",
    "첫째 줄에 입력 N이 들어온다. N은 300,000보다 작거나 같은 자연수이다.\n",
    "\n",
    "## 출력\n",
    "첫째 줄에 영식이가 만들 수 있는 사면체 개수의 최솟값을 출력한다."
   ]
  },
  {
   "cell_type": "code",
   "execution_count": 18,
   "metadata": {},
   "outputs": [
    {
     "name": "stdout",
     "output_type": "stream",
     "text": [
      "[0, 1, 2, 3, 1, 2, 3, 4, 2, 3, 1, 2, 3, 4, 2, 3, 4, 5, 3, 4, 1, 2, 3, 4, 2, 3, 4, 5, 3, 4, 2, 3, 4, 5, 3, 1, 2, 3, 4, 2, 2, 3, 4, 3, 3, 2, 3, 4, 4, 3, 3, 4, 5, 4, 4, 2, 1, 2, 3, 3, 2, 3, 4, 4, 3, 3, 2, 3, 4, 4, 2, 3, 4, 5, 3, 3, 2, 3, 4, 4, 3, 4, 5, 5, 1, 2, 3, 4, 2, 3, 3, 2]\n",
      "2\n"
     ]
    }
   ],
   "source": [
    "N = int(input())\n",
    "numbers = [1]\n",
    "num = 1\n",
    "for i in range(2, 300000):\n",
    "    num += i\n",
    "    sum_num = numbers[-1] + num\n",
    "    if sum_num > 300000:\n",
    "        break\n",
    "    numbers.append(sum_num)\n",
    "# numbers.sort(reverse=True)\n",
    "dp = [i for i in range(N+1)]\n",
    "for i in range(N+1):\n",
    "    for num in numbers:\n",
    "        new_i = i + num\n",
    "        cnt = 1\n",
    "        while new_i <= N:\n",
    "            dp[new_i] = min(dp[new_i], dp[i]+cnt)\n",
    "            new_i = new_i + num\n",
    "            cnt += 1\n",
    "\n",
    "print(dp[-1])"
   ]
  },
  {
   "cell_type": "code",
   "execution_count": 23,
   "metadata": {},
   "outputs": [
    {
     "name": "stdout",
     "output_type": "stream",
     "text": [
      "2\n"
     ]
    }
   ],
   "source": [
    "N = int(input())\n",
    "numbers = [1]\n",
    "num = 1\n",
    "for i in range(2, 300000):\n",
    "    num += i\n",
    "    sum_num = numbers[-1] + num\n",
    "    if sum_num > N:\n",
    "        break\n",
    "    numbers.append(sum_num)\n",
    "# numbers.sort(reverse=True)\n",
    "dp = [i for i in range(N+1)]\n",
    "\n",
    "for i in range(2, N+1):\n",
    "    for num in numbers:\n",
    "        if num > i:\n",
    "            break\n",
    "        \n",
    "        dp[i] = min(dp[i], dp[i-num] + 1)\n",
    "print(dp[-1])"
   ]
  },
  {
   "cell_type": "code",
   "execution_count": null,
   "metadata": {},
   "outputs": [],
   "source": []
  }
 ],
 "metadata": {
  "kernelspec": {
   "display_name": "base",
   "language": "python",
   "name": "python3"
  },
  "language_info": {
   "codemirror_mode": {
    "name": "ipython",
    "version": 3
   },
   "file_extension": ".py",
   "mimetype": "text/x-python",
   "name": "python",
   "nbconvert_exporter": "python",
   "pygments_lexer": "ipython3",
   "version": "3.9.13"
  },
  "orig_nbformat": 4
 },
 "nbformat": 4,
 "nbformat_minor": 2
}
