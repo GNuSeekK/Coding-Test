{
 "cells": [
  {
   "attachments": {},
   "cell_type": "markdown",
   "metadata": {},
   "source": [
    "# 지름길\n",
    "\n",
    "## 문제\n",
    "매일 아침, 세준이는 학교에 가기 위해서 차를 타고 D킬로미터 길이의 고속도로를 지난다. 이 고속도로는 심각하게 커브가 많아서 정말 운전하기도 힘들다. 어느 날, 세준이는 이 고속도로에 지름길이 존재한다는 것을 알게 되었다. 모든 지름길은 일방통행이고, 고속도로를 역주행할 수는 없다.\n",
    "\n",
    "세준이가 운전해야 하는 거리의 최솟값을 출력하시오.\n",
    "\n",
    "## 입력\n",
    "첫째 줄에 지름길의 개수 N과 고속도로의 길이 D가 주어진다. N은 12 이하인 양의 정수이고, D는 10,000보다 작거나 같은 자연수이다. 다음 N개의 줄에 지름길의 시작 위치, 도착 위치, 지름길의 길이가 주어진다. 모든 위치와 길이는 10,000보다 작거나 같은 음이 아닌 정수이다. 지름길의 시작 위치는 도착 위치보다 작다.\n",
    "\n",
    "## 출력\n",
    "세준이가 운전해야하는 거리의 최솟값을 출력하시오."
   ]
  },
  {
   "cell_type": "code",
   "execution_count": 6,
   "metadata": {},
   "outputs": [
    {
     "name": "stdout",
     "output_type": "stream",
     "text": [
      "70\n"
     ]
    }
   ],
   "source": [
    "N, D = map(int, input().split())\n",
    "\n",
    "fast_lines = {}\n",
    "for _ in range(N):\n",
    "    s, e, d = map(int, input().split())\n",
    "    if s not in fast_lines:\n",
    "        fast_lines[s] = [d, e-d]\n",
    "    else:\n",
    "        if fast_lines[s][0] > d:\n",
    "            fast_lines[s] = [d, e-d]\n",
    "    \n",
    "way = [x for x in range(D+1)]\n",
    "for idx, spot in enumerate(way):\n",
    "    if idx in fast_lines:\n",
    "        d, l = fast_lines[idx]\n",
    "        e = d + l\n",
    "        for num, i in enumerate(range(e, D+1)):\n",
    "            way[i] = min(way[i], way[idx] + d + num)\n",
    "print(way[-1])"
   ]
  },
  {
   "cell_type": "code",
   "execution_count": 9,
   "metadata": {},
   "outputs": [
    {
     "name": "stdout",
     "output_type": "stream",
     "text": [
      "70\n"
     ]
    }
   ],
   "source": [
    "N, D = map(int, input().split())\n",
    "\n",
    "fast_lines = {}\n",
    "for _ in range(N):\n",
    "    s, e, d = map(int, input().split())\n",
    "    if e > D:\n",
    "        continue\n",
    "    if s not in fast_lines:\n",
    "        fast_lines[s] = [[d, e]]\n",
    "    else:\n",
    "        fast_lines[s].append([d, e])\n",
    "    \n",
    "way = [x for x in range(D+1)]\n",
    "for idx, spot in enumerate(way):\n",
    "    if idx in fast_lines:\n",
    "        for line in fast_lines[idx]:\n",
    "            d, e = line\n",
    "            if way[idx] + d < way[e]:\n",
    "                for num, i in enumerate(range(e, D+1)):\n",
    "                    way[i] = min(way[i], way[idx] + d + num)\n",
    "print(way[-1])"
   ]
  },
  {
   "cell_type": "code",
   "execution_count": null,
   "metadata": {},
   "outputs": [],
   "source": []
  }
 ],
 "metadata": {
  "kernelspec": {
   "display_name": "base",
   "language": "python",
   "name": "python3"
  },
  "language_info": {
   "codemirror_mode": {
    "name": "ipython",
    "version": 3
   },
   "file_extension": ".py",
   "mimetype": "text/x-python",
   "name": "python",
   "nbconvert_exporter": "python",
   "pygments_lexer": "ipython3",
   "version": "3.9.13"
  },
  "orig_nbformat": 4
 },
 "nbformat": 4,
 "nbformat_minor": 2
}
