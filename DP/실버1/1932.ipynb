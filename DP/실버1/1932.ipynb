{
 "cells": [
  {
   "attachments": {},
   "cell_type": "markdown",
   "metadata": {},
   "source": [
    "# 정수 삼각형\n",
    "\n",
    "## 문제\n",
    "```\n",
    "        7\n",
    "      3   8\n",
    "    8   1   0\n",
    "  2   7   4   4\n",
    "4   5   2   6   5\n",
    "```\n",
    "위 그림은 크기가 5인 정수 삼각형의 한 모습이다.\n",
    "\n",
    "맨 위층 7부터 시작해서 아래에 있는 수 중 하나를 선택하여 아래층으로 내려올 때, 이제까지 선택된 수의 합이 최대가 되는 경로를 구하는 프로그램을 작성하라. 아래층에 있는 수는 현재 층에서 선택된 수의 대각선 왼쪽 또는 대각선 오른쪽에 있는 것 중에서만 선택할 수 있다.\n",
    "\n",
    "삼각형의 크기는 1 이상 500 이하이다. 삼각형을 이루고 있는 각 수는 모두 정수이며, 범위는 0 이상 9999 이하이다.\n",
    "\n",
    "## 입력\n",
    "첫째 줄에 삼각형의 크기 n(1 ≤ n ≤ 500)이 주어지고, 둘째 줄부터 n+1번째 줄까지 정수 삼각형이 주어진다.\n",
    "\n",
    "## 출력\n",
    "첫째 줄에 합이 최대가 되는 경로에 있는 수의 합을 출력한다."
   ]
  },
  {
   "cell_type": "code",
   "execution_count": 1,
   "metadata": {},
   "outputs": [
    {
     "name": "stdout",
     "output_type": "stream",
     "text": [
      "30\n"
     ]
    }
   ],
   "source": [
    "N = int(input())\n",
    "\n",
    "graph = [list(map(int, input().split())) for x in range(N)]\n",
    "dp = [[0] * i for i in range(1, N+1)]\n",
    "dp[0][0] = graph[0][0]\n",
    "for idx, arr in enumerate(dp[:-1]):\n",
    "    for num, value in enumerate(arr):\n",
    "        dp[idx+1][num] = max(dp[idx+1][num], dp[idx][num] + graph[idx+1][num])\n",
    "        dp[idx+1][num+1] = max(dp[idx+1][num+1], dp[idx][num] + graph[idx+1][num+1])\n",
    "\n",
    "print(max(dp[-1]))"
   ]
  },
  {
   "cell_type": "code",
   "execution_count": null,
   "metadata": {},
   "outputs": [],
   "source": []
  }
 ],
 "metadata": {
  "kernelspec": {
   "display_name": "base",
   "language": "python",
   "name": "python3"
  },
  "language_info": {
   "codemirror_mode": {
    "name": "ipython",
    "version": 3
   },
   "file_extension": ".py",
   "mimetype": "text/x-python",
   "name": "python",
   "nbconvert_exporter": "python",
   "pygments_lexer": "ipython3",
   "version": "3.9.13"
  },
  "orig_nbformat": 4
 },
 "nbformat": 4,
 "nbformat_minor": 2
}
