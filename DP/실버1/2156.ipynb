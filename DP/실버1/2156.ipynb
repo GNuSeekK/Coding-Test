{
 "cells": [
  {
   "attachments": {},
   "cell_type": "markdown",
   "metadata": {},
   "source": [
    "# 포도주 시식\n",
    "\n",
    "## 문제\n",
    "효주는 포도주 시식회에 갔다. 그 곳에 갔더니, 테이블 위에 다양한 포도주가 들어있는 포도주 잔이 일렬로 놓여 있었다. 효주는 포도주 시식을 하려고 하는데, 여기에는 다음과 같은 두 가지 규칙이 있다.\n",
    "\n",
    "포도주 잔을 선택하면 그 잔에 들어있는 포도주는 모두 마셔야 하고, 마신 후에는 원래 위치에 다시 놓아야 한다.\n",
    "연속으로 놓여 있는 3잔을 모두 마실 수는 없다.\n",
    "효주는 될 수 있는 대로 많은 양의 포도주를 맛보기 위해서 어떤 포도주 잔을 선택해야 할지 고민하고 있다. 1부터 n까지의 번호가 붙어 있는 n개의 포도주 잔이 순서대로 테이블 위에 놓여 있고, 각 포도주 잔에 들어있는 포도주의 양이 주어졌을 때, 효주를 도와 가장 많은 양의 포도주를 마실 수 있도록 하는 프로그램을 작성하시오. \n",
    "\n",
    "예를 들어 6개의 포도주 잔이 있고, 각각의 잔에 순서대로 6, 10, 13, 9, 8, 1 만큼의 포도주가 들어 있을 때, 첫 번째, 두 번째, 네 번째, 다섯 번째 포도주 잔을 선택하면 총 포도주 양이 33으로 최대로 마실 수 있다.\n",
    "\n",
    "## 입력\n",
    "첫째 줄에 포도주 잔의 개수 n이 주어진다. (1 ≤ n ≤ 10,000) 둘째 줄부터 n+1번째 줄까지 포도주 잔에 들어있는 포도주의 양이 순서대로 주어진다. 포도주의 양은 1,000 이하의 음이 아닌 정수이다.\n",
    "\n",
    "## 출력\n",
    "첫째 줄에 최대로 마실 수 있는 포도주의 양을 출력한다."
   ]
  },
  {
   "cell_type": "code",
   "execution_count": 4,
   "metadata": {},
   "outputs": [
    {
     "name": "stdout",
     "output_type": "stream",
     "text": [
      "[0, 6, 6]\n",
      "[6, 10, 16]\n",
      "[16, 19, 23]\n",
      "[23, 25, 28]\n",
      "[28, 31, 33]\n",
      "[33, 29, 32]\n",
      "33\n"
     ]
    }
   ],
   "source": [
    "N = int(input())\n",
    "\n",
    "wines = [int(input()) for _ in range(N)]\n",
    "\n",
    "dp = [0] * 3\n",
    "\n",
    "for wine in wines:\n",
    "    new_dp = [max(dp[0], dp[1], dp[2]), dp[0] + wine, dp[1] + wine]\n",
    "    dp = new_dp\n",
    "print(max(dp))\n"
   ]
  },
  {
   "cell_type": "code",
   "execution_count": null,
   "metadata": {},
   "outputs": [],
   "source": [
    "# 경우의 수를 고려하여 dp[-3] 에서 하나 쉬고 와인 2번 먹는 경우, dp[-1] 그대로 올 경우 (이번꺼 안먹음), dp[-2] 에서 이번와인 먹을 경우\n",
    "# 3가지 생각해서 하면 더 빠르게 실행 가능"
   ]
  }
 ],
 "metadata": {
  "kernelspec": {
   "display_name": "base",
   "language": "python",
   "name": "python3"
  },
  "language_info": {
   "codemirror_mode": {
    "name": "ipython",
    "version": 3
   },
   "file_extension": ".py",
   "mimetype": "text/x-python",
   "name": "python",
   "nbconvert_exporter": "python",
   "pygments_lexer": "ipython3",
   "version": "3.9.13"
  },
  "orig_nbformat": 4
 },
 "nbformat": 4,
 "nbformat_minor": 2
}
