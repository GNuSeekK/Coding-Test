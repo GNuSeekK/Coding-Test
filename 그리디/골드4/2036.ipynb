{
 "cells": [
  {
   "attachments": {},
   "cell_type": "markdown",
   "metadata": {},
   "source": [
    "# 수열의 점수 (https://www.acmicpc.net/problem/2036)\n",
    "\n",
    "## 문제\n",
    "n개의 정수로 이루어진 수열이 있다. 이 수열에서 한 정수를 제거하거나, 또는 두 정수를 제거할 수 있다. 한 정수를 제거하는 경우에는 그 정수가 점수가 되고, 두 정수를 제거하는 경우에는 두 정수의 곱이 점수가 된다. 이를 반복하여 수열에 아무 수도 남지 않게 되었을 때, 점수의 총 합의 최대를 구하는 프로그램을 작성하시오.\n",
    "\n",
    "예를 들어 -1, 5, -3, 5, 1과 같은 수열이 있다고 하자. 먼저 1을 제거하고, 다음으로는 5와 5를 제거하고, 다음에는 -1과 -3을 제거했다고 하자. 이 경우 각각 점수가 1, 25, 3이 되어 총 합이 29가 된다.\n",
    "\n",
    "## 입력\n",
    "첫째 줄에 정수 n(1 ≤ n ≤ 100,000)이 주어진다. 다음 n개의 줄에는 절댓값이 1,000,000을 넘지 않는 정수가 n개 주어진다.\n",
    "\n",
    "## 출력\n",
    "첫째 줄에 최대 점수를 출력한다."
   ]
  },
  {
   "cell_type": "code",
   "execution_count": null,
   "metadata": {},
   "outputs": [],
   "source": [
    "import sys\n",
    "input = sys.stdin.readline\n",
    "n = int(input())\n",
    "\n",
    "numbers = [int(input()) for _ in range(n)]\n",
    "pnums = []\n",
    "mnums = []\n",
    "result = 0\n",
    "for num in numbers:\n",
    "    if num <= 0:\n",
    "        mnums.append(num)\n",
    "    elif num == 1:\n",
    "        result += 1\n",
    "    else:\n",
    "        pnums.append(num)\n",
    "pnums.sort()\n",
    "mnums.sort(key=lambda x: -1 * x)\n",
    "\n",
    "def mulsum(numbers):\n",
    "    result = 0\n",
    "    while len(numbers) > 1:\n",
    "        num1 = numbers.pop()\n",
    "        num2 = numbers.pop()\n",
    "        result += num1 * num2\n",
    "    if len(numbers) == 1:\n",
    "        result += numbers[0]\n",
    "    return result\n",
    "\n",
    "result += mulsum(pnums)\n",
    "result += mulsum(mnums)\n",
    "print(result)"
   ]
  }
 ],
 "metadata": {
  "language_info": {
   "name": "python"
  },
  "orig_nbformat": 4
 },
 "nbformat": 4,
 "nbformat_minor": 2
}
