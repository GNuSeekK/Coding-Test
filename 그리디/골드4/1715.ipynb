{
 "cells": [
  {
   "attachments": {},
   "cell_type": "markdown",
   "metadata": {},
   "source": [
    "# 카드 정렬하기 (https://www.acmicpc.net/problem/1715)\n",
    "\n",
    "## 문제\n",
    "정렬된 두 묶음의 숫자 카드가 있다고 하자. 각 묶음의 카드의 수를 A, B라 하면 보통 두 묶음을 합쳐서 하나로 만드는 데에는 A+B 번의 비교를 해야 한다. 이를테면, 20장의 숫자 카드 묶음과 30장의 숫자 카드 묶음을 합치려면 50번의 비교가 필요하다.\n",
    "\n",
    "매우 많은 숫자 카드 묶음이 책상 위에 놓여 있다. 이들을 두 묶음씩 골라 서로 합쳐나간다면, 고르는 순서에 따라서 비교 횟수가 매우 달라진다. 예를 들어 10장, 20장, 40장의 묶음이 있다면 10장과 20장을 합친 뒤, 합친 30장 묶음과 40장을 합친다면 (10 + 20) + (30 + 40) = 100번의 비교가 필요하다. 그러나 10장과 40장을 합친 뒤, 합친 50장 묶음과 20장을 합친다면 (10 + 40) + (50 + 20) = 120 번의 비교가 필요하므로 덜 효율적인 방법이다.\n",
    "\n",
    "N개의 숫자 카드 묶음의 각각의 크기가 주어질 때, 최소한 몇 번의 비교가 필요한지를 구하는 프로그램을 작성하시오.\n",
    "\n",
    "## 입력\n",
    "첫째 줄에 N이 주어진다. (1 ≤ N ≤ 100,000) 이어서 N개의 줄에 걸쳐 숫자 카드 묶음의 각각의 크기가 주어진다. 숫자 카드 묶음의 크기는 1,000보다 작거나 같은 양의 정수이다.\n",
    "\n",
    "## 출력\n",
    "첫째 줄에 최소 비교 횟수를 출력한다."
   ]
  },
  {
   "cell_type": "code",
   "execution_count": 15,
   "metadata": {},
   "outputs": [
    {
     "name": "stdout",
     "output_type": "stream",
     "text": [
      "[123]\n",
      "[123, 456]\n",
      "[123, 456, 234]\n",
      "[123, 456, 234, 998]\n",
      "[12, 123, 234, 998, 456]\n",
      "[7, 123, 12, 998, 456, 234]\n",
      "[7, 123, 12, 998, 456, 234, 876]\n",
      "[7, 123, 12, 887, 456, 234, 876, 998]\n",
      "[7, 123, 12, 455, 456, 234, 876, 998, 887]\n",
      "[7, 123, 12, 455, 234, 234, 876, 998, 887, 456]\n",
      "[7, 123, 12, 455, 234, 234, 876, 998, 887, 456]\n",
      "\n",
      "[123, 234, 234, 455, 887, 456, 876, 998]\n",
      "[19, 123, 234, 234, 887, 456, 876, 998, 455]\n",
      "\n",
      "[234, 234, 456, 455, 887, 998, 876]\n",
      "[142, 234, 456, 234, 887, 998, 876, 455]\n",
      "\n",
      "[234, 455, 456, 876, 887, 998]\n",
      "[234, 455, 376, 876, 887, 998, 456]\n",
      "\n",
      "[455, 876, 456, 998, 887]\n",
      "[455, 876, 456, 998, 887, 610]\n",
      "\n",
      "[610, 876, 887, 998]\n",
      "[610, 876, 887, 998, 911]\n",
      "\n",
      "[887, 911, 998]\n",
      "[887, 911, 998, 1486]\n",
      "\n",
      "[998, 1486]\n",
      "[998, 1486, 1798]\n",
      "\n",
      "[1798]\n",
      "[1798, 2484]\n",
      "\n",
      "[]\n",
      "[4282]\n",
      "\n",
      "-12108\n"
     ]
    }
   ],
   "source": [
    "import sys\n",
    "from collections import deque\n",
    "from heapq import heappush, heappop, heapify\n",
    "input = sys.stdin.readline\n",
    "N = int(input())\n",
    "\n",
    "cards = [int(input()) for _ in range(N)]\n",
    "queue = []\n",
    "for card in cards:\n",
    "    heappush(queue, card)\n",
    "\n",
    "\n",
    "result = 0\n",
    "while len(queue) > 1:\n",
    "    num1 = heappop(queue)\n",
    "    num2 = heappop(queue)\n",
    "    new_num = num1 + num2\n",
    "    result += new_num\n",
    "    heappush(queue, new_num)\n",
    "\n",
    "print(result)"
   ]
  },
  {
   "cell_type": "code",
   "execution_count": null,
   "metadata": {},
   "outputs": [],
   "source": []
  }
 ],
 "metadata": {
  "kernelspec": {
   "display_name": "base",
   "language": "python",
   "name": "python3"
  },
  "language_info": {
   "codemirror_mode": {
    "name": "ipython",
    "version": 3
   },
   "file_extension": ".py",
   "mimetype": "text/x-python",
   "name": "python",
   "nbconvert_exporter": "python",
   "pygments_lexer": "ipython3",
   "version": "3.9.13"
  },
  "orig_nbformat": 4
 },
 "nbformat": 4,
 "nbformat_minor": 2
}
