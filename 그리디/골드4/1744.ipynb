{
 "cells": [
  {
   "attachments": {},
   "cell_type": "markdown",
   "metadata": {},
   "source": [
    "# 수 묶기 (https://www.acmicpc.net/problem/1744)\n",
    "\n",
    "## 문제\n",
    "길이가 N인 수열이 주어졌을 때, 그 수열의 합을 구하려고 한다. 하지만, 그냥 그 수열의 합을 모두 더해서 구하는 것이 아니라, 수열의 두 수를 묶으려고 한다. 어떤 수를 묶으려고 할 때, 위치에 상관없이 묶을 수 있다. 하지만, 같은 위치에 있는 수(자기 자신)를 묶는 것은 불가능하다. 그리고 어떤 수를 묶게 되면, 수열의 합을 구할 때 묶은 수는 서로 곱한 후에 더한다.\n",
    "\n",
    "예를 들면, 어떤 수열이 {0, 1, 2, 4, 3, 5}일 때, 그냥 이 수열의 합을 구하면 0+1+2+4+3+5 = 15이다. 하지만, 2와 3을 묶고, 4와 5를 묶게 되면, $0+1+(2*3)+(4*5) = 27$이 되어 최대가 된다.\n",
    "\n",
    "수열의 모든 수는 단 한번만 묶거나, 아니면 묶지 않아야한다.\n",
    "\n",
    "수열이 주어졌을 때, 수열의 각 수를 적절히 묶었을 때, 그 합이 최대가 되게 하는 프로그램을 작성하시오.\n",
    "\n",
    "## 입력\n",
    "첫째 줄에 수열의 크기 N이 주어진다. N은 50보다 작은 자연수이다. 둘째 줄부터 N개의 줄에 수열의 각 수가 주어진다. 수열의 수는 -1,000보다 크거나 같고, 1,000보다 작거나 같은 정수이다.\n",
    "\n",
    "## 출력\n",
    "수를 합이 최대가 나오게 묶었을 때 합을 출력한다. 정답은 항상 231보다 작다."
   ]
  },
  {
   "cell_type": "code",
   "execution_count": 23,
   "metadata": {},
   "outputs": [
    {
     "name": "stdout",
     "output_type": "stream",
     "text": [
      "8\n"
     ]
    }
   ],
   "source": [
    "N = int(input())\n",
    "\n",
    "nums = [int(input()) for _ in range(N)]\n",
    "nums.sort()\n",
    "minus_nums = []\n",
    "plus_nums = []\n",
    "one_nums = []\n",
    "for idx, num in enumerate(nums):\n",
    "    if num <= 0:\n",
    "        minus_nums.append(num)\n",
    "    elif num == 1:\n",
    "        one_nums.append(num)\n",
    "    else:\n",
    "        plus_nums.append(num)\n",
    "minus_nums.sort(reverse=True)\n",
    "result = sum(one_nums)\n",
    "for data in [plus_nums, minus_nums]:\n",
    "    # print(data)\n",
    "    # print(len(data) // 2)\n",
    "    if len(data) == 0:\n",
    "        continue\n",
    "    elif len(data) == 1:\n",
    "        result += data[0]\n",
    "    elif len(data) % 2 == 0:\n",
    "        result += sum([data[idx*2] * data[idx*2+1] for idx in range(len(data) // 2)])\n",
    "    else:\n",
    "        result += sum([data[idx*2+1] * data[idx*2+2] for idx in range(len(data) // 2)])\n",
    "        result += data[0]\n",
    "    \n",
    "print(result)"
   ]
  },
  {
   "cell_type": "code",
   "execution_count": null,
   "metadata": {},
   "outputs": [],
   "source": []
  }
 ],
 "metadata": {
  "kernelspec": {
   "display_name": "base",
   "language": "python",
   "name": "python3"
  },
  "language_info": {
   "codemirror_mode": {
    "name": "ipython",
    "version": 3
   },
   "file_extension": ".py",
   "mimetype": "text/x-python",
   "name": "python",
   "nbconvert_exporter": "python",
   "pygments_lexer": "ipython3",
   "version": "3.9.13"
  },
  "orig_nbformat": 4
 },
 "nbformat": 4,
 "nbformat_minor": 2
}
