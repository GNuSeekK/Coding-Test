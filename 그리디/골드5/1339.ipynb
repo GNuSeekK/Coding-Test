{
 "cells": [
  {
   "attachments": {},
   "cell_type": "markdown",
   "metadata": {},
   "source": [
    "# 단어 수학 (https://www.acmicpc.net/problem/1339)\n",
    "\n",
    "## 문제\n",
    "민식이는 수학학원에서 단어 수학 문제를 푸는 숙제를 받았다.\n",
    "\n",
    "단어 수학 문제는 N개의 단어로 이루어져 있으며, 각 단어는 알파벳 대문자로만 이루어져 있다. 이때, 각 알파벳 대문자를 0부터 9까지의 숫자 중 하나로 바꿔서 N개의 수를 합하는 문제이다. 같은 알파벳은 같은 숫자로 바꿔야 하며, 두 개 이상의 알파벳이 같은 숫자로 바뀌어지면 안 된다.\n",
    "\n",
    "예를 들어, GCF + ACDEB를 계산한다고 할 때, A = 9, B = 4, C = 8, D = 6, E = 5, F = 3, G = 7로 결정한다면, 두 수의 합은 99437이 되어서 최대가 될 것이다.\n",
    "\n",
    "N개의 단어가 주어졌을 때, 그 수의 합을 최대로 만드는 프로그램을 작성하시오.\n",
    "\n",
    "## 입력\n",
    "첫째 줄에 단어의 개수 N(1 ≤ N ≤ 10)이 주어진다. 둘째 줄부터 N개의 줄에 단어가 한 줄에 하나씩 주어진다. 단어는 알파벳 대문자로만 이루어져있다. 모든 단어에 포함되어 있는 알파벳은 최대 10개이고, 수의 최대 길이는 8이다. 서로 다른 문자는 서로 다른 숫자를 나타낸다.\n",
    "\n",
    "## 출력\n",
    "첫째 줄에 주어진 단어의 합의 최댓값을 출력한다."
   ]
  },
  {
   "cell_type": "code",
   "execution_count": 17,
   "metadata": {},
   "outputs": [
    {
     "name": "stdout",
     "output_type": "stream",
     "text": [
      "1\n",
      "a 90\n",
      "b 186\n",
      "[['a', '1', '0'], ['b', '1', '2']]\n",
      "186\n"
     ]
    }
   ],
   "source": [
    "N = int(input())\n",
    "\n",
    "words = [input() for _ in range(N)]\n",
    "words.sort(key = lambda x: len(x), reverse=True)\n",
    "max_len = len(words[0])\n",
    "\n",
    "result_dict = {}\n",
    "\n",
    "for word in words:\n",
    "    for idx, spell in enumerate(word):\n",
    "        if spell not in result_dict:\n",
    "            result_dict[spell] = ['0'] * (max_len)\n",
    "        tmp_idx = max_len - len(word) + idx\n",
    "        result_dict[spell][tmp_idx] = str(int(result_dict[spell][tmp_idx]) + 1)\n",
    "\n",
    "\n",
    "values = [[x] + y for x, y in result_dict.items()]\n",
    "for idx, value in enumerate(values):\n",
    "    alpha = value[0]\n",
    "    value = value[1:]\n",
    "    for tmp in range(len(value)):\n",
    "        num = int(value[-1-tmp])\n",
    "        if num >= 10:\n",
    "            value[-1-tmp] = str(num % 10)\n",
    "            value[-2-tmp] = str(int(value[-2-tmp]) + 1)\n",
    "    values[idx] = [alpha] + value\n",
    "for i in range(max_len, 0, -1):\n",
    "    print(i)\n",
    "    values.sort(key = lambda x: int(x[i]), reverse=True)\n",
    "result = 0\n",
    "words_num = len(values)\n",
    "for tmp, value in enumerate(values):\n",
    "    alpha = value[0]\n",
    "    # print(value)\n",
    "    value = value[::-1][:-1]\n",
    "    # print(alpha, value)\n",
    "    for idx, num in enumerate(value):\n",
    "        result += 10 ** idx * int(num) * (9 - tmp)\n",
    "    print(alpha, result)\n",
    "print(values)\n",
    "print(result)\n",
    "    "
   ]
  },
  {
   "cell_type": "code",
   "execution_count": 13,
   "metadata": {},
   "outputs": [
    {
     "data": {
      "text/plain": [
       "188"
      ]
     },
     "execution_count": 13,
     "metadata": {},
     "output_type": "execute_result"
    }
   ],
   "source": [
    "99 + 89"
   ]
  },
  {
   "cell_type": "code",
   "execution_count": 15,
   "metadata": {},
   "outputs": [
    {
     "data": {
      "text/plain": [
       "188"
      ]
     },
     "execution_count": 15,
     "metadata": {},
     "output_type": "execute_result"
    }
   ],
   "source": [
    "90 + 18 + 80"
   ]
  },
  {
   "cell_type": "code",
   "execution_count": null,
   "metadata": {},
   "outputs": [],
   "source": []
  },
  {
   "cell_type": "code",
   "execution_count": 17,
   "metadata": {},
   "outputs": [
    {
     "name": "stdout",
     "output_type": "stream",
     "text": [
      "1780\n",
      "1790\n"
     ]
    }
   ],
   "source": [
    "print(988 * 1 + 88 * 9)\n",
    "print(899 * 1 + 99 * 9)\n"
   ]
  },
  {
   "cell_type": "code",
   "execution_count": null,
   "metadata": {},
   "outputs": [],
   "source": []
  },
  {
   "cell_type": "code",
   "execution_count": null,
   "metadata": {},
   "outputs": [],
   "source": []
  },
  {
   "cell_type": "code",
   "execution_count": null,
   "metadata": {},
   "outputs": [],
   "source": []
  },
  {
   "cell_type": "code",
   "execution_count": null,
   "metadata": {},
   "outputs": [],
   "source": []
  },
  {
   "cell_type": "code",
   "execution_count": null,
   "metadata": {},
   "outputs": [],
   "source": []
  },
  {
   "cell_type": "code",
   "execution_count": null,
   "metadata": {},
   "outputs": [],
   "source": []
  }
 ],
 "metadata": {
  "kernelspec": {
   "display_name": "base",
   "language": "python",
   "name": "python3"
  },
  "language_info": {
   "codemirror_mode": {
    "name": "ipython",
    "version": 3
   },
   "file_extension": ".py",
   "mimetype": "text/x-python",
   "name": "python",
   "nbconvert_exporter": "python",
   "pygments_lexer": "ipython3",
   "version": "3.9.13"
  },
  "orig_nbformat": 4
 },
 "nbformat": 4,
 "nbformat_minor": 2
}
