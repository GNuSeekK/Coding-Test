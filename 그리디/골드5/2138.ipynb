{
 "cells": [
  {
   "attachments": {},
   "cell_type": "markdown",
   "metadata": {},
   "source": [
    "# 전구와 스위치 (https://www.acmicpc.net/problem/2138)\n",
    "\n",
    "## 문제\n",
    "N개의 스위치와 N개의 전구가 있다. 각각의 전구는 켜져 있는 상태와 꺼져 있는 상태 중 하나의 상태를 가진다. i(1 < i < N)번 스위치를 누르면 i-1, i, i+1의 세 개의 전구의 상태가 바뀐다. 즉, 꺼져 있는 전구는 켜지고, 켜져 있는 전구는 꺼지게 된다. 1번 스위치를 눌렀을 경우에는 1, 2번 전구의 상태가 바뀌고, N번 스위치를 눌렀을 경우에는 N-1, N번 전구의 상태가 바뀐다.\n",
    "\n",
    "N개의 전구들의 현재 상태와 우리가 만들고자 하는 상태가 주어졌을 때, 그 상태를 만들기 위해 스위치를 최소 몇 번 누르면 되는지 알아내는 프로그램을 작성하시오.\n",
    "\n",
    "## 입력\n",
    "첫째 줄에 자연수 N(2 ≤ N ≤ 100,000)이 주어진다. 다음 줄에는 전구들의 현재 상태를 나타내는 숫자 N개가 공백 없이 주어진다. 그 다음 줄에는 우리가 만들고자 하는 전구들의 상태를 나타내는 숫자 N개가 공백 없이 주어진다. 0은 켜져 있는 상태, 1은 꺼져 있는 상태를 의미한다.\n",
    "\n",
    "## 출력\n",
    "첫째 줄에 답을 출력한다. 불가능한 경우에는 -1을 출력한다.\n",
    "\n"
   ]
  },
  {
   "cell_type": "code",
   "execution_count": 9,
   "metadata": {},
   "outputs": [
    {
     "name": "stdout",
     "output_type": "stream",
     "text": [
      "1\n"
     ]
    }
   ],
   "source": [
    "N = int(input())\n",
    "\n",
    "lights = list(map(int, input())) + [0]\n",
    "result = list(map(int, input())) + [0]\n",
    "\n",
    "distance = [abs(x - y) for x, y in zip(lights, result)]\n",
    "distance2 = [abs(x - y) for x, y in zip(lights, result)]\n",
    "distance2[0] = (distance2[0] + 1) % 2\n",
    "distance2[1] = (distance2[1] + 1) % 2\n",
    "\n",
    "cnt = [0, 1]\n",
    "for idx in range(1, N):\n",
    "    if distance[idx-1] == 1:\n",
    "        cnt[0] += 1\n",
    "        distance[idx-1] = 0\n",
    "        distance[idx] = (distance[idx] + 1) % 2\n",
    "        distance[idx+1] = (distance[idx+1] + 1) % 2\n",
    "    if distance2[idx-1] == 1:\n",
    "        cnt[1] += 1\n",
    "        distance2[idx-1] = 0\n",
    "        distance2[idx] = (distance2[idx] + 1) % 2\n",
    "        distance2[idx+1] = (distance2[idx+1] + 1) % 2\n",
    "        \n",
    "\n",
    "if distance[-2] == 1:\n",
    "    cnt[0] = -1\n",
    "if distance2[-2] == 1:\n",
    "    cnt[1] = -1\n",
    "cnt = [x if x != -1 else 1e9 for x in cnt]\n",
    "\n",
    "cnt = min(cnt)\n",
    "if cnt == 1e9:\n",
    "    print(-1)\n",
    "else:\n",
    "    print(cnt)"
   ]
  },
  {
   "cell_type": "code",
   "execution_count": null,
   "metadata": {},
   "outputs": [],
   "source": [
    "0010111\n",
    "1110100\n",
    "1111010\n",
    "1111101\n",
    "1111110\n"
   ]
  }
 ],
 "metadata": {
  "kernelspec": {
   "display_name": "base",
   "language": "python",
   "name": "python3"
  },
  "language_info": {
   "codemirror_mode": {
    "name": "ipython",
    "version": 3
   },
   "file_extension": ".py",
   "mimetype": "text/x-python",
   "name": "python",
   "nbconvert_exporter": "python",
   "pygments_lexer": "ipython3",
   "version": "3.9.13"
  },
  "orig_nbformat": 4
 },
 "nbformat": 4,
 "nbformat_minor": 2
}
