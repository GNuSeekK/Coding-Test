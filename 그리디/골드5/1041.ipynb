{
 "cells": [
  {
   "cell_type": "code",
   "execution_count": null,
   "metadata": {},
   "outputs": [],
   "source": [
    "# N^3의 주사위 일때\n",
    "# 주사위 1면이 보이는 갯수 = 3면 2면 제외한 갯수\n",
    "# 주사위 2면이 보이는 갯수 = (n-1) * 4 + (n-2) * 4\n",
    "# 주사위 3면이 보이는 갯수 = 1일때를 제외 하고는 4개\n",
    "\n",
    "N = int(input())\n",
    "dice = list(map(int, input().split()))\n",
    "\n",
    "if N == 1:\n",
    "    print(sum(dice) - max(dice))\n",
    "else:\n",
    "    dim2 = (N-1) * 4 + (N-2) * 4\n",
    "    dim3 = 4\n",
    "    dim1 = (N-2) * (N-1) * 4 + (N-2) * (N-2)\n",
    "    min_vals = [min([dice[0], dice[5]]), min([dice[2], dice[3]]), min([dice[1], dice[4]])]\n",
    "    min_vals.sort()\n",
    "    \n",
    "    result = (dim1 + dim2 + dim3) * min_vals[0] + (dim2 + dim3) * min_vals[1] + (dim3) * min_vals[2]\n",
    "    print(result)\n",
    "    \n"
   ]
  }
 ],
 "metadata": {
  "language_info": {
   "name": "python"
  },
  "orig_nbformat": 4
 },
 "nbformat": 4,
 "nbformat_minor": 2
}
