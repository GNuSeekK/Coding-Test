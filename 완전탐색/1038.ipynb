{
 "cells": [
  {
   "attachments": {},
   "cell_type": "markdown",
   "metadata": {},
   "source": [
    "## 1038번 감소하는 수"
   ]
  },
  {
   "cell_type": "code",
   "execution_count": null,
   "metadata": {},
   "outputs": [],
   "source": [
    "N = int(input())\n",
    "from itertools import combinations\n",
    "\n",
    "numbers = []\n",
    "for i in range(1,11):\n",
    "    comb = list(combinations(['0', '1', '2', '3', '4', '5', '6', '7', '8', '9'],i))\n",
    "    for data in comb:\n",
    "        numbers.append(int(''.join(sorted(data, reverse = True))))\n",
    "numbers = sorted(list(set(numbers)))\n",
    "\n",
    "if N >= len(numbers):\n",
    "    print('-1')\n",
    "else:\n",
    "    print(numbers[N])"
   ]
  }
 ],
 "metadata": {
  "language_info": {
   "name": "python"
  },
  "orig_nbformat": 4
 },
 "nbformat": 4,
 "nbformat_minor": 2
}
