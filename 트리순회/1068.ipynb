{
 "cells": [
  {
   "cell_type": "code",
   "execution_count": 2,
   "metadata": {},
   "outputs": [
    {
     "name": "stdout",
     "output_type": "stream",
     "text": [
      "5\n",
      "{0: [0, 1], 1: [2, 3], 2: [], 3: [], 4: []}\n"
     ]
    }
   ],
   "source": [
    "N = int(input())\n",
    "\n",
    "def visit_son(idx):\n",
    "    nums = graph[idx]\n",
    "    for num in nums:\n",
    "        if visited[num]:\n",
    "            continue\n",
    "        visited[num] = True\n",
    "        visit_son[num]\n",
    "\n",
    "nodes = list(map(int, input().split()))\n",
    "visited = [False for _ in range(N)]\n",
    "graph = {\n",
    "    x : [] for x in range(N)\n",
    "}\n",
    "\n",
    "for num, parent in enumerate(nodes[1:]):\n",
    "    graph[parent].append(num)\n",
    "    \n",
    "del_num = int(input())\n",
    "visit_son(del_num)\n",
    "print(N - sum(visited))\n",
    "print(graph)\n"
   ]
  },
  {
   "cell_type": "code",
   "execution_count": null,
   "metadata": {},
   "outputs": [],
   "source": []
  }
 ],
 "metadata": {
  "kernelspec": {
   "display_name": "base",
   "language": "python",
   "name": "python3"
  },
  "language_info": {
   "codemirror_mode": {
    "name": "ipython",
    "version": 3
   },
   "file_extension": ".py",
   "mimetype": "text/x-python",
   "name": "python",
   "nbconvert_exporter": "python",
   "pygments_lexer": "ipython3",
   "version": "3.9.13"
  },
  "orig_nbformat": 4,
  "vscode": {
   "interpreter": {
    "hash": "373cf7882dd2b0ff748586fb9d2cdbd1307e11ee18f08b7fa9dde6b6aa014345"
   }
  }
 },
 "nbformat": 4,
 "nbformat_minor": 2
}
